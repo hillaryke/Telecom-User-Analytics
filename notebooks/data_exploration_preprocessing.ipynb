{
 "cells": [
  {
   "cell_type": "markdown",
   "source": [
    "# Data Exploration and Preprocessing\n",
    "\n",
    "In this notebook, we will load the dataset, explore it, and perform necessary preprocessing tasks."
   ],
   "metadata": {
    "collapsed": false
   },
   "id": "477bbb325c679afd"
  },
  {
   "cell_type": "markdown",
   "source": [],
   "metadata": {
    "collapsed": false
   },
   "id": "616804764891f743"
  },
  {
   "cell_type": "code",
   "execution_count": 48,
   "id": "initial_id",
   "metadata": {
    "collapsed": true
   },
   "outputs": [],
   "source": [
    "# Import necessary libraries\n",
    "import pandas as pd\n",
    "from sqlalchemy import create_engine, text\n",
    "import matplotlib.pyplot as plt\n",
    "import seaborn as sns\n",
    "\n",
    "# Scikit learn libraries\n",
    "from sklearn.pipeline import Pipeline\n",
    "from sklearn.impute import SimpleImputer\n",
    "from sklearn.preprocessing import StandardScaler, OneHotEncoder\n",
    "from sklearn.compose import ColumnTransformer"
   ]
  },
  {
   "cell_type": "markdown",
   "source": [
    "## Load the Data\n",
    "\n",
    "We will load the data from postgres database into a pandas DataFrame."
   ],
   "metadata": {
    "collapsed": false
   },
   "id": "92a140c9d1b0f44"
  },
  {
   "cell_type": "code",
   "outputs": [],
   "source": [
    "# Define a dictionary with the connection details\n",
    "db_config = {\n",
    "    'username': 'postgres',\n",
    "    'password': 'pass123',\n",
    "    'host': 'localhost',\n",
    "    'port': '5432',\n",
    "    'database': 'telecom'\n",
    "}\n",
    "\n",
    "# Create a connection to the PostgreSQL database\n",
    "engine = create_engine(f\"postgresql://{db_config['username']}:{db_config['password']}@{db_config['host']}:{db_config['port']}/{db_config['database']}\")\n",
    "\n",
    "# Execute a SQL query and load the result into a DataFrame\n",
    "query = text(\"SELECT * FROM xdr_data\")\n",
    "with engine.connect() as conn: \n",
    "    df = pd.read_sql_query(query, conn)"
   ],
   "metadata": {
    "collapsed": false,
    "ExecuteTime": {
     "end_time": "2024-04-22T21:55:32.025350Z",
     "start_time": "2024-04-22T21:55:27.903668Z"
    }
   },
   "id": "275908fb7305f4a9",
   "execution_count": 18
  },
  {
   "cell_type": "markdown",
   "source": [
    "## Data Overview"
   ],
   "metadata": {
    "collapsed": false
   },
   "id": "1efef5f167043d2f"
  },
  {
   "cell_type": "code",
   "outputs": [
    {
     "data": {
      "text/plain": "      Bearer Id            Start  Start ms              End  End ms  \\\n0  7.349883e+18  4/23/2019 13:56     642.0   4/25/2019 2:06    53.0   \n1  1.311448e+19  4/23/2019 14:00     501.0  4/24/2019 23:17   453.0   \n2  1.311448e+19  4/23/2019 14:00     507.0  4/24/2019 23:17   453.0   \n3  1.311448e+19  4/23/2019 14:00     744.0   4/25/2019 0:24   330.0   \n4  1.311448e+19  4/23/2019 14:01     369.0   4/25/2019 4:13   905.0   \n\n   Dur. (ms)          IMSI  MSISDN/Number          IMEI Last Location Name  \\\n0   130220.0  2.082003e+14   3.368112e+10  3.572961e+13            T10006B   \n1   119804.0  2.082014e+14   3.369966e+10  3.561431e+13            T92938B   \n2   119781.0  2.082014e+14   3.369966e+10  3.561431e+13            T92938B   \n3   123787.0  2.082017e+14   3.362404e+10  8.629340e+13            D21059A   \n4   137523.0  2.082017e+14   3.366612e+10  3.538111e+13            D42243B   \n\n   ...  Youtube DL (Bytes)  Youtube UL (Bytes)  Netflix DL (Bytes)  \\\n0  ...          21500768.0          12101768.0          12226975.0   \n1  ...           7277265.0          14808877.0           5404356.0   \n2  ...          10232699.0           8551438.0           8528398.0   \n3  ...          15007252.0          16673992.0          14089357.0   \n4  ...           9633967.0          17836471.0          22432445.0   \n\n   Netflix UL (Bytes)  Gaming DL (Bytes)  Gaming UL (Bytes)  Other DL (Bytes)  \\\n0          16511157.0        340225685.0          6951608.0       483022848.0   \n1          17848389.0        281827903.0          3255023.0       746150700.0   \n2          19632728.0         73444975.0          8167950.0       787793727.0   \n3           6924105.0        174894914.0            41507.0       345556220.0   \n4             11400.0        623985913.0         10539036.0       706817241.0   \n\n   Other UL (Bytes)  Total UL (Bytes)  Total DL (Bytes)  \n0        13524725.0        50864502.0       388912579.0  \n1         1475289.0        38549811.0       305633791.0  \n2        10773216.0        49161715.0       105009018.0  \n3          837674.0        28422142.0       209975300.0  \n4        11317378.0        43951635.0       661274286.0  \n\n[5 rows x 55 columns]",
      "text/html": "<div>\n<style scoped>\n    .dataframe tbody tr th:only-of-type {\n        vertical-align: middle;\n    }\n\n    .dataframe tbody tr th {\n        vertical-align: top;\n    }\n\n    .dataframe thead th {\n        text-align: right;\n    }\n</style>\n<table border=\"1\" class=\"dataframe\">\n  <thead>\n    <tr style=\"text-align: right;\">\n      <th></th>\n      <th>Bearer Id</th>\n      <th>Start</th>\n      <th>Start ms</th>\n      <th>End</th>\n      <th>End ms</th>\n      <th>Dur. (ms)</th>\n      <th>IMSI</th>\n      <th>MSISDN/Number</th>\n      <th>IMEI</th>\n      <th>Last Location Name</th>\n      <th>...</th>\n      <th>Youtube DL (Bytes)</th>\n      <th>Youtube UL (Bytes)</th>\n      <th>Netflix DL (Bytes)</th>\n      <th>Netflix UL (Bytes)</th>\n      <th>Gaming DL (Bytes)</th>\n      <th>Gaming UL (Bytes)</th>\n      <th>Other DL (Bytes)</th>\n      <th>Other UL (Bytes)</th>\n      <th>Total UL (Bytes)</th>\n      <th>Total DL (Bytes)</th>\n    </tr>\n  </thead>\n  <tbody>\n    <tr>\n      <th>0</th>\n      <td>7.349883e+18</td>\n      <td>4/23/2019 13:56</td>\n      <td>642.0</td>\n      <td>4/25/2019 2:06</td>\n      <td>53.0</td>\n      <td>130220.0</td>\n      <td>2.082003e+14</td>\n      <td>3.368112e+10</td>\n      <td>3.572961e+13</td>\n      <td>T10006B</td>\n      <td>...</td>\n      <td>21500768.0</td>\n      <td>12101768.0</td>\n      <td>12226975.0</td>\n      <td>16511157.0</td>\n      <td>340225685.0</td>\n      <td>6951608.0</td>\n      <td>483022848.0</td>\n      <td>13524725.0</td>\n      <td>50864502.0</td>\n      <td>388912579.0</td>\n    </tr>\n    <tr>\n      <th>1</th>\n      <td>1.311448e+19</td>\n      <td>4/23/2019 14:00</td>\n      <td>501.0</td>\n      <td>4/24/2019 23:17</td>\n      <td>453.0</td>\n      <td>119804.0</td>\n      <td>2.082014e+14</td>\n      <td>3.369966e+10</td>\n      <td>3.561431e+13</td>\n      <td>T92938B</td>\n      <td>...</td>\n      <td>7277265.0</td>\n      <td>14808877.0</td>\n      <td>5404356.0</td>\n      <td>17848389.0</td>\n      <td>281827903.0</td>\n      <td>3255023.0</td>\n      <td>746150700.0</td>\n      <td>1475289.0</td>\n      <td>38549811.0</td>\n      <td>305633791.0</td>\n    </tr>\n    <tr>\n      <th>2</th>\n      <td>1.311448e+19</td>\n      <td>4/23/2019 14:00</td>\n      <td>507.0</td>\n      <td>4/24/2019 23:17</td>\n      <td>453.0</td>\n      <td>119781.0</td>\n      <td>2.082014e+14</td>\n      <td>3.369966e+10</td>\n      <td>3.561431e+13</td>\n      <td>T92938B</td>\n      <td>...</td>\n      <td>10232699.0</td>\n      <td>8551438.0</td>\n      <td>8528398.0</td>\n      <td>19632728.0</td>\n      <td>73444975.0</td>\n      <td>8167950.0</td>\n      <td>787793727.0</td>\n      <td>10773216.0</td>\n      <td>49161715.0</td>\n      <td>105009018.0</td>\n    </tr>\n    <tr>\n      <th>3</th>\n      <td>1.311448e+19</td>\n      <td>4/23/2019 14:00</td>\n      <td>744.0</td>\n      <td>4/25/2019 0:24</td>\n      <td>330.0</td>\n      <td>123787.0</td>\n      <td>2.082017e+14</td>\n      <td>3.362404e+10</td>\n      <td>8.629340e+13</td>\n      <td>D21059A</td>\n      <td>...</td>\n      <td>15007252.0</td>\n      <td>16673992.0</td>\n      <td>14089357.0</td>\n      <td>6924105.0</td>\n      <td>174894914.0</td>\n      <td>41507.0</td>\n      <td>345556220.0</td>\n      <td>837674.0</td>\n      <td>28422142.0</td>\n      <td>209975300.0</td>\n    </tr>\n    <tr>\n      <th>4</th>\n      <td>1.311448e+19</td>\n      <td>4/23/2019 14:01</td>\n      <td>369.0</td>\n      <td>4/25/2019 4:13</td>\n      <td>905.0</td>\n      <td>137523.0</td>\n      <td>2.082017e+14</td>\n      <td>3.366612e+10</td>\n      <td>3.538111e+13</td>\n      <td>D42243B</td>\n      <td>...</td>\n      <td>9633967.0</td>\n      <td>17836471.0</td>\n      <td>22432445.0</td>\n      <td>11400.0</td>\n      <td>623985913.0</td>\n      <td>10539036.0</td>\n      <td>706817241.0</td>\n      <td>11317378.0</td>\n      <td>43951635.0</td>\n      <td>661274286.0</td>\n    </tr>\n  </tbody>\n</table>\n<p>5 rows × 55 columns</p>\n</div>"
     },
     "execution_count": 34,
     "metadata": {},
     "output_type": "execute_result"
    }
   ],
   "source": [
    "# Print the first few rows of the DataFrame\n",
    "df.head()"
   ],
   "metadata": {
    "collapsed": false
   },
   "id": "5e4d058e98652251",
   "execution_count": 34
  },
  {
   "cell_type": "code",
   "outputs": [
    {
     "data": {
      "text/plain": "(150001, 55)"
     },
     "execution_count": 35,
     "metadata": {},
     "output_type": "execute_result"
    }
   ],
   "source": [
    "# Print the shape of the DataFrame\n",
    "df.shape"
   ],
   "metadata": {
    "collapsed": false
   },
   "id": "d8a8bc5cb3f8615b",
   "execution_count": 35
  },
  {
   "cell_type": "code",
   "outputs": [
    {
     "name": "stdout",
     "output_type": "stream",
     "text": [
      "<class 'pandas.core.frame.DataFrame'>\n",
      "RangeIndex: 150001 entries, 0 to 150000\n",
      "Data columns (total 55 columns):\n",
      " #   Column                                    Non-Null Count   Dtype  \n",
      "---  ------                                    --------------   -----  \n",
      " 0   Bearer Id                                 149010 non-null  float64\n",
      " 1   Start                                     150000 non-null  object \n",
      " 2   Start ms                                  150000 non-null  float64\n",
      " 3   End                                       150000 non-null  object \n",
      " 4   End ms                                    150000 non-null  float64\n",
      " 5   Dur. (ms)                                 150000 non-null  float64\n",
      " 6   IMSI                                      149431 non-null  float64\n",
      " 7   MSISDN/Number                             148935 non-null  float64\n",
      " 8   IMEI                                      149429 non-null  float64\n",
      " 9   Last Location Name                        148848 non-null  object \n",
      " 10  Avg RTT DL (ms)                           122172 non-null  float64\n",
      " 11  Avg RTT UL (ms)                           122189 non-null  float64\n",
      " 12  Avg Bearer TP DL (kbps)                   150000 non-null  float64\n",
      " 13  Avg Bearer TP UL (kbps)                   150000 non-null  float64\n",
      " 14  TCP DL Retrans. Vol (Bytes)               61855 non-null   float64\n",
      " 15  TCP UL Retrans. Vol (Bytes)               53352 non-null   float64\n",
      " 16  DL TP < 50 Kbps (%)                       149247 non-null  float64\n",
      " 17  50 Kbps < DL TP < 250 Kbps (%)            149247 non-null  float64\n",
      " 18  250 Kbps < DL TP < 1 Mbps (%)             149247 non-null  float64\n",
      " 19  DL TP > 1 Mbps (%)                        149247 non-null  float64\n",
      " 20  UL TP < 10 Kbps (%)                       149209 non-null  float64\n",
      " 21  10 Kbps < UL TP < 50 Kbps (%)             149209 non-null  float64\n",
      " 22  50 Kbps < UL TP < 300 Kbps (%)            149209 non-null  float64\n",
      " 23  UL TP > 300 Kbps (%)                      149209 non-null  float64\n",
      " 24  HTTP DL (Bytes)                           68527 non-null   float64\n",
      " 25  HTTP UL (Bytes)                           68191 non-null   float64\n",
      " 26  Activity Duration DL (ms)                 150000 non-null  float64\n",
      " 27  Activity Duration UL (ms)                 150000 non-null  float64\n",
      " 28  Dur. (ms).1                               150000 non-null  float64\n",
      " 29  Handset Manufacturer                      149429 non-null  object \n",
      " 30  Handset Type                              149429 non-null  object \n",
      " 31  Nb of sec with 125000B < Vol DL           52463 non-null   float64\n",
      " 32  Nb of sec with 1250B < Vol UL < 6250B     57107 non-null   float64\n",
      " 33  Nb of sec with 31250B < Vol DL < 125000B  56415 non-null   float64\n",
      " 34  Nb of sec with 37500B < Vol UL            19747 non-null   float64\n",
      " 35  Nb of sec with 6250B < Vol DL < 31250B    61684 non-null   float64\n",
      " 36  Nb of sec with 6250B < Vol UL < 37500B    38158 non-null   float64\n",
      " 37  Nb of sec with Vol DL < 6250B             149246 non-null  float64\n",
      " 38  Nb of sec with Vol UL < 1250B             149208 non-null  float64\n",
      " 39  Social Media DL (Bytes)                   150001 non-null  float64\n",
      " 40  Social Media UL (Bytes)                   150001 non-null  float64\n",
      " 41  Google DL (Bytes)                         150001 non-null  float64\n",
      " 42  Google UL (Bytes)                         150001 non-null  float64\n",
      " 43  Email DL (Bytes)                          150001 non-null  float64\n",
      " 44  Email UL (Bytes)                          150001 non-null  float64\n",
      " 45  Youtube DL (Bytes)                        150001 non-null  float64\n",
      " 46  Youtube UL (Bytes)                        150001 non-null  float64\n",
      " 47  Netflix DL (Bytes)                        150001 non-null  float64\n",
      " 48  Netflix UL (Bytes)                        150001 non-null  float64\n",
      " 49  Gaming DL (Bytes)                         150001 non-null  float64\n",
      " 50  Gaming UL (Bytes)                         150001 non-null  float64\n",
      " 51  Other DL (Bytes)                          150001 non-null  float64\n",
      " 52  Other UL (Bytes)                          150001 non-null  float64\n",
      " 53  Total UL (Bytes)                          150000 non-null  float64\n",
      " 54  Total DL (Bytes)                          150000 non-null  float64\n",
      "dtypes: float64(50), object(5)\n",
      "memory usage: 62.9+ MB\n",
      "None\n"
     ]
    }
   ],
   "source": [
    "# Check the DataFrame's information\n",
    "print(df.info())"
   ],
   "metadata": {
    "collapsed": false
   },
   "id": "e95381614e72fb32",
   "execution_count": 36
  },
  {
   "cell_type": "code",
   "outputs": [
    {
     "data": {
      "text/plain": "          Bearer Id       Start ms         End ms     Dur. (ms)          IMSI  \\\ncount  1.490100e+05  150000.000000  150000.000000  1.500000e+05  1.494310e+05   \nmean   1.013887e+19     499.188200     498.800880  1.046086e+05  2.082016e+14   \nstd    2.893173e+18     288.611834     288.097653  8.103762e+04  2.148809e+10   \nmin    6.917538e+18       0.000000       0.000000  7.142000e+03  2.040471e+14   \n25%    7.349883e+18     250.000000     251.000000  5.744050e+04  2.082014e+14   \n50%    7.349883e+18     499.000000     500.000000  8.639900e+04  2.082015e+14   \n75%    1.304243e+19     749.000000     750.000000  1.324302e+05  2.082018e+14   \nmax    1.318654e+19     999.000000     999.000000  1.859336e+06  2.140743e+14   \n\n       MSISDN/Number          IMEI  Avg RTT DL (ms)  Avg RTT UL (ms)  \\\ncount   1.489350e+05  1.494290e+05    122172.000000    122189.000000   \nmean    4.188282e+10  4.847455e+13       109.795706        17.662883   \nstd     2.447443e+12  2.241637e+13       619.782739        84.793524   \nmin     3.360100e+10  4.400152e+11         0.000000         0.000000   \n25%     3.365130e+10  3.546071e+13        32.000000         2.000000   \n50%     3.366371e+10  3.572201e+13        45.000000         5.000000   \n75%     3.368349e+10  8.611970e+13        70.000000        15.000000   \nmax     8.823971e+14  9.900120e+13     96923.000000      7120.000000   \n\n       Avg Bearer TP DL (kbps)  ...  Youtube DL (Bytes)  Youtube UL (Bytes)  \\\ncount            150000.000000  ...        1.500010e+05        1.500010e+05   \nmean              13300.045927  ...        1.163407e+07        1.100941e+07   \nstd               23971.878541  ...        6.710569e+06        6.345423e+06   \nmin                   0.000000  ...        5.300000e+01        1.050000e+02   \n25%                  43.000000  ...        5.833501e+06        5.517965e+06   \n50%                  63.000000  ...        1.161602e+07        1.101345e+07   \n75%               19710.750000  ...        1.744852e+07        1.651556e+07   \nmax              378160.000000  ...        2.325910e+07        2.201196e+07   \n\n       Netflix DL (Bytes)  Netflix UL (Bytes)  Gaming DL (Bytes)  \\\ncount        1.500010e+05        1.500010e+05       1.500010e+05   \nmean         1.162685e+07        1.100175e+07       4.220447e+08   \nstd          6.725218e+06        6.359490e+06       2.439675e+08   \nmin          4.200000e+01        3.500000e+01       2.516000e+03   \n25%          5.777156e+06        5.475981e+06       2.104733e+08   \n50%          1.164222e+07        1.099638e+07       4.234081e+08   \n75%          1.747048e+07        1.650727e+07       6.331742e+08   \nmax          2.325919e+07        2.201196e+07       8.434419e+08   \n\n       Gaming UL (Bytes)  Other DL (Bytes)  Other UL (Bytes)  \\\ncount       1.500010e+05      1.500010e+05      1.500010e+05   \nmean        8.288398e+06      4.211005e+08      8.264799e+06   \nstd         4.782700e+06      2.432050e+08      4.769004e+06   \nmin         5.900000e+01      3.290000e+03      1.480000e+02   \n25%         4.128476e+06      2.101869e+08      4.145943e+06   \n50%         8.291208e+06      4.218030e+08      8.267071e+06   \n75%         1.243162e+07      6.316918e+08      1.238415e+07   \nmax         1.655879e+07      8.434425e+08      1.655882e+07   \n\n       Total UL (Bytes)  Total DL (Bytes)  \ncount      1.500000e+05      1.500000e+05  \nmean       4.112121e+07      4.546434e+08  \nstd        1.127639e+07      2.441429e+08  \nmin        2.866892e+06      7.114041e+06  \n25%        3.322201e+07      2.431068e+08  \n50%        4.114331e+07      4.558411e+08  \n75%        4.903424e+07      6.657055e+08  \nmax        7.833131e+07      9.029696e+08  \n\n[8 rows x 50 columns]",
      "text/html": "<div>\n<style scoped>\n    .dataframe tbody tr th:only-of-type {\n        vertical-align: middle;\n    }\n\n    .dataframe tbody tr th {\n        vertical-align: top;\n    }\n\n    .dataframe thead th {\n        text-align: right;\n    }\n</style>\n<table border=\"1\" class=\"dataframe\">\n  <thead>\n    <tr style=\"text-align: right;\">\n      <th></th>\n      <th>Bearer Id</th>\n      <th>Start ms</th>\n      <th>End ms</th>\n      <th>Dur. (ms)</th>\n      <th>IMSI</th>\n      <th>MSISDN/Number</th>\n      <th>IMEI</th>\n      <th>Avg RTT DL (ms)</th>\n      <th>Avg RTT UL (ms)</th>\n      <th>Avg Bearer TP DL (kbps)</th>\n      <th>...</th>\n      <th>Youtube DL (Bytes)</th>\n      <th>Youtube UL (Bytes)</th>\n      <th>Netflix DL (Bytes)</th>\n      <th>Netflix UL (Bytes)</th>\n      <th>Gaming DL (Bytes)</th>\n      <th>Gaming UL (Bytes)</th>\n      <th>Other DL (Bytes)</th>\n      <th>Other UL (Bytes)</th>\n      <th>Total UL (Bytes)</th>\n      <th>Total DL (Bytes)</th>\n    </tr>\n  </thead>\n  <tbody>\n    <tr>\n      <th>count</th>\n      <td>1.490100e+05</td>\n      <td>150000.000000</td>\n      <td>150000.000000</td>\n      <td>1.500000e+05</td>\n      <td>1.494310e+05</td>\n      <td>1.489350e+05</td>\n      <td>1.494290e+05</td>\n      <td>122172.000000</td>\n      <td>122189.000000</td>\n      <td>150000.000000</td>\n      <td>...</td>\n      <td>1.500010e+05</td>\n      <td>1.500010e+05</td>\n      <td>1.500010e+05</td>\n      <td>1.500010e+05</td>\n      <td>1.500010e+05</td>\n      <td>1.500010e+05</td>\n      <td>1.500010e+05</td>\n      <td>1.500010e+05</td>\n      <td>1.500000e+05</td>\n      <td>1.500000e+05</td>\n    </tr>\n    <tr>\n      <th>mean</th>\n      <td>1.013887e+19</td>\n      <td>499.188200</td>\n      <td>498.800880</td>\n      <td>1.046086e+05</td>\n      <td>2.082016e+14</td>\n      <td>4.188282e+10</td>\n      <td>4.847455e+13</td>\n      <td>109.795706</td>\n      <td>17.662883</td>\n      <td>13300.045927</td>\n      <td>...</td>\n      <td>1.163407e+07</td>\n      <td>1.100941e+07</td>\n      <td>1.162685e+07</td>\n      <td>1.100175e+07</td>\n      <td>4.220447e+08</td>\n      <td>8.288398e+06</td>\n      <td>4.211005e+08</td>\n      <td>8.264799e+06</td>\n      <td>4.112121e+07</td>\n      <td>4.546434e+08</td>\n    </tr>\n    <tr>\n      <th>std</th>\n      <td>2.893173e+18</td>\n      <td>288.611834</td>\n      <td>288.097653</td>\n      <td>8.103762e+04</td>\n      <td>2.148809e+10</td>\n      <td>2.447443e+12</td>\n      <td>2.241637e+13</td>\n      <td>619.782739</td>\n      <td>84.793524</td>\n      <td>23971.878541</td>\n      <td>...</td>\n      <td>6.710569e+06</td>\n      <td>6.345423e+06</td>\n      <td>6.725218e+06</td>\n      <td>6.359490e+06</td>\n      <td>2.439675e+08</td>\n      <td>4.782700e+06</td>\n      <td>2.432050e+08</td>\n      <td>4.769004e+06</td>\n      <td>1.127639e+07</td>\n      <td>2.441429e+08</td>\n    </tr>\n    <tr>\n      <th>min</th>\n      <td>6.917538e+18</td>\n      <td>0.000000</td>\n      <td>0.000000</td>\n      <td>7.142000e+03</td>\n      <td>2.040471e+14</td>\n      <td>3.360100e+10</td>\n      <td>4.400152e+11</td>\n      <td>0.000000</td>\n      <td>0.000000</td>\n      <td>0.000000</td>\n      <td>...</td>\n      <td>5.300000e+01</td>\n      <td>1.050000e+02</td>\n      <td>4.200000e+01</td>\n      <td>3.500000e+01</td>\n      <td>2.516000e+03</td>\n      <td>5.900000e+01</td>\n      <td>3.290000e+03</td>\n      <td>1.480000e+02</td>\n      <td>2.866892e+06</td>\n      <td>7.114041e+06</td>\n    </tr>\n    <tr>\n      <th>25%</th>\n      <td>7.349883e+18</td>\n      <td>250.000000</td>\n      <td>251.000000</td>\n      <td>5.744050e+04</td>\n      <td>2.082014e+14</td>\n      <td>3.365130e+10</td>\n      <td>3.546071e+13</td>\n      <td>32.000000</td>\n      <td>2.000000</td>\n      <td>43.000000</td>\n      <td>...</td>\n      <td>5.833501e+06</td>\n      <td>5.517965e+06</td>\n      <td>5.777156e+06</td>\n      <td>5.475981e+06</td>\n      <td>2.104733e+08</td>\n      <td>4.128476e+06</td>\n      <td>2.101869e+08</td>\n      <td>4.145943e+06</td>\n      <td>3.322201e+07</td>\n      <td>2.431068e+08</td>\n    </tr>\n    <tr>\n      <th>50%</th>\n      <td>7.349883e+18</td>\n      <td>499.000000</td>\n      <td>500.000000</td>\n      <td>8.639900e+04</td>\n      <td>2.082015e+14</td>\n      <td>3.366371e+10</td>\n      <td>3.572201e+13</td>\n      <td>45.000000</td>\n      <td>5.000000</td>\n      <td>63.000000</td>\n      <td>...</td>\n      <td>1.161602e+07</td>\n      <td>1.101345e+07</td>\n      <td>1.164222e+07</td>\n      <td>1.099638e+07</td>\n      <td>4.234081e+08</td>\n      <td>8.291208e+06</td>\n      <td>4.218030e+08</td>\n      <td>8.267071e+06</td>\n      <td>4.114331e+07</td>\n      <td>4.558411e+08</td>\n    </tr>\n    <tr>\n      <th>75%</th>\n      <td>1.304243e+19</td>\n      <td>749.000000</td>\n      <td>750.000000</td>\n      <td>1.324302e+05</td>\n      <td>2.082018e+14</td>\n      <td>3.368349e+10</td>\n      <td>8.611970e+13</td>\n      <td>70.000000</td>\n      <td>15.000000</td>\n      <td>19710.750000</td>\n      <td>...</td>\n      <td>1.744852e+07</td>\n      <td>1.651556e+07</td>\n      <td>1.747048e+07</td>\n      <td>1.650727e+07</td>\n      <td>6.331742e+08</td>\n      <td>1.243162e+07</td>\n      <td>6.316918e+08</td>\n      <td>1.238415e+07</td>\n      <td>4.903424e+07</td>\n      <td>6.657055e+08</td>\n    </tr>\n    <tr>\n      <th>max</th>\n      <td>1.318654e+19</td>\n      <td>999.000000</td>\n      <td>999.000000</td>\n      <td>1.859336e+06</td>\n      <td>2.140743e+14</td>\n      <td>8.823971e+14</td>\n      <td>9.900120e+13</td>\n      <td>96923.000000</td>\n      <td>7120.000000</td>\n      <td>378160.000000</td>\n      <td>...</td>\n      <td>2.325910e+07</td>\n      <td>2.201196e+07</td>\n      <td>2.325919e+07</td>\n      <td>2.201196e+07</td>\n      <td>8.434419e+08</td>\n      <td>1.655879e+07</td>\n      <td>8.434425e+08</td>\n      <td>1.655882e+07</td>\n      <td>7.833131e+07</td>\n      <td>9.029696e+08</td>\n    </tr>\n  </tbody>\n</table>\n<p>8 rows × 50 columns</p>\n</div>"
     },
     "execution_count": 37,
     "metadata": {},
     "output_type": "execute_result"
    }
   ],
   "source": [
    "# Describe the DataFrame\n",
    "df.describe()"
   ],
   "metadata": {
    "collapsed": false
   },
   "id": "ce78a2e7035229fd",
   "execution_count": 37
  },
  {
   "cell_type": "code",
   "outputs": [
    {
     "data": {
      "text/plain": "Bearer Id                                      991\nStart                                            1\nStart ms                                         1\nEnd                                              1\nEnd ms                                           1\nDur. (ms)                                        1\nIMSI                                           570\nMSISDN/Number                                 1066\nIMEI                                           572\nLast Location Name                            1153\nAvg RTT DL (ms)                              27829\nAvg RTT UL (ms)                              27812\nAvg Bearer TP DL (kbps)                          1\nAvg Bearer TP UL (kbps)                          1\nTCP DL Retrans. Vol (Bytes)                  88146\nTCP UL Retrans. Vol (Bytes)                  96649\nDL TP < 50 Kbps (%)                            754\n50 Kbps < DL TP < 250 Kbps (%)                 754\n250 Kbps < DL TP < 1 Mbps (%)                  754\nDL TP > 1 Mbps (%)                             754\nUL TP < 10 Kbps (%)                            792\n10 Kbps < UL TP < 50 Kbps (%)                  792\n50 Kbps < UL TP < 300 Kbps (%)                 792\nUL TP > 300 Kbps (%)                           792\nHTTP DL (Bytes)                              81474\nHTTP UL (Bytes)                              81810\nActivity Duration DL (ms)                        1\nActivity Duration UL (ms)                        1\nDur. (ms).1                                      1\nHandset Manufacturer                           572\nHandset Type                                   572\nNb of sec with 125000B < Vol DL              97538\nNb of sec with 1250B < Vol UL < 6250B        92894\nNb of sec with 31250B < Vol DL < 125000B     93586\nNb of sec with 37500B < Vol UL              130254\nNb of sec with 6250B < Vol DL < 31250B       88317\nNb of sec with 6250B < Vol UL < 37500B      111843\nNb of sec with Vol DL < 6250B                  755\nNb of sec with Vol UL < 1250B                  793\nSocial Media DL (Bytes)                          0\nSocial Media UL (Bytes)                          0\nGoogle DL (Bytes)                                0\nGoogle UL (Bytes)                                0\nEmail DL (Bytes)                                 0\nEmail UL (Bytes)                                 0\nYoutube DL (Bytes)                               0\nYoutube UL (Bytes)                               0\nNetflix DL (Bytes)                               0\nNetflix UL (Bytes)                               0\nGaming DL (Bytes)                                0\nGaming UL (Bytes)                                0\nOther DL (Bytes)                                 0\nOther UL (Bytes)                                 0\nTotal UL (Bytes)                                 1\nTotal DL (Bytes)                                 1\ndtype: int64"
     },
     "execution_count": 38,
     "metadata": {},
     "output_type": "execute_result"
    }
   ],
   "source": [
    "# Check for missing values\n",
    "df.isnull().sum()"
   ],
   "metadata": {
    "collapsed": false
   },
   "id": "c2d9bb8f030617e5",
   "execution_count": 38
  },
  {
   "cell_type": "code",
   "outputs": [
    {
     "data": {
      "text/plain": "0"
     },
     "execution_count": 39,
     "metadata": {},
     "output_type": "execute_result"
    }
   ],
   "source": [
    "# Check for duplicates\n",
    "df.duplicated().sum()"
   ],
   "metadata": {
    "collapsed": false
   },
   "id": "7d3384544fb79c32",
   "execution_count": 39
  },
  {
   "cell_type": "markdown",
   "source": [
    "## User Overview analysis\n",
    "\n",
    "An overview of the user's behavior on the applications\n"
   ],
   "metadata": {
    "collapsed": false
   },
   "id": "8eeb3a4c338bf7ec"
  },
  {
   "cell_type": "markdown",
   "source": [
    "### Top 10 handsets used by the customers"
   ],
   "metadata": {
    "collapsed": false
   },
   "id": "1ea7eb8b34c6bdaf"
  },
  {
   "cell_type": "code",
   "outputs": [
    {
     "name": "stdout",
     "output_type": "stream",
     "text": [
      "Huawei B528S-23A                19752\n",
      "Apple iPhone 6S (A1688)          9419\n",
      "Apple iPhone 6 (A1586)           9023\n",
      "undefined                        8987\n",
      "Apple iPhone 7 (A1778)           6326\n",
      "Apple iPhone Se (A1723)          5187\n",
      "Apple iPhone 8 (A1905)           4993\n",
      "Apple iPhone Xr (A2105)          4568\n",
      "Samsung Galaxy S8 (Sm-G950F)     4520\n",
      "Apple iPhone X (A1901)           3813\n",
      "Name: Handset Type, dtype: int64\n"
     ]
    }
   ],
   "source": [
    "# Identify the top 10 handsets used by the customers\n",
    "top_10_handsets = df['Handset Type'].value_counts().head(10)\n",
    "print(top_10_handsets)"
   ],
   "metadata": {
    "collapsed": false,
    "ExecuteTime": {
     "end_time": "2024-04-22T19:19:51.392066Z",
     "start_time": "2024-04-22T19:19:51.377385Z"
    }
   },
   "id": "134111fcc85124e4",
   "execution_count": 40
  },
  {
   "cell_type": "markdown",
   "source": [
    "### Top 3 handset manufacturers"
   ],
   "metadata": {
    "collapsed": false
   },
   "id": "fee573104f13a9fd"
  },
  {
   "cell_type": "code",
   "outputs": [
    {
     "name": "stdout",
     "output_type": "stream",
     "text": [
      "Apple      59565\n",
      "Samsung    40839\n",
      "Huawei     34423\n",
      "Name: Handset Manufacturer, dtype: int64\n"
     ]
    }
   ],
   "source": [
    "# Identify the top 3 handset manufacturers\n",
    "top_3_manufacturers = df['Handset Manufacturer'].value_counts().head(3)\n",
    "print(top_3_manufacturers)"
   ],
   "metadata": {
    "collapsed": false,
    "ExecuteTime": {
     "end_time": "2024-04-22T19:20:59.942053Z",
     "start_time": "2024-04-22T19:20:59.920230Z"
    }
   },
   "id": "e26e3e71ed32cd79",
   "execution_count": 42
  },
  {
   "cell_type": "code",
   "outputs": [
    {
     "name": "stdout",
     "output_type": "stream",
     "text": [
      "Handset Manufacturer  Handset Type                  \n",
      "Apple                 Apple iPhone 6S (A1688)            9419\n",
      "                      Apple iPhone 6 (A1586)             9023\n",
      "                      Apple iPhone 7 (A1778)             6326\n",
      "                      Apple iPhone Se (A1723)            5187\n",
      "                      Apple iPhone 8 (A1905)             4993\n",
      "Huawei                Huawei B528S-23A                  19752\n",
      "                      Huawei E5180                       2079\n",
      "                      Huawei P20 Lite Huawei Nova 3E     2021\n",
      "                      Huawei P20                         1480\n",
      "                      Huawei Y6 2018                      997\n",
      "Samsung               Samsung Galaxy S8 (Sm-G950F)       4520\n",
      "                      Samsung Galaxy A5 Sm-A520F         3724\n",
      "                      Samsung Galaxy J5 (Sm-J530)        3696\n",
      "                      Samsung Galaxy J3 (Sm-J330)        3484\n",
      "                      Samsung Galaxy S7 (Sm-G930X)       3199\n",
      "Name: Handset Type, dtype: int64\n"
     ]
    }
   ],
   "source": [
    "# Identify the top 5 handsets per top 3 handset manufacturer\n",
    "top_5_handsets_per_manufacturer = df[df['Handset Manufacturer'].isin(top_3_manufacturers.index)].groupby('Handset Manufacturer')['Handset Type'].value_counts().groupby(level=0).head(5)\n",
    "print(top_5_handsets_per_manufacturer)"
   ],
   "metadata": {
    "collapsed": false,
    "ExecuteTime": {
     "end_time": "2024-04-22T19:22:12.192990Z",
     "start_time": "2024-04-22T19:22:12.084990Z"
    }
   },
   "id": "b4bdcae0aa570bc9",
   "execution_count": 43
  },
  {
   "cell_type": "code",
   "outputs": [],
   "source": [],
   "metadata": {
    "collapsed": false
   },
   "id": "ef8f133aad476ece"
  },
  {
   "cell_type": "markdown",
   "source": [],
   "metadata": {
    "collapsed": false
   },
   "id": "18291666ede23626"
  },
  {
   "cell_type": "code",
   "outputs": [],
   "source": [
    "def preprocess_data(df, numeric_features, categorical_features):\n",
    "\n",
    "    # Define preprocessing for numeric columns (replace missing values -> scale values)\n",
    "    numeric_transformer = Pipeline(steps=[\n",
    "        ('imputer', SimpleImputer(strategy='mean')),\n",
    "        ('scaler', StandardScaler())])\n",
    "\n",
    "    # Define preprocessing for categorical columns (replace missing values -> one hot encoding)\n",
    "    categorical_transformer = Pipeline(steps=[\n",
    "        ('imputer', SimpleImputer(strategy='constant', fill_value='missing')),\n",
    "        ('onehot', OneHotEncoder(handle_unknown='ignore'))])\n",
    "\n",
    "    # Combine preprocessing steps\n",
    "    preprocessor = ColumnTransformer(\n",
    "        transformers=[\n",
    "            ('num', numeric_transformer, numeric_features),\n",
    "            ('cat', categorical_transformer, categorical_features)])\n",
    "\n",
    "    # Create preprocessing and training pipeline\n",
    "    pipeline = Pipeline(steps=[('preprocessor', preprocessor)])\n",
    "\n",
    "    # Now you can fit the pipeline to your data and use it to transform your data\n",
    "    pipeline.fit(df)\n",
    "    X = pipeline.transform(df)\n",
    "    \n",
    "    return X"
   ],
   "metadata": {
    "collapsed": false,
    "ExecuteTime": {
     "end_time": "2024-04-22T19:27:18.967362Z",
     "start_time": "2024-04-22T19:27:18.963887Z"
    }
   },
   "id": "f4f44a2bc8ec08ac",
   "execution_count": 44
  },
  {
   "cell_type": "code",
   "outputs": [],
   "source": [
    "numeric_features = ['Dur. (ms).1', 'Total DL (Bytes)', 'Total UL (Bytes)']\n",
    "categorical_features = ['Handset Manufacturer', 'Handset Type']\n",
    "X = preprocess_data(df, numeric_features, categorical_features)"
   ],
   "metadata": {
    "collapsed": false,
    "ExecuteTime": {
     "end_time": "2024-04-22T19:27:25.539047Z",
     "start_time": "2024-04-22T19:27:24.375747Z"
    }
   },
   "id": "c5479df423f164fb",
   "execution_count": 45
  },
  {
   "cell_type": "code",
   "outputs": [
    {
     "name": "stdout",
     "output_type": "stream",
     "text": [
      "                                                   0\n",
      "0    (0, 0)\\t0.3160443119960812\\n  (0, 1)\\t-0.269...\n",
      "1    (0, 0)\\t0.18751722150112954\\n  (0, 1)\\t-0.61...\n",
      "2    (0, 0)\\t0.18723332674008955\\n  (0, 1)\\t-1.43...\n",
      "3    (0, 0)\\t0.2366630498824108\\n  (0, 1)\\t-1.002...\n",
      "4    (0, 0)\\t0.40616510338616235\\n  (0, 1)\\t0.846...\n"
     ]
    }
   ],
   "source": [
    "# Convert the transformed data back to a DataFrame\n",
    "X_df = pd.DataFrame(X)\n",
    "\n",
    "# Display the first few rows of the DataFrame\n",
    "print(X_df.head())"
   ],
   "metadata": {
    "collapsed": false,
    "ExecuteTime": {
     "end_time": "2024-04-22T19:28:06.407408Z",
     "start_time": "2024-04-22T19:28:02.638901Z"
    }
   },
   "id": "e0e4aedd8c0d6cd4",
   "execution_count": 47
  },
  {
   "cell_type": "code",
   "outputs": [],
   "source": [],
   "metadata": {
    "collapsed": false
   },
   "id": "3d0c1ceaf3117aac"
  }
 ],
 "metadata": {
  "kernelspec": {
   "display_name": "Python 3",
   "language": "python",
   "name": "python3"
  },
  "language_info": {
   "codemirror_mode": {
    "name": "ipython",
    "version": 2
   },
   "file_extension": ".py",
   "mimetype": "text/x-python",
   "name": "python",
   "nbconvert_exporter": "python",
   "pygments_lexer": "ipython2",
   "version": "2.7.6"
  }
 },
 "nbformat": 4,
 "nbformat_minor": 5
}
