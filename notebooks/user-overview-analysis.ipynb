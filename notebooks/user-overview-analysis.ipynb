{
 "cells": [
  {
   "cell_type": "code",
   "execution_count": 1,
   "id": "initial_id",
   "metadata": {
    "collapsed": true,
    "ExecuteTime": {
     "end_time": "2024-04-23T06:53:34.773984Z",
     "start_time": "2024-04-23T06:53:34.261575Z"
    }
   },
   "outputs": [],
   "source": [
    "# Import necessary libraries\n",
    "import pandas as pd\n",
    "from sqlalchemy import create_engine, text\n",
    "import matplotlib.pyplot as plt\n",
    "import seaborn as sns\n",
    "\n",
    "# Scikit learn libraries\n",
    "from sklearn.pipeline import Pipeline\n",
    "from sklearn.impute import SimpleImputer\n",
    "from sklearn.preprocessing import StandardScaler, OneHotEncoder\n",
    "from sklearn.compose import ColumnTransformer"
   ]
  },
  {
   "cell_type": "code",
   "outputs": [],
   "source": [
    "# Define a dictionary with the connection details\n",
    "db_config = {\n",
    "    'username': 'postgres',\n",
    "    'password': 'pass123',\n",
    "    'host': 'localhost',\n",
    "    'port': '5432',\n",
    "    'database': 'telecom'\n",
    "}\n",
    "\n",
    "# Create a connection to the PostgreSQL database\n",
    "engine = create_engine(f\"postgresql://{db_config['username']}:{db_config['password']}@{db_config['host']}:{db_config['port']}/{db_config['database']}\")\n",
    "\n",
    "# Execute a SQL query and load the result into a DataFrame\n",
    "query = text(\"SELECT * FROM xdr_data\")\n",
    "with engine.connect() as conn: \n",
    "    df = pd.read_sql_query(query, conn)"
   ],
   "metadata": {
    "collapsed": false,
    "ExecuteTime": {
     "end_time": "2024-04-23T06:53:40.108080Z",
     "start_time": "2024-04-23T06:53:34.775438Z"
    }
   },
   "id": "8bec61fbb7109a58",
   "execution_count": 2
  },
  {
   "cell_type": "code",
   "outputs": [
    {
     "data": {
      "text/plain": "(150001, 55)"
     },
     "execution_count": 4,
     "metadata": {},
     "output_type": "execute_result"
    }
   ],
   "source": [
    "# Print the shape of the DataFrame\n",
    "df.shape"
   ],
   "metadata": {
    "collapsed": false,
    "ExecuteTime": {
     "end_time": "2024-04-23T06:54:41.364739Z",
     "start_time": "2024-04-23T06:54:41.359346Z"
    }
   },
   "id": "71d84362e70a4fac",
   "execution_count": 4
  },
  {
   "cell_type": "code",
   "outputs": [
    {
     "name": "stdout",
     "output_type": "stream",
     "text": [
      "<class 'pandas.core.frame.DataFrame'>\n",
      "RangeIndex: 150001 entries, 0 to 150000\n",
      "Data columns (total 55 columns):\n",
      " #   Column                                    Non-Null Count   Dtype  \n",
      "---  ------                                    --------------   -----  \n",
      " 0   Bearer Id                                 149010 non-null  float64\n",
      " 1   Start                                     150000 non-null  object \n",
      " 2   Start ms                                  150000 non-null  float64\n",
      " 3   End                                       150000 non-null  object \n",
      " 4   End ms                                    150000 non-null  float64\n",
      " 5   Dur. (ms)                                 150000 non-null  float64\n",
      " 6   IMSI                                      149431 non-null  float64\n",
      " 7   MSISDN/Number                             148935 non-null  float64\n",
      " 8   IMEI                                      149429 non-null  float64\n",
      " 9   Last Location Name                        148848 non-null  object \n",
      " 10  Avg RTT DL (ms)                           122172 non-null  float64\n",
      " 11  Avg RTT UL (ms)                           122189 non-null  float64\n",
      " 12  Avg Bearer TP DL (kbps)                   150000 non-null  float64\n",
      " 13  Avg Bearer TP UL (kbps)                   150000 non-null  float64\n",
      " 14  TCP DL Retrans. Vol (Bytes)               61855 non-null   float64\n",
      " 15  TCP UL Retrans. Vol (Bytes)               53352 non-null   float64\n",
      " 16  DL TP < 50 Kbps (%)                       149247 non-null  float64\n",
      " 17  50 Kbps < DL TP < 250 Kbps (%)            149247 non-null  float64\n",
      " 18  250 Kbps < DL TP < 1 Mbps (%)             149247 non-null  float64\n",
      " 19  DL TP > 1 Mbps (%)                        149247 non-null  float64\n",
      " 20  UL TP < 10 Kbps (%)                       149209 non-null  float64\n",
      " 21  10 Kbps < UL TP < 50 Kbps (%)             149209 non-null  float64\n",
      " 22  50 Kbps < UL TP < 300 Kbps (%)            149209 non-null  float64\n",
      " 23  UL TP > 300 Kbps (%)                      149209 non-null  float64\n",
      " 24  HTTP DL (Bytes)                           68527 non-null   float64\n",
      " 25  HTTP UL (Bytes)                           68191 non-null   float64\n",
      " 26  Activity Duration DL (ms)                 150000 non-null  float64\n",
      " 27  Activity Duration UL (ms)                 150000 non-null  float64\n",
      " 28  Dur. (ms).1                               150000 non-null  float64\n",
      " 29  Handset Manufacturer                      149429 non-null  object \n",
      " 30  Handset Type                              149429 non-null  object \n",
      " 31  Nb of sec with 125000B < Vol DL           52463 non-null   float64\n",
      " 32  Nb of sec with 1250B < Vol UL < 6250B     57107 non-null   float64\n",
      " 33  Nb of sec with 31250B < Vol DL < 125000B  56415 non-null   float64\n",
      " 34  Nb of sec with 37500B < Vol UL            19747 non-null   float64\n",
      " 35  Nb of sec with 6250B < Vol DL < 31250B    61684 non-null   float64\n",
      " 36  Nb of sec with 6250B < Vol UL < 37500B    38158 non-null   float64\n",
      " 37  Nb of sec with Vol DL < 6250B             149246 non-null  float64\n",
      " 38  Nb of sec with Vol UL < 1250B             149208 non-null  float64\n",
      " 39  Social Media DL (Bytes)                   150001 non-null  float64\n",
      " 40  Social Media UL (Bytes)                   150001 non-null  float64\n",
      " 41  Google DL (Bytes)                         150001 non-null  float64\n",
      " 42  Google UL (Bytes)                         150001 non-null  float64\n",
      " 43  Email DL (Bytes)                          150001 non-null  float64\n",
      " 44  Email UL (Bytes)                          150001 non-null  float64\n",
      " 45  Youtube DL (Bytes)                        150001 non-null  float64\n",
      " 46  Youtube UL (Bytes)                        150001 non-null  float64\n",
      " 47  Netflix DL (Bytes)                        150001 non-null  float64\n",
      " 48  Netflix UL (Bytes)                        150001 non-null  float64\n",
      " 49  Gaming DL (Bytes)                         150001 non-null  float64\n",
      " 50  Gaming UL (Bytes)                         150001 non-null  float64\n",
      " 51  Other DL (Bytes)                          150001 non-null  float64\n",
      " 52  Other UL (Bytes)                          150001 non-null  float64\n",
      " 53  Total UL (Bytes)                          150000 non-null  float64\n",
      " 54  Total DL (Bytes)                          150000 non-null  float64\n",
      "dtypes: float64(50), object(5)\n",
      "memory usage: 62.9+ MB\n",
      "None\n"
     ]
    }
   ],
   "source": [
    "\n",
    "# Check the DataFrame's information\n",
    "print(df.info())"
   ],
   "metadata": {
    "collapsed": false,
    "ExecuteTime": {
     "end_time": "2024-04-23T06:54:47.854411Z",
     "start_time": "2024-04-23T06:54:47.721574Z"
    }
   },
   "id": "3c58a63e77e4bdc7",
   "execution_count": 5
  },
  {
   "cell_type": "code",
   "outputs": [
    {
     "data": {
      "text/plain": "          Bearer Id       Start ms         End ms     Dur. (ms)          IMSI  \\\ncount  1.490100e+05  150000.000000  150000.000000  1.500000e+05  1.494310e+05   \nmean   1.013887e+19     499.188200     498.800880  1.046086e+05  2.082016e+14   \nstd    2.893173e+18     288.611834     288.097653  8.103762e+04  2.148809e+10   \nmin    6.917538e+18       0.000000       0.000000  7.142000e+03  2.040471e+14   \n25%    7.349883e+18     250.000000     251.000000  5.744050e+04  2.082014e+14   \n50%    7.349883e+18     499.000000     500.000000  8.639900e+04  2.082015e+14   \n75%    1.304243e+19     749.000000     750.000000  1.324302e+05  2.082018e+14   \nmax    1.318654e+19     999.000000     999.000000  1.859336e+06  2.140743e+14   \n\n       MSISDN/Number          IMEI  Avg RTT DL (ms)  Avg RTT UL (ms)  \\\ncount   1.489350e+05  1.494290e+05    122172.000000    122189.000000   \nmean    4.188282e+10  4.847455e+13       109.795706        17.662883   \nstd     2.447443e+12  2.241637e+13       619.782739        84.793524   \nmin     3.360100e+10  4.400152e+11         0.000000         0.000000   \n25%     3.365130e+10  3.546071e+13        32.000000         2.000000   \n50%     3.366371e+10  3.572201e+13        45.000000         5.000000   \n75%     3.368349e+10  8.611970e+13        70.000000        15.000000   \nmax     8.823971e+14  9.900120e+13     96923.000000      7120.000000   \n\n       Avg Bearer TP DL (kbps)  ...  Youtube DL (Bytes)  Youtube UL (Bytes)  \\\ncount            150000.000000  ...        1.500010e+05        1.500010e+05   \nmean              13300.045927  ...        1.163407e+07        1.100941e+07   \nstd               23971.878541  ...        6.710569e+06        6.345423e+06   \nmin                   0.000000  ...        5.300000e+01        1.050000e+02   \n25%                  43.000000  ...        5.833501e+06        5.517965e+06   \n50%                  63.000000  ...        1.161602e+07        1.101345e+07   \n75%               19710.750000  ...        1.744852e+07        1.651556e+07   \nmax              378160.000000  ...        2.325910e+07        2.201196e+07   \n\n       Netflix DL (Bytes)  Netflix UL (Bytes)  Gaming DL (Bytes)  \\\ncount        1.500010e+05        1.500010e+05       1.500010e+05   \nmean         1.162685e+07        1.100175e+07       4.220447e+08   \nstd          6.725218e+06        6.359490e+06       2.439675e+08   \nmin          4.200000e+01        3.500000e+01       2.516000e+03   \n25%          5.777156e+06        5.475981e+06       2.104733e+08   \n50%          1.164222e+07        1.099638e+07       4.234081e+08   \n75%          1.747048e+07        1.650727e+07       6.331742e+08   \nmax          2.325919e+07        2.201196e+07       8.434419e+08   \n\n       Gaming UL (Bytes)  Other DL (Bytes)  Other UL (Bytes)  \\\ncount       1.500010e+05      1.500010e+05      1.500010e+05   \nmean        8.288398e+06      4.211005e+08      8.264799e+06   \nstd         4.782700e+06      2.432050e+08      4.769004e+06   \nmin         5.900000e+01      3.290000e+03      1.480000e+02   \n25%         4.128476e+06      2.101869e+08      4.145943e+06   \n50%         8.291208e+06      4.218030e+08      8.267071e+06   \n75%         1.243162e+07      6.316918e+08      1.238415e+07   \nmax         1.655879e+07      8.434425e+08      1.655882e+07   \n\n       Total UL (Bytes)  Total DL (Bytes)  \ncount      1.500000e+05      1.500000e+05  \nmean       4.112121e+07      4.546434e+08  \nstd        1.127639e+07      2.441429e+08  \nmin        2.866892e+06      7.114041e+06  \n25%        3.322201e+07      2.431068e+08  \n50%        4.114331e+07      4.558411e+08  \n75%        4.903424e+07      6.657055e+08  \nmax        7.833131e+07      9.029696e+08  \n\n[8 rows x 50 columns]",
      "text/html": "<div>\n<style scoped>\n    .dataframe tbody tr th:only-of-type {\n        vertical-align: middle;\n    }\n\n    .dataframe tbody tr th {\n        vertical-align: top;\n    }\n\n    .dataframe thead th {\n        text-align: right;\n    }\n</style>\n<table border=\"1\" class=\"dataframe\">\n  <thead>\n    <tr style=\"text-align: right;\">\n      <th></th>\n      <th>Bearer Id</th>\n      <th>Start ms</th>\n      <th>End ms</th>\n      <th>Dur. (ms)</th>\n      <th>IMSI</th>\n      <th>MSISDN/Number</th>\n      <th>IMEI</th>\n      <th>Avg RTT DL (ms)</th>\n      <th>Avg RTT UL (ms)</th>\n      <th>Avg Bearer TP DL (kbps)</th>\n      <th>...</th>\n      <th>Youtube DL (Bytes)</th>\n      <th>Youtube UL (Bytes)</th>\n      <th>Netflix DL (Bytes)</th>\n      <th>Netflix UL (Bytes)</th>\n      <th>Gaming DL (Bytes)</th>\n      <th>Gaming UL (Bytes)</th>\n      <th>Other DL (Bytes)</th>\n      <th>Other UL (Bytes)</th>\n      <th>Total UL (Bytes)</th>\n      <th>Total DL (Bytes)</th>\n    </tr>\n  </thead>\n  <tbody>\n    <tr>\n      <th>count</th>\n      <td>1.490100e+05</td>\n      <td>150000.000000</td>\n      <td>150000.000000</td>\n      <td>1.500000e+05</td>\n      <td>1.494310e+05</td>\n      <td>1.489350e+05</td>\n      <td>1.494290e+05</td>\n      <td>122172.000000</td>\n      <td>122189.000000</td>\n      <td>150000.000000</td>\n      <td>...</td>\n      <td>1.500010e+05</td>\n      <td>1.500010e+05</td>\n      <td>1.500010e+05</td>\n      <td>1.500010e+05</td>\n      <td>1.500010e+05</td>\n      <td>1.500010e+05</td>\n      <td>1.500010e+05</td>\n      <td>1.500010e+05</td>\n      <td>1.500000e+05</td>\n      <td>1.500000e+05</td>\n    </tr>\n    <tr>\n      <th>mean</th>\n      <td>1.013887e+19</td>\n      <td>499.188200</td>\n      <td>498.800880</td>\n      <td>1.046086e+05</td>\n      <td>2.082016e+14</td>\n      <td>4.188282e+10</td>\n      <td>4.847455e+13</td>\n      <td>109.795706</td>\n      <td>17.662883</td>\n      <td>13300.045927</td>\n      <td>...</td>\n      <td>1.163407e+07</td>\n      <td>1.100941e+07</td>\n      <td>1.162685e+07</td>\n      <td>1.100175e+07</td>\n      <td>4.220447e+08</td>\n      <td>8.288398e+06</td>\n      <td>4.211005e+08</td>\n      <td>8.264799e+06</td>\n      <td>4.112121e+07</td>\n      <td>4.546434e+08</td>\n    </tr>\n    <tr>\n      <th>std</th>\n      <td>2.893173e+18</td>\n      <td>288.611834</td>\n      <td>288.097653</td>\n      <td>8.103762e+04</td>\n      <td>2.148809e+10</td>\n      <td>2.447443e+12</td>\n      <td>2.241637e+13</td>\n      <td>619.782739</td>\n      <td>84.793524</td>\n      <td>23971.878541</td>\n      <td>...</td>\n      <td>6.710569e+06</td>\n      <td>6.345423e+06</td>\n      <td>6.725218e+06</td>\n      <td>6.359490e+06</td>\n      <td>2.439675e+08</td>\n      <td>4.782700e+06</td>\n      <td>2.432050e+08</td>\n      <td>4.769004e+06</td>\n      <td>1.127639e+07</td>\n      <td>2.441429e+08</td>\n    </tr>\n    <tr>\n      <th>min</th>\n      <td>6.917538e+18</td>\n      <td>0.000000</td>\n      <td>0.000000</td>\n      <td>7.142000e+03</td>\n      <td>2.040471e+14</td>\n      <td>3.360100e+10</td>\n      <td>4.400152e+11</td>\n      <td>0.000000</td>\n      <td>0.000000</td>\n      <td>0.000000</td>\n      <td>...</td>\n      <td>5.300000e+01</td>\n      <td>1.050000e+02</td>\n      <td>4.200000e+01</td>\n      <td>3.500000e+01</td>\n      <td>2.516000e+03</td>\n      <td>5.900000e+01</td>\n      <td>3.290000e+03</td>\n      <td>1.480000e+02</td>\n      <td>2.866892e+06</td>\n      <td>7.114041e+06</td>\n    </tr>\n    <tr>\n      <th>25%</th>\n      <td>7.349883e+18</td>\n      <td>250.000000</td>\n      <td>251.000000</td>\n      <td>5.744050e+04</td>\n      <td>2.082014e+14</td>\n      <td>3.365130e+10</td>\n      <td>3.546071e+13</td>\n      <td>32.000000</td>\n      <td>2.000000</td>\n      <td>43.000000</td>\n      <td>...</td>\n      <td>5.833501e+06</td>\n      <td>5.517965e+06</td>\n      <td>5.777156e+06</td>\n      <td>5.475981e+06</td>\n      <td>2.104733e+08</td>\n      <td>4.128476e+06</td>\n      <td>2.101869e+08</td>\n      <td>4.145943e+06</td>\n      <td>3.322201e+07</td>\n      <td>2.431068e+08</td>\n    </tr>\n    <tr>\n      <th>50%</th>\n      <td>7.349883e+18</td>\n      <td>499.000000</td>\n      <td>500.000000</td>\n      <td>8.639900e+04</td>\n      <td>2.082015e+14</td>\n      <td>3.366371e+10</td>\n      <td>3.572201e+13</td>\n      <td>45.000000</td>\n      <td>5.000000</td>\n      <td>63.000000</td>\n      <td>...</td>\n      <td>1.161602e+07</td>\n      <td>1.101345e+07</td>\n      <td>1.164222e+07</td>\n      <td>1.099638e+07</td>\n      <td>4.234081e+08</td>\n      <td>8.291208e+06</td>\n      <td>4.218030e+08</td>\n      <td>8.267071e+06</td>\n      <td>4.114331e+07</td>\n      <td>4.558411e+08</td>\n    </tr>\n    <tr>\n      <th>75%</th>\n      <td>1.304243e+19</td>\n      <td>749.000000</td>\n      <td>750.000000</td>\n      <td>1.324302e+05</td>\n      <td>2.082018e+14</td>\n      <td>3.368349e+10</td>\n      <td>8.611970e+13</td>\n      <td>70.000000</td>\n      <td>15.000000</td>\n      <td>19710.750000</td>\n      <td>...</td>\n      <td>1.744852e+07</td>\n      <td>1.651556e+07</td>\n      <td>1.747048e+07</td>\n      <td>1.650727e+07</td>\n      <td>6.331742e+08</td>\n      <td>1.243162e+07</td>\n      <td>6.316918e+08</td>\n      <td>1.238415e+07</td>\n      <td>4.903424e+07</td>\n      <td>6.657055e+08</td>\n    </tr>\n    <tr>\n      <th>max</th>\n      <td>1.318654e+19</td>\n      <td>999.000000</td>\n      <td>999.000000</td>\n      <td>1.859336e+06</td>\n      <td>2.140743e+14</td>\n      <td>8.823971e+14</td>\n      <td>9.900120e+13</td>\n      <td>96923.000000</td>\n      <td>7120.000000</td>\n      <td>378160.000000</td>\n      <td>...</td>\n      <td>2.325910e+07</td>\n      <td>2.201196e+07</td>\n      <td>2.325919e+07</td>\n      <td>2.201196e+07</td>\n      <td>8.434419e+08</td>\n      <td>1.655879e+07</td>\n      <td>8.434425e+08</td>\n      <td>1.655882e+07</td>\n      <td>7.833131e+07</td>\n      <td>9.029696e+08</td>\n    </tr>\n  </tbody>\n</table>\n<p>8 rows × 50 columns</p>\n</div>"
     },
     "execution_count": 6,
     "metadata": {},
     "output_type": "execute_result"
    }
   ],
   "source": [
    "\n",
    "# Describe the DataFrame\n",
    "df.describe()"
   ],
   "metadata": {
    "collapsed": false,
    "ExecuteTime": {
     "end_time": "2024-04-23T06:54:54.911785Z",
     "start_time": "2024-04-23T06:54:54.392908Z"
    }
   },
   "id": "7247dfbe7104e3a5",
   "execution_count": 6
  },
  {
   "cell_type": "code",
   "outputs": [
    {
     "data": {
      "text/plain": "Bearer Id                                      991\nStart                                            1\nStart ms                                         1\nEnd                                              1\nEnd ms                                           1\nDur. (ms)                                        1\nIMSI                                           570\nMSISDN/Number                                 1066\nIMEI                                           572\nLast Location Name                            1153\nAvg RTT DL (ms)                              27829\nAvg RTT UL (ms)                              27812\nAvg Bearer TP DL (kbps)                          1\nAvg Bearer TP UL (kbps)                          1\nTCP DL Retrans. Vol (Bytes)                  88146\nTCP UL Retrans. Vol (Bytes)                  96649\nDL TP < 50 Kbps (%)                            754\n50 Kbps < DL TP < 250 Kbps (%)                 754\n250 Kbps < DL TP < 1 Mbps (%)                  754\nDL TP > 1 Mbps (%)                             754\nUL TP < 10 Kbps (%)                            792\n10 Kbps < UL TP < 50 Kbps (%)                  792\n50 Kbps < UL TP < 300 Kbps (%)                 792\nUL TP > 300 Kbps (%)                           792\nHTTP DL (Bytes)                              81474\nHTTP UL (Bytes)                              81810\nActivity Duration DL (ms)                        1\nActivity Duration UL (ms)                        1\nDur. (ms).1                                      1\nHandset Manufacturer                           572\nHandset Type                                   572\nNb of sec with 125000B < Vol DL              97538\nNb of sec with 1250B < Vol UL < 6250B        92894\nNb of sec with 31250B < Vol DL < 125000B     93586\nNb of sec with 37500B < Vol UL              130254\nNb of sec with 6250B < Vol DL < 31250B       88317\nNb of sec with 6250B < Vol UL < 37500B      111843\nNb of sec with Vol DL < 6250B                  755\nNb of sec with Vol UL < 1250B                  793\nSocial Media DL (Bytes)                          0\nSocial Media UL (Bytes)                          0\nGoogle DL (Bytes)                                0\nGoogle UL (Bytes)                                0\nEmail DL (Bytes)                                 0\nEmail UL (Bytes)                                 0\nYoutube DL (Bytes)                               0\nYoutube UL (Bytes)                               0\nNetflix DL (Bytes)                               0\nNetflix UL (Bytes)                               0\nGaming DL (Bytes)                                0\nGaming UL (Bytes)                                0\nOther DL (Bytes)                                 0\nOther UL (Bytes)                                 0\nTotal UL (Bytes)                                 1\nTotal DL (Bytes)                                 1\ndtype: int64"
     },
     "execution_count": 7,
     "metadata": {},
     "output_type": "execute_result"
    }
   ],
   "source": [
    "\n",
    "# Check for missing values\n",
    "df.isnull().sum()"
   ],
   "metadata": {
    "collapsed": false,
    "ExecuteTime": {
     "end_time": "2024-04-23T06:55:01.780989Z",
     "start_time": "2024-04-23T06:55:01.578646Z"
    }
   },
   "id": "837286b9bbc05f4d",
   "execution_count": 7
  },
  {
   "cell_type": "code",
   "outputs": [
    {
     "data": {
      "text/plain": "0"
     },
     "execution_count": 8,
     "metadata": {},
     "output_type": "execute_result"
    }
   ],
   "source": [
    "\n",
    "# Check for duplicates\n",
    "df.duplicated().sum()"
   ],
   "metadata": {
    "collapsed": false,
    "ExecuteTime": {
     "end_time": "2024-04-23T06:55:08.119720Z",
     "start_time": "2024-04-23T06:55:07.585255Z"
    }
   },
   "id": "88349175d8b72e28",
   "execution_count": 8
  },
  {
   "cell_type": "code",
   "outputs": [
    {
     "name": "stdout",
     "output_type": "stream",
     "text": [
      "Huawei B528S-23A                19752\n",
      "Apple iPhone 6S (A1688)          9419\n",
      "Apple iPhone 6 (A1586)           9023\n",
      "undefined                        8987\n",
      "Apple iPhone 7 (A1778)           6326\n",
      "Apple iPhone Se (A1723)          5187\n",
      "Apple iPhone 8 (A1905)           4993\n",
      "Apple iPhone Xr (A2105)          4568\n",
      "Samsung Galaxy S8 (Sm-G950F)     4520\n",
      "Apple iPhone X (A1901)           3813\n",
      "Name: Handset Type, dtype: int64\n"
     ]
    }
   ],
   "source": [
    "\n",
    "# Identify the top 10 handsets used by the customers\n",
    "top_10_handsets = df['Handset Type'].value_counts().head(10)\n",
    "print(top_10_handsets)"
   ],
   "metadata": {
    "collapsed": false,
    "ExecuteTime": {
     "end_time": "2024-04-23T06:55:14.790200Z",
     "start_time": "2024-04-23T06:55:14.770176Z"
    }
   },
   "id": "97723a97d2835a63",
   "execution_count": 9
  },
  {
   "cell_type": "code",
   "outputs": [
    {
     "name": "stdout",
     "output_type": "stream",
     "text": [
      "Apple      59565\n",
      "Samsung    40839\n",
      "Huawei     34423\n",
      "Name: Handset Manufacturer, dtype: int64\n"
     ]
    }
   ],
   "source": [
    "\n",
    "# Identify the top 3 handset manufacturers\n",
    "top_3_manufacturers = df['Handset Manufacturer'].value_counts().head(3)\n",
    "print(top_3_manufacturers)"
   ],
   "metadata": {
    "collapsed": false,
    "ExecuteTime": {
     "end_time": "2024-04-23T06:55:20.768963Z",
     "start_time": "2024-04-23T06:55:20.749721Z"
    }
   },
   "id": "6fb652735a11916c",
   "execution_count": 10
  },
  {
   "cell_type": "code",
   "outputs": [
    {
     "name": "stdout",
     "output_type": "stream",
     "text": [
      "Handset Manufacturer  Handset Type                  \n",
      "Apple                 Apple iPhone 6S (A1688)            9419\n",
      "                      Apple iPhone 6 (A1586)             9023\n",
      "                      Apple iPhone 7 (A1778)             6326\n",
      "                      Apple iPhone Se (A1723)            5187\n",
      "                      Apple iPhone 8 (A1905)             4993\n",
      "Huawei                Huawei B528S-23A                  19752\n",
      "                      Huawei E5180                       2079\n",
      "                      Huawei P20 Lite Huawei Nova 3E     2021\n",
      "                      Huawei P20                         1480\n",
      "                      Huawei Y6 2018                      997\n",
      "Samsung               Samsung Galaxy S8 (Sm-G950F)       4520\n",
      "                      Samsung Galaxy A5 Sm-A520F         3724\n",
      "                      Samsung Galaxy J5 (Sm-J530)        3696\n",
      "                      Samsung Galaxy J3 (Sm-J330)        3484\n",
      "                      Samsung Galaxy S7 (Sm-G930X)       3199\n",
      "Name: Handset Type, dtype: int64\n"
     ]
    }
   ],
   "source": [
    "\n",
    "# Identify the top 5 handsets per top 3 handset manufacturer\n",
    "top_5_handsets_per_manufacturer = \\\n",
    "df[df['Handset Manufacturer'].isin(top_3_manufacturers.index)].groupby('Handset Manufacturer')[\n",
    "    'Handset Type'].value_counts().groupby(level=0).head(5)\n",
    "print(top_5_handsets_per_manufacturer)"
   ],
   "metadata": {
    "collapsed": false,
    "ExecuteTime": {
     "end_time": "2024-04-23T06:55:24.424913Z",
     "start_time": "2024-04-23T06:55:24.325577Z"
    }
   },
   "id": "1a8191f41adec362",
   "execution_count": 11
  },
  {
   "cell_type": "markdown",
   "source": [
    "# **Task 2.2**"
   ],
   "metadata": {
    "collapsed": false
   },
   "id": "b1090ed1ab21c129"
  },
  {
   "cell_type": "markdown",
   "source": [
    "# Exploratory Data Analysis\n"
   ],
   "metadata": {
    "collapsed": false
   },
   "id": "734404f179f68338"
  },
  {
   "cell_type": "markdown",
   "source": [
    "### Describe the relevant variables and data types"
   ],
   "metadata": {
    "collapsed": false
   },
   "id": "8f030729042d934b"
  },
  {
   "cell_type": "code",
   "outputs": [
    {
     "data": {
      "text/plain": "Bearer Id                                   float64\nStart                                        object\nStart ms                                    float64\nEnd                                          object\nEnd ms                                      float64\nDur. (ms)                                   float64\nIMSI                                        float64\nMSISDN/Number                               float64\nIMEI                                        float64\nLast Location Name                           object\nAvg RTT DL (ms)                             float64\nAvg RTT UL (ms)                             float64\nAvg Bearer TP DL (kbps)                     float64\nAvg Bearer TP UL (kbps)                     float64\nTCP DL Retrans. Vol (Bytes)                 float64\nTCP UL Retrans. Vol (Bytes)                 float64\nDL TP < 50 Kbps (%)                         float64\n50 Kbps < DL TP < 250 Kbps (%)              float64\n250 Kbps < DL TP < 1 Mbps (%)               float64\nDL TP > 1 Mbps (%)                          float64\nUL TP < 10 Kbps (%)                         float64\n10 Kbps < UL TP < 50 Kbps (%)               float64\n50 Kbps < UL TP < 300 Kbps (%)              float64\nUL TP > 300 Kbps (%)                        float64\nHTTP DL (Bytes)                             float64\nHTTP UL (Bytes)                             float64\nActivity Duration DL (ms)                   float64\nActivity Duration UL (ms)                   float64\nDur. (ms).1                                 float64\nHandset Manufacturer                         object\nHandset Type                                 object\nNb of sec with 125000B < Vol DL             float64\nNb of sec with 1250B < Vol UL < 6250B       float64\nNb of sec with 31250B < Vol DL < 125000B    float64\nNb of sec with 37500B < Vol UL              float64\nNb of sec with 6250B < Vol DL < 31250B      float64\nNb of sec with 6250B < Vol UL < 37500B      float64\nNb of sec with Vol DL < 6250B               float64\nNb of sec with Vol UL < 1250B               float64\nSocial Media DL (Bytes)                     float64\nSocial Media UL (Bytes)                     float64\nGoogle DL (Bytes)                           float64\nGoogle UL (Bytes)                           float64\nEmail DL (Bytes)                            float64\nEmail UL (Bytes)                            float64\nYoutube DL (Bytes)                          float64\nYoutube UL (Bytes)                          float64\nNetflix DL (Bytes)                          float64\nNetflix UL (Bytes)                          float64\nGaming DL (Bytes)                           float64\nGaming UL (Bytes)                           float64\nOther DL (Bytes)                            float64\nOther UL (Bytes)                            float64\nTotal UL (Bytes)                            float64\nTotal DL (Bytes)                            float64\ndtype: object"
     },
     "execution_count": 12,
     "metadata": {},
     "output_type": "execute_result"
    }
   ],
   "source": [
    "# Check the data types of the columns\n",
    "df.dtypes"
   ],
   "metadata": {
    "collapsed": false,
    "ExecuteTime": {
     "end_time": "2024-04-23T06:57:19.388676Z",
     "start_time": "2024-04-23T06:57:19.380589Z"
    }
   },
   "id": "10c3fec09f6bb7d9",
   "execution_count": 12
  },
  {
   "cell_type": "markdown",
   "source": [
    "### Analyze the basic metrics"
   ],
   "metadata": {
    "collapsed": false
   },
   "id": "bfd18b18803d1993"
  },
  {
   "cell_type": "code",
   "outputs": [
    {
     "data": {
      "text/plain": "          Bearer Id       Start ms         End ms     Dur. (ms)          IMSI  \\\ncount  1.490100e+05  150000.000000  150000.000000  1.500000e+05  1.494310e+05   \nmean   1.013887e+19     499.188200     498.800880  1.046086e+05  2.082016e+14   \nstd    2.893173e+18     288.611834     288.097653  8.103762e+04  2.148809e+10   \nmin    6.917538e+18       0.000000       0.000000  7.142000e+03  2.040471e+14   \n25%    7.349883e+18     250.000000     251.000000  5.744050e+04  2.082014e+14   \n50%    7.349883e+18     499.000000     500.000000  8.639900e+04  2.082015e+14   \n75%    1.304243e+19     749.000000     750.000000  1.324302e+05  2.082018e+14   \nmax    1.318654e+19     999.000000     999.000000  1.859336e+06  2.140743e+14   \n\n       MSISDN/Number          IMEI  Avg RTT DL (ms)  Avg RTT UL (ms)  \\\ncount   1.489350e+05  1.494290e+05    122172.000000    122189.000000   \nmean    4.188282e+10  4.847455e+13       109.795706        17.662883   \nstd     2.447443e+12  2.241637e+13       619.782739        84.793524   \nmin     3.360100e+10  4.400152e+11         0.000000         0.000000   \n25%     3.365130e+10  3.546071e+13        32.000000         2.000000   \n50%     3.366371e+10  3.572201e+13        45.000000         5.000000   \n75%     3.368349e+10  8.611970e+13        70.000000        15.000000   \nmax     8.823971e+14  9.900120e+13     96923.000000      7120.000000   \n\n       Avg Bearer TP DL (kbps)  ...  Youtube DL (Bytes)  Youtube UL (Bytes)  \\\ncount            150000.000000  ...        1.500010e+05        1.500010e+05   \nmean              13300.045927  ...        1.163407e+07        1.100941e+07   \nstd               23971.878541  ...        6.710569e+06        6.345423e+06   \nmin                   0.000000  ...        5.300000e+01        1.050000e+02   \n25%                  43.000000  ...        5.833501e+06        5.517965e+06   \n50%                  63.000000  ...        1.161602e+07        1.101345e+07   \n75%               19710.750000  ...        1.744852e+07        1.651556e+07   \nmax              378160.000000  ...        2.325910e+07        2.201196e+07   \n\n       Netflix DL (Bytes)  Netflix UL (Bytes)  Gaming DL (Bytes)  \\\ncount        1.500010e+05        1.500010e+05       1.500010e+05   \nmean         1.162685e+07        1.100175e+07       4.220447e+08   \nstd          6.725218e+06        6.359490e+06       2.439675e+08   \nmin          4.200000e+01        3.500000e+01       2.516000e+03   \n25%          5.777156e+06        5.475981e+06       2.104733e+08   \n50%          1.164222e+07        1.099638e+07       4.234081e+08   \n75%          1.747048e+07        1.650727e+07       6.331742e+08   \nmax          2.325919e+07        2.201196e+07       8.434419e+08   \n\n       Gaming UL (Bytes)  Other DL (Bytes)  Other UL (Bytes)  \\\ncount       1.500010e+05      1.500010e+05      1.500010e+05   \nmean        8.288398e+06      4.211005e+08      8.264799e+06   \nstd         4.782700e+06      2.432050e+08      4.769004e+06   \nmin         5.900000e+01      3.290000e+03      1.480000e+02   \n25%         4.128476e+06      2.101869e+08      4.145943e+06   \n50%         8.291208e+06      4.218030e+08      8.267071e+06   \n75%         1.243162e+07      6.316918e+08      1.238415e+07   \nmax         1.655879e+07      8.434425e+08      1.655882e+07   \n\n       Total UL (Bytes)  Total DL (Bytes)  \ncount      1.500000e+05      1.500000e+05  \nmean       4.112121e+07      4.546434e+08  \nstd        1.127639e+07      2.441429e+08  \nmin        2.866892e+06      7.114041e+06  \n25%        3.322201e+07      2.431068e+08  \n50%        4.114331e+07      4.558411e+08  \n75%        4.903424e+07      6.657055e+08  \nmax        7.833131e+07      9.029696e+08  \n\n[8 rows x 50 columns]",
      "text/html": "<div>\n<style scoped>\n    .dataframe tbody tr th:only-of-type {\n        vertical-align: middle;\n    }\n\n    .dataframe tbody tr th {\n        vertical-align: top;\n    }\n\n    .dataframe thead th {\n        text-align: right;\n    }\n</style>\n<table border=\"1\" class=\"dataframe\">\n  <thead>\n    <tr style=\"text-align: right;\">\n      <th></th>\n      <th>Bearer Id</th>\n      <th>Start ms</th>\n      <th>End ms</th>\n      <th>Dur. (ms)</th>\n      <th>IMSI</th>\n      <th>MSISDN/Number</th>\n      <th>IMEI</th>\n      <th>Avg RTT DL (ms)</th>\n      <th>Avg RTT UL (ms)</th>\n      <th>Avg Bearer TP DL (kbps)</th>\n      <th>...</th>\n      <th>Youtube DL (Bytes)</th>\n      <th>Youtube UL (Bytes)</th>\n      <th>Netflix DL (Bytes)</th>\n      <th>Netflix UL (Bytes)</th>\n      <th>Gaming DL (Bytes)</th>\n      <th>Gaming UL (Bytes)</th>\n      <th>Other DL (Bytes)</th>\n      <th>Other UL (Bytes)</th>\n      <th>Total UL (Bytes)</th>\n      <th>Total DL (Bytes)</th>\n    </tr>\n  </thead>\n  <tbody>\n    <tr>\n      <th>count</th>\n      <td>1.490100e+05</td>\n      <td>150000.000000</td>\n      <td>150000.000000</td>\n      <td>1.500000e+05</td>\n      <td>1.494310e+05</td>\n      <td>1.489350e+05</td>\n      <td>1.494290e+05</td>\n      <td>122172.000000</td>\n      <td>122189.000000</td>\n      <td>150000.000000</td>\n      <td>...</td>\n      <td>1.500010e+05</td>\n      <td>1.500010e+05</td>\n      <td>1.500010e+05</td>\n      <td>1.500010e+05</td>\n      <td>1.500010e+05</td>\n      <td>1.500010e+05</td>\n      <td>1.500010e+05</td>\n      <td>1.500010e+05</td>\n      <td>1.500000e+05</td>\n      <td>1.500000e+05</td>\n    </tr>\n    <tr>\n      <th>mean</th>\n      <td>1.013887e+19</td>\n      <td>499.188200</td>\n      <td>498.800880</td>\n      <td>1.046086e+05</td>\n      <td>2.082016e+14</td>\n      <td>4.188282e+10</td>\n      <td>4.847455e+13</td>\n      <td>109.795706</td>\n      <td>17.662883</td>\n      <td>13300.045927</td>\n      <td>...</td>\n      <td>1.163407e+07</td>\n      <td>1.100941e+07</td>\n      <td>1.162685e+07</td>\n      <td>1.100175e+07</td>\n      <td>4.220447e+08</td>\n      <td>8.288398e+06</td>\n      <td>4.211005e+08</td>\n      <td>8.264799e+06</td>\n      <td>4.112121e+07</td>\n      <td>4.546434e+08</td>\n    </tr>\n    <tr>\n      <th>std</th>\n      <td>2.893173e+18</td>\n      <td>288.611834</td>\n      <td>288.097653</td>\n      <td>8.103762e+04</td>\n      <td>2.148809e+10</td>\n      <td>2.447443e+12</td>\n      <td>2.241637e+13</td>\n      <td>619.782739</td>\n      <td>84.793524</td>\n      <td>23971.878541</td>\n      <td>...</td>\n      <td>6.710569e+06</td>\n      <td>6.345423e+06</td>\n      <td>6.725218e+06</td>\n      <td>6.359490e+06</td>\n      <td>2.439675e+08</td>\n      <td>4.782700e+06</td>\n      <td>2.432050e+08</td>\n      <td>4.769004e+06</td>\n      <td>1.127639e+07</td>\n      <td>2.441429e+08</td>\n    </tr>\n    <tr>\n      <th>min</th>\n      <td>6.917538e+18</td>\n      <td>0.000000</td>\n      <td>0.000000</td>\n      <td>7.142000e+03</td>\n      <td>2.040471e+14</td>\n      <td>3.360100e+10</td>\n      <td>4.400152e+11</td>\n      <td>0.000000</td>\n      <td>0.000000</td>\n      <td>0.000000</td>\n      <td>...</td>\n      <td>5.300000e+01</td>\n      <td>1.050000e+02</td>\n      <td>4.200000e+01</td>\n      <td>3.500000e+01</td>\n      <td>2.516000e+03</td>\n      <td>5.900000e+01</td>\n      <td>3.290000e+03</td>\n      <td>1.480000e+02</td>\n      <td>2.866892e+06</td>\n      <td>7.114041e+06</td>\n    </tr>\n    <tr>\n      <th>25%</th>\n      <td>7.349883e+18</td>\n      <td>250.000000</td>\n      <td>251.000000</td>\n      <td>5.744050e+04</td>\n      <td>2.082014e+14</td>\n      <td>3.365130e+10</td>\n      <td>3.546071e+13</td>\n      <td>32.000000</td>\n      <td>2.000000</td>\n      <td>43.000000</td>\n      <td>...</td>\n      <td>5.833501e+06</td>\n      <td>5.517965e+06</td>\n      <td>5.777156e+06</td>\n      <td>5.475981e+06</td>\n      <td>2.104733e+08</td>\n      <td>4.128476e+06</td>\n      <td>2.101869e+08</td>\n      <td>4.145943e+06</td>\n      <td>3.322201e+07</td>\n      <td>2.431068e+08</td>\n    </tr>\n    <tr>\n      <th>50%</th>\n      <td>7.349883e+18</td>\n      <td>499.000000</td>\n      <td>500.000000</td>\n      <td>8.639900e+04</td>\n      <td>2.082015e+14</td>\n      <td>3.366371e+10</td>\n      <td>3.572201e+13</td>\n      <td>45.000000</td>\n      <td>5.000000</td>\n      <td>63.000000</td>\n      <td>...</td>\n      <td>1.161602e+07</td>\n      <td>1.101345e+07</td>\n      <td>1.164222e+07</td>\n      <td>1.099638e+07</td>\n      <td>4.234081e+08</td>\n      <td>8.291208e+06</td>\n      <td>4.218030e+08</td>\n      <td>8.267071e+06</td>\n      <td>4.114331e+07</td>\n      <td>4.558411e+08</td>\n    </tr>\n    <tr>\n      <th>75%</th>\n      <td>1.304243e+19</td>\n      <td>749.000000</td>\n      <td>750.000000</td>\n      <td>1.324302e+05</td>\n      <td>2.082018e+14</td>\n      <td>3.368349e+10</td>\n      <td>8.611970e+13</td>\n      <td>70.000000</td>\n      <td>15.000000</td>\n      <td>19710.750000</td>\n      <td>...</td>\n      <td>1.744852e+07</td>\n      <td>1.651556e+07</td>\n      <td>1.747048e+07</td>\n      <td>1.650727e+07</td>\n      <td>6.331742e+08</td>\n      <td>1.243162e+07</td>\n      <td>6.316918e+08</td>\n      <td>1.238415e+07</td>\n      <td>4.903424e+07</td>\n      <td>6.657055e+08</td>\n    </tr>\n    <tr>\n      <th>max</th>\n      <td>1.318654e+19</td>\n      <td>999.000000</td>\n      <td>999.000000</td>\n      <td>1.859336e+06</td>\n      <td>2.140743e+14</td>\n      <td>8.823971e+14</td>\n      <td>9.900120e+13</td>\n      <td>96923.000000</td>\n      <td>7120.000000</td>\n      <td>378160.000000</td>\n      <td>...</td>\n      <td>2.325910e+07</td>\n      <td>2.201196e+07</td>\n      <td>2.325919e+07</td>\n      <td>2.201196e+07</td>\n      <td>8.434419e+08</td>\n      <td>1.655879e+07</td>\n      <td>8.434425e+08</td>\n      <td>1.655882e+07</td>\n      <td>7.833131e+07</td>\n      <td>9.029696e+08</td>\n    </tr>\n  </tbody>\n</table>\n<p>8 rows × 50 columns</p>\n</div>"
     },
     "execution_count": 13,
     "metadata": {},
     "output_type": "execute_result"
    }
   ],
   "source": [
    "# Check the basic metrics of the numerical columns\n",
    "df.describe()"
   ],
   "metadata": {
    "collapsed": false,
    "ExecuteTime": {
     "end_time": "2024-04-23T06:58:42.299186Z",
     "start_time": "2024-04-23T06:58:41.791586Z"
    }
   },
   "id": "fa0fa1b6ea48589c",
   "execution_count": 13
  },
  {
   "cell_type": "code",
   "outputs": [],
   "source": [],
   "metadata": {
    "collapsed": false
   },
   "id": "e4ae146fe4be9897"
  }
 ],
 "metadata": {
  "kernelspec": {
   "display_name": "Python 3",
   "language": "python",
   "name": "python3"
  },
  "language_info": {
   "codemirror_mode": {
    "name": "ipython",
    "version": 2
   },
   "file_extension": ".py",
   "mimetype": "text/x-python",
   "name": "python",
   "nbconvert_exporter": "python",
   "pygments_lexer": "ipython2",
   "version": "2.7.6"
  }
 },
 "nbformat": 4,
 "nbformat_minor": 5
}
