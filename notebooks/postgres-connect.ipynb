{
 "cells": [
  {
   "cell_type": "code",
   "outputs": [],
   "source": [
    "import psycopg2"
   ],
   "metadata": {
    "collapsed": false,
    "ExecuteTime": {
     "end_time": "2024-04-22T17:55:43.711577Z",
     "start_time": "2024-04-22T17:55:43.709323Z"
    }
   },
   "id": "b12c47bc1b9e5cb1",
   "execution_count": 26
  },
  {
   "cell_type": "code",
   "outputs": [],
   "source": [
    "\n",
    "# Establish a connection to the database\n",
    "conn = psycopg2.connect(\n",
    "    dbname=\"telecom\",\n",
    "    user=\"postgres\",\n",
    "    password=\"pass123\",\n",
    "    host=\"localhost\",\n",
    "    port=\"5432\"\n",
    ")"
   ],
   "metadata": {
    "collapsed": false,
    "ExecuteTime": {
     "end_time": "2024-04-22T17:55:44.080477Z",
     "start_time": "2024-04-22T17:55:44.070491Z"
    }
   },
   "id": "ba91515b2760d975",
   "execution_count": 27
  },
  {
   "cell_type": "code",
   "outputs": [],
   "source": [
    "\n",
    "# Create a cursor object\n",
    "cur = conn.cursor()"
   ],
   "metadata": {
    "collapsed": false,
    "ExecuteTime": {
     "end_time": "2024-04-22T17:55:44.504848Z",
     "start_time": "2024-04-22T17:55:44.502646Z"
    }
   },
   "id": "757ddd578397540c",
   "execution_count": 28
  },
  {
   "cell_type": "code",
   "outputs": [],
   "source": [
    "\n",
    "# Execute a query\n",
    "cur.execute(\"SELECT * FROM xdr_data LIMIT 5;\")"
   ],
   "metadata": {
    "collapsed": false,
    "ExecuteTime": {
     "end_time": "2024-04-22T17:55:44.969238Z",
     "start_time": "2024-04-22T17:55:44.965157Z"
    }
   },
   "id": "49eaf61c8946a166",
   "execution_count": 29
  },
  {
   "cell_type": "code",
   "outputs": [
    {
     "name": "stdout",
     "output_type": "stream",
     "text": [
      "(7.34988324493012e+18, '4/23/2019 13:56', 642.0, '4/25/2019 2:06', 53.0, 130220.0, 208200311343234.0, 33681123273.0, 35729609033280.0, 'T10006B', 34.0, 1.0, 86.0, 71.0, None, 1200.0, 100.0, 0.0, 0.0, 0.0, 100.0, 0.0, 0.0, 0.0, None, None, 50490.0, 44322.0, 130220411.0, 'Apple', 'Apple iPhone Xs Max (A2101)', None, None, None, None, None, None, 233.0, 185.0, 2306749.0, 3648.0, 10697261.0, 1652325.0, 1955141.0, 119271.0, 21500768.0, 12101768.0, 12226975.0, 16511157.0, 340225685.0, 6951608.0, 483022848.0, 13524725.0, 50864502.0, 388912579.0)\n",
      "(1.31144835471317e+19, '4/23/2019 14:00', 501.0, '4/24/2019 23:17', 453.0, 119804.0, 208201402739176.0, 33699657228.0, 35614309440872.0, 'T92938B', 45.0, 4.0, 10.0, 35.0, None, None, 100.0, 0.0, 0.0, 0.0, 100.0, 0.0, 0.0, 0.0, None, None, 0.0, 862.0, 119804952.0, 'Apple', 'Apple iPhone 6S (A1688)', None, None, None, None, None, None, 2.0, 4.0, 3111305.0, 3706.0, 7772474.0, 917183.0, 240488.0, 241344.0, 7277265.0, 14808877.0, 5404356.0, 17848389.0, 281827903.0, 3255023.0, 746150700.0, 1475289.0, 38549811.0, 305633791.0)\n",
      "(1.31144835471333e+19, '4/23/2019 14:00', 507.0, '4/24/2019 23:17', 453.0, 119781.0, 208201402739176.0, 33699657228.0, 35614309440872.0, 'T92938B', 47.0, 4.0, 41.0, 45.0, None, None, 100.0, 0.0, 0.0, 0.0, 100.0, 0.0, 0.0, 0.0, None, None, 10046.0, 11205.0, 119781946.0, 'Apple', 'Apple iPhone 6S (A1688)', None, None, None, None, None, None, 53.0, 56.0, 1283607.0, 20991.0, 8605944.0, 1927204.0, 2913395.0, 88188.0, 10232699.0, 8551438.0, 8528398.0, 19632728.0, 73444975.0, 8167950.0, 787793727.0, 10773216.0, 49161715.0, 105009018.0)\n",
      "(1.31144835471341e+19, '4/23/2019 14:00', 744.0, '4/25/2019 0:24', 330.0, 123787.0, 208201716645001.0, 33624040258.0, 86293404678353.0, 'D21059A', 33.0, 5.0, 48.0, 47.0, None, None, 100.0, 0.0, 0.0, 0.0, 100.0, 0.0, 0.0, 0.0, None, None, 27665.0, 49736.0, 123787586.0, 'undefined', 'undefined', None, None, None, None, None, None, 89.0, 128.0, 2944197.0, 5185.0, 2111232.0, 3520769.0, 928348.0, 418910.0, 15007252.0, 16673992.0, 14089357.0, 6924105.0, 174894914.0, 41507.0, 345556220.0, 837674.0, 28422142.0, 209975300.0)\n",
      "(1.31144835471369e+19, '4/23/2019 14:01', 369.0, '4/25/2019 4:13', 905.0, 137523.0, 208201716666194.0, 33666115833.0, 35381108218264.0, 'D42243B', 27.0, 5.0, 54.0, 47.0, None, None, 100.0, 0.0, 0.0, 0.0, 100.0, 0.0, 0.0, 0.0, None, None, 33853.0, 39184.0, 137523536.0, 'Apple', 'Apple iPhone 7 Plus (A1784)', None, None, None, None, None, None, 203.0, 241.0, 533480.0, 31665.0, 1181228.0, 3543874.0, 3507253.0, 671811.0, 9633967.0, 17836471.0, 22432445.0, 11400.0, 623985913.0, 10539036.0, 706817241.0, 11317378.0, 43951635.0, 661274286.0)\n"
     ]
    }
   ],
   "source": [
    "# Fetch all the rows\n",
    "rows = cur.fetchall()\n",
    "\n",
    "for row in rows:\n",
    "    print(row)\n"
   ],
   "metadata": {
    "collapsed": false,
    "ExecuteTime": {
     "end_time": "2024-04-22T17:55:45.346189Z",
     "start_time": "2024-04-22T17:55:45.343758Z"
    }
   },
   "id": "cbd2f8c9f4acc4d5",
   "execution_count": 30
  },
  {
   "cell_type": "code",
   "outputs": [],
   "source": [
    "\n",
    "# Close the cursor and connection\n",
    "cur.close()\n",
    "conn.close()"
   ],
   "metadata": {
    "collapsed": false,
    "ExecuteTime": {
     "end_time": "2024-04-22T17:55:45.718153Z",
     "start_time": "2024-04-22T17:55:45.715338Z"
    }
   },
   "id": "51b4337935e6ff31",
   "execution_count": 31
  },
  {
   "cell_type": "code",
   "outputs": [],
   "source": [],
   "metadata": {
    "collapsed": false
   },
   "id": "e2067d57cc77b2a7"
  }
 ],
 "metadata": {
  "kernelspec": {
   "display_name": "Python 3",
   "language": "python",
   "name": "python3"
  },
  "language_info": {
   "codemirror_mode": {
    "name": "ipython",
    "version": 2
   },
   "file_extension": ".py",
   "mimetype": "text/x-python",
   "name": "python",
   "nbconvert_exporter": "python",
   "pygments_lexer": "ipython2",
   "version": "2.7.6"
  }
 },
 "nbformat": 4,
 "nbformat_minor": 5
}
