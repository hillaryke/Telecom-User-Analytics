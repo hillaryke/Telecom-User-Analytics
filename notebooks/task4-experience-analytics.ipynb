{
 "cells": [
  {
   "cell_type": "code",
   "outputs": [],
   "source": [
    "from sklearn.pipeline import Pipeline\n",
    "from sklearn.impute import SimpleImputer\n",
    "from sklearn.preprocessing import StandardScaler, OneHotEncoder\n",
    "from sklearn.compose import ColumnTransformer\n",
    "import pandas as pd\n",
    "import numpy as np\n",
    "\n",
    "from src.utils import fetch_data_from_db"
   ],
   "metadata": {
    "collapsed": false,
    "ExecuteTime": {
     "end_time": "2024-04-27T07:18:04.913467Z",
     "start_time": "2024-04-27T07:18:04.785187Z"
    }
   },
   "id": "33252773df3d71db",
   "execution_count": 1
  },
  {
   "cell_type": "code",
   "outputs": [],
   "source": [
    "# Load the data\n",
    "query = \"SELECT * FROM xdr_data\"\n",
    "df = fetch_data_from_db(query)"
   ],
   "metadata": {
    "collapsed": false,
    "ExecuteTime": {
     "end_time": "2024-04-27T07:18:08.257181Z",
     "start_time": "2024-04-27T07:18:04.914340Z"
    }
   },
   "id": "18e2d89c1221119a",
   "execution_count": 2
  },
  {
   "cell_type": "code",
   "execution_count": 3,
   "id": "initial_id",
   "metadata": {
    "collapsed": true,
    "ExecuteTime": {
     "end_time": "2024-04-27T07:18:08.380407Z",
     "start_time": "2024-04-27T07:18:08.258594Z"
    }
   },
   "outputs": [],
   "source": [
    "\n",
    "\n",
    "\n",
    "def preprocess_data(df, timestamp_cols, numeric_features, categorical_features):\n",
    "    \n",
    "    df_numeric.reset_index(drop=True, inplace=True)\n",
    "    df_categorical.reset_index(drop=True, inplace=True)\n",
    "    df_preprocessed = pd.concat([df_numeric, df_categorical], axis=1)\n",
    "    \n",
    "    return df_preprocessed"
   ]
  },
  {
   "cell_type": "code",
   "outputs": [],
   "source": [
    "# Replace 'undefined' with NaN\n",
    "df.replace('undefined', np.nan, inplace=True)"
   ],
   "metadata": {
    "collapsed": false,
    "ExecuteTime": {
     "end_time": "2024-04-27T08:25:09.394979Z",
     "start_time": "2024-04-27T08:25:09.335222Z"
    }
   },
   "id": "c30bac3ef09026a4",
   "execution_count": 17
  },
  {
   "cell_type": "code",
   "outputs": [],
   "source": [
    "# Preprocess the data\n",
    "timestamp_cols = ['Start', 'End']\n",
    "numeric_features = None\n",
    "categorical_features = ['IMSI', 'MSISDN/Number', 'IMEI', 'Last Location Name', 'Handset Type', 'Handset Manufacturer']\n"
   ],
   "metadata": {
    "collapsed": false,
    "ExecuteTime": {
     "end_time": "2024-04-27T08:25:09.743465Z",
     "start_time": "2024-04-27T08:25:09.741101Z"
    }
   },
   "id": "8771d48fc2046f3b",
   "execution_count": 18
  },
  {
   "cell_type": "code",
   "outputs": [],
   "source": [
    "# Convert the 'End time of the xDR (last frame timestamp)' and 'Start' columns to datetime\n",
    "timestamp_features = []\n",
    "for col in timestamp_cols:\n",
    "    df[col] = pd.to_datetime(df[col])\n",
    "\n",
    "    # Extract features from the timestamp columns\n",
    "    df[f'{col}_hour'] = df[col].dt.hour\n",
    "    df[f'{col}_day_of_week'] = df[col].dt.dayofweek\n",
    "    df[f'{col}_day_of_month'] = df[col].dt.day\n",
    "    df[f'{col}_month'] = df[col].dt.month\n",
    "\n",
    "    # Add the new features to the timestamp_features list\n",
    "    timestamp_features.extend([f'{col}_hour', f'{col}_day_of_week', f'{col}_day_of_month', f'{col}_month'])\n",
    "\n",
    "# Identify numeric columns\n",
    "if numeric_features is None:\n",
    "    numeric_features = df.select_dtypes(include=['int64', 'float64']).columns.tolist()\n",
    "\n",
    "# Remove timestamp features from the numeric_features list\n",
    "numeric_features = [feature for feature in numeric_features if feature not in timestamp_features]\n",
    "\n",
    "# Define preprocessing for numeric columns (replace missing values with mean and scale values)\n",
    "numeric_transformer = Pipeline(steps=[\n",
    "    ('imputer', SimpleImputer(strategy='mean')),\n",
    "    ('scaler', StandardScaler())])\n",
    "\n",
    "# Define preprocessing for categorical columns (replace missing values with mode)\n",
    "# Define preprocessing for categorical columns (replace missing values with mode)\n",
    "# Define preprocessing for categorical columns (replace missing values with 'Unknown')\n",
    "# Define preprocessing for categorical columns (replace missing values with mode)\n",
    "categorical_transformer = Pipeline(steps=[\n",
    "    ('imputer', SimpleImputer(strategy='most_frequent'))])\n"
   ],
   "metadata": {
    "collapsed": false,
    "ExecuteTime": {
     "end_time": "2024-04-27T08:25:10.639103Z",
     "start_time": "2024-04-27T08:25:10.420610Z"
    }
   },
   "id": "67ccff3694832d8c",
   "execution_count": 19
  },
  {
   "cell_type": "code",
   "outputs": [],
   "source": [
    "# Define the preprocessor\n",
    "preprocessor = ColumnTransformer(\n",
    "    transformers=[\n",
    "        ('num', numeric_transformer, numeric_features),\n",
    "        ('cat', categorical_transformer, categorical_features)])\n"
   ],
   "metadata": {
    "collapsed": false,
    "ExecuteTime": {
     "end_time": "2024-04-27T08:25:11.932347Z",
     "start_time": "2024-04-27T08:25:11.930071Z"
    }
   },
   "id": "360a8167cd7f8059",
   "execution_count": 20
  },
  {
   "cell_type": "code",
   "outputs": [],
   "source": [
    "\n",
    "# Fit and transform the data\n",
    "df_preprocessed = preprocessor.fit_transform(df)\n"
   ],
   "metadata": {
    "collapsed": false,
    "ExecuteTime": {
     "end_time": "2024-04-27T08:25:22.781613Z",
     "start_time": "2024-04-27T08:25:22.149147Z"
    }
   },
   "id": "82cdd03697e20d45",
   "execution_count": 21
  },
  {
   "cell_type": "code",
   "outputs": [],
   "source": [
    "\n",
    "# Get feature names after transformation\n",
    "numeric_features_transformed = preprocessor.transformers_[0][-1]\n",
    "categorical_features_transformed = preprocessor.transformers_[1][-1]\n",
    "\n",
    "# Convert the preprocessed data back to a DataFrame\n",
    "df_preprocessed = pd.DataFrame(df_preprocessed, columns=numeric_features_transformed + categorical_features_transformed)"
   ],
   "metadata": {
    "collapsed": false,
    "ExecuteTime": {
     "end_time": "2024-04-27T07:19:59.968548Z",
     "start_time": "2024-04-27T07:19:59.965863Z"
    }
   },
   "id": "6667bf948b9e7aa",
   "execution_count": 15
  },
  {
   "cell_type": "code",
   "outputs": [
    {
     "data": {
      "text/plain": "    Bearer Id  Start ms    End ms  Dur. (ms)      IMSI MSISDN/Number  \\\n0    1.031911  0.938332  0.566475  21.213047 -0.008932      -0.00337   \n1    1.031911 -0.915382  0.372095  15.554551  0.012569     -0.003363   \n2    1.031911 -1.726165  0.531765  15.513311 -0.061789     -0.003331   \n3    1.031911 -0.045696 -1.137819  15.016588 -0.011065     -0.003335   \n4    1.031911   0.22803  1.580027  12.147531 -0.011108     -0.003355   \n..        ...       ...       ...        ...       ...           ...   \n195 -0.967194  0.855174  0.854574   0.513869 -0.008948     -0.003368   \n196  1.031911    0.5468  1.715399    0.59883 -0.029379     -0.003327   \n197  1.031911  -1.11981  1.406474   0.543325 -0.029412     -0.003371   \n198  1.031911 -1.667262  1.514077   0.515325  0.012587     -0.003369   \n199 -0.967194 -1.414325  0.618541   0.546138  -0.02939      -0.00337   \n\n         IMEI Avg RTT DL (ms) Avg RTT UL (ms) Avg Bearer TP DL (kbps)  ...  \\\n0   -0.578959       -0.121206       -0.165464               -0.553863  ...   \n1   -0.566766       -0.080087       -0.165464               -0.554155  ...   \n2   -0.589672            -0.0             0.0               -0.554572  ...   \n3   -0.586315            -0.0             0.0               -0.552987  ...   \n4   -0.584063            -0.0             0.0               -0.554572  ...   \n..        ...             ...             ...                     ...  ...   \n195 -0.585203       -0.158751       -0.191597               -0.552862  ...   \n196 -0.580299        -0.14266       -0.113196                -0.55257  ...   \n197 -0.584139       -0.105116       -0.165464               -0.554489  ...   \n198  1.682577       -0.124782        -0.13933               -0.552319  ...   \n199 -0.564303       -0.148024       -0.217731               -0.552987  ...   \n\n    Other DL (Bytes) Other UL (Bytes) Total UL (Bytes) Total DL (Bytes)  \\\n0          -1.025295         0.115243        -0.387668        -0.597047   \n1           0.435041         1.423855         1.124409         0.814043   \n2          -0.042795        -0.849035        -1.173927        -0.716127   \n3           1.348412         0.950408         0.195366         1.603109   \n4           0.532922         1.183799        -0.228656         0.468971   \n..               ...              ...              ...              ...   \n195         0.602386         -0.80206         0.285382         0.302916   \n196        -0.586588         0.947512         -0.90315        -1.039031   \n197        -0.237292          0.26915          0.28848         0.721782   \n198        -1.688325         0.401961        -1.259991          1.29844   \n199         0.967196        -0.227847         0.021971         0.826409   \n\n                  IMSI  MSISDN/Number              IMEI  \\\n0    208201448079117.0  33664962239.0  35521209507511.0   \n1    208201909211140.0  33681854413.0  35794009006359.0   \n2    208200314458056.0  33760627129.0  35281510359387.0   \n3    208201402342131.0  33750343200.0  35356610164913.0   \n4    208201401415120.0  33699795932.0  35407009745539.0   \n..                 ...            ...               ...   \n195  208201447750120.0  33668451771.0  35381508463192.0   \n196  208201009545212.0  33768127237.0  35491209048289.0   \n197  208201008858129.0  33662105508.0  35405309402701.0   \n198  208201909612196.0  33667238502.0  86119704141493.0   \n199  208201009313138.0  33663392517.0  35849109187358.0   \n\n        Last Location Name                 Handset Type Handset Manufacturer  \n0    9.16456699548519E+015   Samsung Galaxy A5 Sm-A520F              Samsung  \n1                  L77566A  Samsung Galaxy J5 (Sm-J530)              Samsung  \n2                  D42335A     Samsung Galaxy A8 (2018)              Samsung  \n3                  T21824A             Huawei B528S-23A                Apple  \n4                  D88865A             Samsung Sm-G390F              Samsung  \n..                     ...                          ...                  ...  \n195                D12742C  Apple iPhone 7 Plus (A1784)                Apple  \n196                T42450A       Apple iPhone 7 (A1660)                Apple  \n197                D92954B  Samsung Galaxy J5 (Sm-J530)              Samsung  \n198                D73604C                   Huawei P20               Huawei  \n199                L10322C     Samsung Galaxy A8 (2018)              Samsung  \n\n[200 rows x 56 columns]",
      "text/html": "<div>\n<style scoped>\n    .dataframe tbody tr th:only-of-type {\n        vertical-align: middle;\n    }\n\n    .dataframe tbody tr th {\n        vertical-align: top;\n    }\n\n    .dataframe thead th {\n        text-align: right;\n    }\n</style>\n<table border=\"1\" class=\"dataframe\">\n  <thead>\n    <tr style=\"text-align: right;\">\n      <th></th>\n      <th>Bearer Id</th>\n      <th>Start ms</th>\n      <th>End ms</th>\n      <th>Dur. (ms)</th>\n      <th>IMSI</th>\n      <th>MSISDN/Number</th>\n      <th>IMEI</th>\n      <th>Avg RTT DL (ms)</th>\n      <th>Avg RTT UL (ms)</th>\n      <th>Avg Bearer TP DL (kbps)</th>\n      <th>...</th>\n      <th>Other DL (Bytes)</th>\n      <th>Other UL (Bytes)</th>\n      <th>Total UL (Bytes)</th>\n      <th>Total DL (Bytes)</th>\n      <th>IMSI</th>\n      <th>MSISDN/Number</th>\n      <th>IMEI</th>\n      <th>Last Location Name</th>\n      <th>Handset Type</th>\n      <th>Handset Manufacturer</th>\n    </tr>\n  </thead>\n  <tbody>\n    <tr>\n      <th>0</th>\n      <td>1.031911</td>\n      <td>0.938332</td>\n      <td>0.566475</td>\n      <td>21.213047</td>\n      <td>-0.008932</td>\n      <td>-0.00337</td>\n      <td>-0.578959</td>\n      <td>-0.121206</td>\n      <td>-0.165464</td>\n      <td>-0.553863</td>\n      <td>...</td>\n      <td>-1.025295</td>\n      <td>0.115243</td>\n      <td>-0.387668</td>\n      <td>-0.597047</td>\n      <td>208201448079117.0</td>\n      <td>33664962239.0</td>\n      <td>35521209507511.0</td>\n      <td>9.16456699548519E+015</td>\n      <td>Samsung Galaxy A5 Sm-A520F</td>\n      <td>Samsung</td>\n    </tr>\n    <tr>\n      <th>1</th>\n      <td>1.031911</td>\n      <td>-0.915382</td>\n      <td>0.372095</td>\n      <td>15.554551</td>\n      <td>0.012569</td>\n      <td>-0.003363</td>\n      <td>-0.566766</td>\n      <td>-0.080087</td>\n      <td>-0.165464</td>\n      <td>-0.554155</td>\n      <td>...</td>\n      <td>0.435041</td>\n      <td>1.423855</td>\n      <td>1.124409</td>\n      <td>0.814043</td>\n      <td>208201909211140.0</td>\n      <td>33681854413.0</td>\n      <td>35794009006359.0</td>\n      <td>L77566A</td>\n      <td>Samsung Galaxy J5 (Sm-J530)</td>\n      <td>Samsung</td>\n    </tr>\n    <tr>\n      <th>2</th>\n      <td>1.031911</td>\n      <td>-1.726165</td>\n      <td>0.531765</td>\n      <td>15.513311</td>\n      <td>-0.061789</td>\n      <td>-0.003331</td>\n      <td>-0.589672</td>\n      <td>-0.0</td>\n      <td>0.0</td>\n      <td>-0.554572</td>\n      <td>...</td>\n      <td>-0.042795</td>\n      <td>-0.849035</td>\n      <td>-1.173927</td>\n      <td>-0.716127</td>\n      <td>208200314458056.0</td>\n      <td>33760627129.0</td>\n      <td>35281510359387.0</td>\n      <td>D42335A</td>\n      <td>Samsung Galaxy A8 (2018)</td>\n      <td>Samsung</td>\n    </tr>\n    <tr>\n      <th>3</th>\n      <td>1.031911</td>\n      <td>-0.045696</td>\n      <td>-1.137819</td>\n      <td>15.016588</td>\n      <td>-0.011065</td>\n      <td>-0.003335</td>\n      <td>-0.586315</td>\n      <td>-0.0</td>\n      <td>0.0</td>\n      <td>-0.552987</td>\n      <td>...</td>\n      <td>1.348412</td>\n      <td>0.950408</td>\n      <td>0.195366</td>\n      <td>1.603109</td>\n      <td>208201402342131.0</td>\n      <td>33750343200.0</td>\n      <td>35356610164913.0</td>\n      <td>T21824A</td>\n      <td>Huawei B528S-23A</td>\n      <td>Apple</td>\n    </tr>\n    <tr>\n      <th>4</th>\n      <td>1.031911</td>\n      <td>0.22803</td>\n      <td>1.580027</td>\n      <td>12.147531</td>\n      <td>-0.011108</td>\n      <td>-0.003355</td>\n      <td>-0.584063</td>\n      <td>-0.0</td>\n      <td>0.0</td>\n      <td>-0.554572</td>\n      <td>...</td>\n      <td>0.532922</td>\n      <td>1.183799</td>\n      <td>-0.228656</td>\n      <td>0.468971</td>\n      <td>208201401415120.0</td>\n      <td>33699795932.0</td>\n      <td>35407009745539.0</td>\n      <td>D88865A</td>\n      <td>Samsung Sm-G390F</td>\n      <td>Samsung</td>\n    </tr>\n    <tr>\n      <th>...</th>\n      <td>...</td>\n      <td>...</td>\n      <td>...</td>\n      <td>...</td>\n      <td>...</td>\n      <td>...</td>\n      <td>...</td>\n      <td>...</td>\n      <td>...</td>\n      <td>...</td>\n      <td>...</td>\n      <td>...</td>\n      <td>...</td>\n      <td>...</td>\n      <td>...</td>\n      <td>...</td>\n      <td>...</td>\n      <td>...</td>\n      <td>...</td>\n      <td>...</td>\n      <td>...</td>\n    </tr>\n    <tr>\n      <th>195</th>\n      <td>-0.967194</td>\n      <td>0.855174</td>\n      <td>0.854574</td>\n      <td>0.513869</td>\n      <td>-0.008948</td>\n      <td>-0.003368</td>\n      <td>-0.585203</td>\n      <td>-0.158751</td>\n      <td>-0.191597</td>\n      <td>-0.552862</td>\n      <td>...</td>\n      <td>0.602386</td>\n      <td>-0.80206</td>\n      <td>0.285382</td>\n      <td>0.302916</td>\n      <td>208201447750120.0</td>\n      <td>33668451771.0</td>\n      <td>35381508463192.0</td>\n      <td>D12742C</td>\n      <td>Apple iPhone 7 Plus (A1784)</td>\n      <td>Apple</td>\n    </tr>\n    <tr>\n      <th>196</th>\n      <td>1.031911</td>\n      <td>0.5468</td>\n      <td>1.715399</td>\n      <td>0.59883</td>\n      <td>-0.029379</td>\n      <td>-0.003327</td>\n      <td>-0.580299</td>\n      <td>-0.14266</td>\n      <td>-0.113196</td>\n      <td>-0.55257</td>\n      <td>...</td>\n      <td>-0.586588</td>\n      <td>0.947512</td>\n      <td>-0.90315</td>\n      <td>-1.039031</td>\n      <td>208201009545212.0</td>\n      <td>33768127237.0</td>\n      <td>35491209048289.0</td>\n      <td>T42450A</td>\n      <td>Apple iPhone 7 (A1660)</td>\n      <td>Apple</td>\n    </tr>\n    <tr>\n      <th>197</th>\n      <td>1.031911</td>\n      <td>-1.11981</td>\n      <td>1.406474</td>\n      <td>0.543325</td>\n      <td>-0.029412</td>\n      <td>-0.003371</td>\n      <td>-0.584139</td>\n      <td>-0.105116</td>\n      <td>-0.165464</td>\n      <td>-0.554489</td>\n      <td>...</td>\n      <td>-0.237292</td>\n      <td>0.26915</td>\n      <td>0.28848</td>\n      <td>0.721782</td>\n      <td>208201008858129.0</td>\n      <td>33662105508.0</td>\n      <td>35405309402701.0</td>\n      <td>D92954B</td>\n      <td>Samsung Galaxy J5 (Sm-J530)</td>\n      <td>Samsung</td>\n    </tr>\n    <tr>\n      <th>198</th>\n      <td>1.031911</td>\n      <td>-1.667262</td>\n      <td>1.514077</td>\n      <td>0.515325</td>\n      <td>0.012587</td>\n      <td>-0.003369</td>\n      <td>1.682577</td>\n      <td>-0.124782</td>\n      <td>-0.13933</td>\n      <td>-0.552319</td>\n      <td>...</td>\n      <td>-1.688325</td>\n      <td>0.401961</td>\n      <td>-1.259991</td>\n      <td>1.29844</td>\n      <td>208201909612196.0</td>\n      <td>33667238502.0</td>\n      <td>86119704141493.0</td>\n      <td>D73604C</td>\n      <td>Huawei P20</td>\n      <td>Huawei</td>\n    </tr>\n    <tr>\n      <th>199</th>\n      <td>-0.967194</td>\n      <td>-1.414325</td>\n      <td>0.618541</td>\n      <td>0.546138</td>\n      <td>-0.02939</td>\n      <td>-0.00337</td>\n      <td>-0.564303</td>\n      <td>-0.148024</td>\n      <td>-0.217731</td>\n      <td>-0.552987</td>\n      <td>...</td>\n      <td>0.967196</td>\n      <td>-0.227847</td>\n      <td>0.021971</td>\n      <td>0.826409</td>\n      <td>208201009313138.0</td>\n      <td>33663392517.0</td>\n      <td>35849109187358.0</td>\n      <td>L10322C</td>\n      <td>Samsung Galaxy A8 (2018)</td>\n      <td>Samsung</td>\n    </tr>\n  </tbody>\n</table>\n<p>200 rows × 56 columns</p>\n</div>"
     },
     "execution_count": 16,
     "metadata": {},
     "output_type": "execute_result"
    }
   ],
   "source": [
    "\n",
    "# Convert the preprocessed data back to a DataFrame\n",
    "# Join dataframes on index\n",
    "# combined_df = df_numeric.join(df_categorical)\n",
    "\n",
    "df_preprocessed.head(200)"
   ],
   "metadata": {
    "collapsed": false,
    "ExecuteTime": {
     "end_time": "2024-04-27T07:20:00.205070Z",
     "start_time": "2024-04-27T07:20:00.189460Z"
    }
   },
   "id": "4abba27d39d10a3",
   "execution_count": 16
  },
  {
   "cell_type": "code",
   "outputs": [],
   "source": [],
   "metadata": {
    "collapsed": false,
    "ExecuteTime": {
     "end_time": "2024-04-27T07:20:00.733133Z",
     "start_time": "2024-04-27T07:20:00.731462Z"
    }
   },
   "id": "bd28d0bcec597911",
   "execution_count": 16
  },
  {
   "cell_type": "code",
   "outputs": [],
   "source": [
    "from src.preprocessing import preprocess_data\n",
    "from src.utils import fetch_telecom_data\n",
    "\n",
    "# Load the data\n",
    "df = fetch_telecom_data()\n",
    "\n",
    "# Define the columns\n",
    "timestamp_cols = ['Start', 'End']\n",
    "numeric_features = df.select_dtypes(include=['int64', 'float64']).columns.tolist()\n",
    "categorical_features = ['IMSI', 'MSISDN/Number', 'IMEI', 'Last Location Name', 'Handset Type', 'Handset Manufacturer']\n",
    "\n",
    "# Preprocess the data\n",
    "df_preprocessed = preprocess_data(df, timestamp_cols, numeric_features, categorical_features)"
   ],
   "metadata": {
    "collapsed": false,
    "ExecuteTime": {
     "end_time": "2024-04-27T08:32:15.068367Z",
     "start_time": "2024-04-27T08:32:03.618255Z"
    }
   },
   "id": "13b05c14f0df48d5",
   "execution_count": 2
  },
  {
   "cell_type": "code",
   "outputs": [
    {
     "data": {
      "text/plain": "  Bearer Id  Start ms    End ms  Dur. (ms)      IMSI MSISDN/Number      IMEI  \\\n0  1.031911  0.938332  0.566475  21.213047 -0.008932      -0.00337 -0.578959   \n1  1.031911 -0.915382  0.372095  15.554551  0.012569     -0.003363 -0.566766   \n2  1.031911 -1.726165  0.531765  15.513311 -0.061789     -0.003331 -0.589672   \n3  1.031911 -0.045696 -1.137819  15.016588 -0.011065     -0.003335 -0.586315   \n4  1.031911   0.22803  1.580027  12.147531 -0.011108     -0.003355 -0.584063   \n\n  Avg RTT DL (ms) Avg RTT UL (ms) Avg Bearer TP DL (kbps)  ...  \\\n0       -0.121206       -0.165464               -0.553863  ...   \n1       -0.080087       -0.165464               -0.554155  ...   \n2            -0.0             0.0               -0.554572  ...   \n3            -0.0             0.0               -0.552987  ...   \n4            -0.0             0.0               -0.554572  ...   \n\n  Other DL (Bytes) Other UL (Bytes) Total UL (Bytes) Total DL (Bytes)  \\\n0        -1.025295         0.115243        -0.387668        -0.597047   \n1         0.435041         1.423855         1.124409         0.814043   \n2        -0.042795        -0.849035        -1.173927        -0.716127   \n3         1.348412         0.950408         0.195366         1.603109   \n4         0.532922         1.183799        -0.228656         0.468971   \n\n                IMSI  MSISDN/Number              IMEI     Last Location Name  \\\n0  208201448079117.0  33664962239.0  35521209507511.0  9.16456699548519E+015   \n1  208201909211140.0  33681854413.0  35794009006359.0                L77566A   \n2  208200314458056.0  33760627129.0  35281510359387.0                D42335A   \n3  208201402342131.0  33750343200.0  35356610164913.0                T21824A   \n4  208201401415120.0  33699795932.0  35407009745539.0                D88865A   \n\n                  Handset Type Handset Manufacturer  \n0   Samsung Galaxy A5 Sm-A520F              Samsung  \n1  Samsung Galaxy J5 (Sm-J530)              Samsung  \n2     Samsung Galaxy A8 (2018)              Samsung  \n3             Huawei B528S-23A                Apple  \n4             Samsung Sm-G390F              Samsung  \n\n[5 rows x 56 columns]",
      "text/html": "<div>\n<style scoped>\n    .dataframe tbody tr th:only-of-type {\n        vertical-align: middle;\n    }\n\n    .dataframe tbody tr th {\n        vertical-align: top;\n    }\n\n    .dataframe thead th {\n        text-align: right;\n    }\n</style>\n<table border=\"1\" class=\"dataframe\">\n  <thead>\n    <tr style=\"text-align: right;\">\n      <th></th>\n      <th>Bearer Id</th>\n      <th>Start ms</th>\n      <th>End ms</th>\n      <th>Dur. (ms)</th>\n      <th>IMSI</th>\n      <th>MSISDN/Number</th>\n      <th>IMEI</th>\n      <th>Avg RTT DL (ms)</th>\n      <th>Avg RTT UL (ms)</th>\n      <th>Avg Bearer TP DL (kbps)</th>\n      <th>...</th>\n      <th>Other DL (Bytes)</th>\n      <th>Other UL (Bytes)</th>\n      <th>Total UL (Bytes)</th>\n      <th>Total DL (Bytes)</th>\n      <th>IMSI</th>\n      <th>MSISDN/Number</th>\n      <th>IMEI</th>\n      <th>Last Location Name</th>\n      <th>Handset Type</th>\n      <th>Handset Manufacturer</th>\n    </tr>\n  </thead>\n  <tbody>\n    <tr>\n      <th>0</th>\n      <td>1.031911</td>\n      <td>0.938332</td>\n      <td>0.566475</td>\n      <td>21.213047</td>\n      <td>-0.008932</td>\n      <td>-0.00337</td>\n      <td>-0.578959</td>\n      <td>-0.121206</td>\n      <td>-0.165464</td>\n      <td>-0.553863</td>\n      <td>...</td>\n      <td>-1.025295</td>\n      <td>0.115243</td>\n      <td>-0.387668</td>\n      <td>-0.597047</td>\n      <td>208201448079117.0</td>\n      <td>33664962239.0</td>\n      <td>35521209507511.0</td>\n      <td>9.16456699548519E+015</td>\n      <td>Samsung Galaxy A5 Sm-A520F</td>\n      <td>Samsung</td>\n    </tr>\n    <tr>\n      <th>1</th>\n      <td>1.031911</td>\n      <td>-0.915382</td>\n      <td>0.372095</td>\n      <td>15.554551</td>\n      <td>0.012569</td>\n      <td>-0.003363</td>\n      <td>-0.566766</td>\n      <td>-0.080087</td>\n      <td>-0.165464</td>\n      <td>-0.554155</td>\n      <td>...</td>\n      <td>0.435041</td>\n      <td>1.423855</td>\n      <td>1.124409</td>\n      <td>0.814043</td>\n      <td>208201909211140.0</td>\n      <td>33681854413.0</td>\n      <td>35794009006359.0</td>\n      <td>L77566A</td>\n      <td>Samsung Galaxy J5 (Sm-J530)</td>\n      <td>Samsung</td>\n    </tr>\n    <tr>\n      <th>2</th>\n      <td>1.031911</td>\n      <td>-1.726165</td>\n      <td>0.531765</td>\n      <td>15.513311</td>\n      <td>-0.061789</td>\n      <td>-0.003331</td>\n      <td>-0.589672</td>\n      <td>-0.0</td>\n      <td>0.0</td>\n      <td>-0.554572</td>\n      <td>...</td>\n      <td>-0.042795</td>\n      <td>-0.849035</td>\n      <td>-1.173927</td>\n      <td>-0.716127</td>\n      <td>208200314458056.0</td>\n      <td>33760627129.0</td>\n      <td>35281510359387.0</td>\n      <td>D42335A</td>\n      <td>Samsung Galaxy A8 (2018)</td>\n      <td>Samsung</td>\n    </tr>\n    <tr>\n      <th>3</th>\n      <td>1.031911</td>\n      <td>-0.045696</td>\n      <td>-1.137819</td>\n      <td>15.016588</td>\n      <td>-0.011065</td>\n      <td>-0.003335</td>\n      <td>-0.586315</td>\n      <td>-0.0</td>\n      <td>0.0</td>\n      <td>-0.552987</td>\n      <td>...</td>\n      <td>1.348412</td>\n      <td>0.950408</td>\n      <td>0.195366</td>\n      <td>1.603109</td>\n      <td>208201402342131.0</td>\n      <td>33750343200.0</td>\n      <td>35356610164913.0</td>\n      <td>T21824A</td>\n      <td>Huawei B528S-23A</td>\n      <td>Apple</td>\n    </tr>\n    <tr>\n      <th>4</th>\n      <td>1.031911</td>\n      <td>0.22803</td>\n      <td>1.580027</td>\n      <td>12.147531</td>\n      <td>-0.011108</td>\n      <td>-0.003355</td>\n      <td>-0.584063</td>\n      <td>-0.0</td>\n      <td>0.0</td>\n      <td>-0.554572</td>\n      <td>...</td>\n      <td>0.532922</td>\n      <td>1.183799</td>\n      <td>-0.228656</td>\n      <td>0.468971</td>\n      <td>208201401415120.0</td>\n      <td>33699795932.0</td>\n      <td>35407009745539.0</td>\n      <td>D88865A</td>\n      <td>Samsung Sm-G390F</td>\n      <td>Samsung</td>\n    </tr>\n  </tbody>\n</table>\n<p>5 rows × 56 columns</p>\n</div>"
     },
     "execution_count": 3,
     "metadata": {},
     "output_type": "execute_result"
    }
   ],
   "source": [
    "df_preprocessed.head()"
   ],
   "metadata": {
    "collapsed": false,
    "ExecuteTime": {
     "end_time": "2024-04-27T08:32:24.635169Z",
     "start_time": "2024-04-27T08:32:24.619932Z"
    }
   },
   "id": "ff3c3b88f4bb4198",
   "execution_count": 3
  },
  {
   "cell_type": "code",
   "outputs": [
    {
     "ename": "DuplicateColumnError",
     "evalue": "A column with name 'IMSI' is already present in table 'clean_data'.",
     "output_type": "error",
     "traceback": [
      "\u001B[0;31m---------------------------------------------------------------------------\u001B[0m",
      "\u001B[0;31mDuplicateColumnError\u001B[0m                      Traceback (most recent call last)",
      "Cell \u001B[0;32mIn[4], line 3\u001B[0m\n\u001B[1;32m      1\u001B[0m \u001B[38;5;66;03m# Save the preprocessed data\u001B[39;00m\n\u001B[1;32m      2\u001B[0m \u001B[38;5;28;01mfrom\u001B[39;00m \u001B[38;5;21;01msrc\u001B[39;00m\u001B[38;5;21;01m.\u001B[39;00m\u001B[38;5;21;01mutils\u001B[39;00m \u001B[38;5;28;01mimport\u001B[39;00m save_data_to_db\n\u001B[0;32m----> 3\u001B[0m save_data_to_db(df_preprocessed, \u001B[38;5;124m'\u001B[39m\u001B[38;5;124mclean_data\u001B[39m\u001B[38;5;124m'\u001B[39m)\n",
      "File \u001B[0;32m~/code/10Academy-training/week1/Telecom-User-Analytics/src/utils.py:12\u001B[0m, in \u001B[0;36msave_data_to_db\u001B[0;34m(df, table_name)\u001B[0m\n\u001B[1;32m     11\u001B[0m \u001B[38;5;28;01mdef\u001B[39;00m \u001B[38;5;21msave_data_to_db\u001B[39m(df, table_name):\n\u001B[0;32m---> 12\u001B[0m     db_handler\u001B[38;5;241m.\u001B[39mstore_data_in_db(df, table_name)\n",
      "File \u001B[0;32m~/code/10Academy-training/week1/Telecom-User-Analytics/src/database_handler.py:17\u001B[0m, in \u001B[0;36mDatabaseHandler.store_data_in_db\u001B[0;34m(self, df, table_name, if_exists)\u001B[0m\n\u001B[1;32m     15\u001B[0m \u001B[38;5;28;01mdef\u001B[39;00m \u001B[38;5;21mstore_data_in_db\u001B[39m(\u001B[38;5;28mself\u001B[39m, df, table_name, if_exists\u001B[38;5;241m=\u001B[39m\u001B[38;5;124m'\u001B[39m\u001B[38;5;124mreplace\u001B[39m\u001B[38;5;124m'\u001B[39m):\n\u001B[1;32m     16\u001B[0m     \u001B[38;5;28;01mwith\u001B[39;00m \u001B[38;5;28mself\u001B[39m\u001B[38;5;241m.\u001B[39mengine\u001B[38;5;241m.\u001B[39mconnect() \u001B[38;5;28;01mas\u001B[39;00m conn:\n\u001B[0;32m---> 17\u001B[0m         df\u001B[38;5;241m.\u001B[39mto_sql(table_name, conn, if_exists\u001B[38;5;241m=\u001B[39mif_exists)\n",
      "File \u001B[0;32m~/anaconda3/envs/10academyw0/lib/python3.12/site-packages/pandas/core/generic.py:2987\u001B[0m, in \u001B[0;36mNDFrame.to_sql\u001B[0;34m(self, name, con, schema, if_exists, index, index_label, chunksize, dtype, method)\u001B[0m\n\u001B[1;32m   2830\u001B[0m \u001B[38;5;250m\u001B[39m\u001B[38;5;124;03m\"\"\"\u001B[39;00m\n\u001B[1;32m   2831\u001B[0m \u001B[38;5;124;03mWrite records stored in a DataFrame to a SQL database.\u001B[39;00m\n\u001B[1;32m   2832\u001B[0m \n\u001B[0;32m   (...)\u001B[0m\n\u001B[1;32m   2983\u001B[0m \u001B[38;5;124;03m[(1,), (None,), (2,)]\u001B[39;00m\n\u001B[1;32m   2984\u001B[0m \u001B[38;5;124;03m\"\"\"\u001B[39;00m  \u001B[38;5;66;03m# noqa:E501\u001B[39;00m\n\u001B[1;32m   2985\u001B[0m \u001B[38;5;28;01mfrom\u001B[39;00m \u001B[38;5;21;01mpandas\u001B[39;00m\u001B[38;5;21;01m.\u001B[39;00m\u001B[38;5;21;01mio\u001B[39;00m \u001B[38;5;28;01mimport\u001B[39;00m sql\n\u001B[0;32m-> 2987\u001B[0m \u001B[38;5;28;01mreturn\u001B[39;00m sql\u001B[38;5;241m.\u001B[39mto_sql(\n\u001B[1;32m   2988\u001B[0m     \u001B[38;5;28mself\u001B[39m,\n\u001B[1;32m   2989\u001B[0m     name,\n\u001B[1;32m   2990\u001B[0m     con,\n\u001B[1;32m   2991\u001B[0m     schema\u001B[38;5;241m=\u001B[39mschema,\n\u001B[1;32m   2992\u001B[0m     if_exists\u001B[38;5;241m=\u001B[39mif_exists,\n\u001B[1;32m   2993\u001B[0m     index\u001B[38;5;241m=\u001B[39mindex,\n\u001B[1;32m   2994\u001B[0m     index_label\u001B[38;5;241m=\u001B[39mindex_label,\n\u001B[1;32m   2995\u001B[0m     chunksize\u001B[38;5;241m=\u001B[39mchunksize,\n\u001B[1;32m   2996\u001B[0m     dtype\u001B[38;5;241m=\u001B[39mdtype,\n\u001B[1;32m   2997\u001B[0m     method\u001B[38;5;241m=\u001B[39mmethod,\n\u001B[1;32m   2998\u001B[0m )\n",
      "File \u001B[0;32m~/anaconda3/envs/10academyw0/lib/python3.12/site-packages/pandas/io/sql.py:695\u001B[0m, in \u001B[0;36mto_sql\u001B[0;34m(frame, name, con, schema, if_exists, index, index_label, chunksize, dtype, method, engine, **engine_kwargs)\u001B[0m\n\u001B[1;32m    690\u001B[0m \u001B[38;5;28;01melif\u001B[39;00m \u001B[38;5;129;01mnot\u001B[39;00m \u001B[38;5;28misinstance\u001B[39m(frame, DataFrame):\n\u001B[1;32m    691\u001B[0m     \u001B[38;5;28;01mraise\u001B[39;00m \u001B[38;5;167;01mNotImplementedError\u001B[39;00m(\n\u001B[1;32m    692\u001B[0m         \u001B[38;5;124m\"\u001B[39m\u001B[38;5;124m'\u001B[39m\u001B[38;5;124mframe\u001B[39m\u001B[38;5;124m'\u001B[39m\u001B[38;5;124m argument should be either a Series or a DataFrame\u001B[39m\u001B[38;5;124m\"\u001B[39m\n\u001B[1;32m    693\u001B[0m     )\n\u001B[0;32m--> 695\u001B[0m \u001B[38;5;28;01mreturn\u001B[39;00m pandas_sql\u001B[38;5;241m.\u001B[39mto_sql(\n\u001B[1;32m    696\u001B[0m     frame,\n\u001B[1;32m    697\u001B[0m     name,\n\u001B[1;32m    698\u001B[0m     if_exists\u001B[38;5;241m=\u001B[39mif_exists,\n\u001B[1;32m    699\u001B[0m     index\u001B[38;5;241m=\u001B[39mindex,\n\u001B[1;32m    700\u001B[0m     index_label\u001B[38;5;241m=\u001B[39mindex_label,\n\u001B[1;32m    701\u001B[0m     schema\u001B[38;5;241m=\u001B[39mschema,\n\u001B[1;32m    702\u001B[0m     chunksize\u001B[38;5;241m=\u001B[39mchunksize,\n\u001B[1;32m    703\u001B[0m     dtype\u001B[38;5;241m=\u001B[39mdtype,\n\u001B[1;32m    704\u001B[0m     method\u001B[38;5;241m=\u001B[39mmethod,\n\u001B[1;32m    705\u001B[0m     engine\u001B[38;5;241m=\u001B[39mengine,\n\u001B[1;32m    706\u001B[0m     \u001B[38;5;241m*\u001B[39m\u001B[38;5;241m*\u001B[39mengine_kwargs,\n\u001B[1;32m    707\u001B[0m )\n",
      "File \u001B[0;32m~/anaconda3/envs/10academyw0/lib/python3.12/site-packages/pandas/io/sql.py:1728\u001B[0m, in \u001B[0;36mSQLDatabase.to_sql\u001B[0;34m(self, frame, name, if_exists, index, index_label, schema, chunksize, dtype, method, engine, **engine_kwargs)\u001B[0m\n\u001B[1;32m   1678\u001B[0m \u001B[38;5;250m\u001B[39m\u001B[38;5;124;03m\"\"\"\u001B[39;00m\n\u001B[1;32m   1679\u001B[0m \u001B[38;5;124;03mWrite records stored in a DataFrame to a SQL database.\u001B[39;00m\n\u001B[1;32m   1680\u001B[0m \n\u001B[0;32m   (...)\u001B[0m\n\u001B[1;32m   1724\u001B[0m \u001B[38;5;124;03m    Any additional kwargs are passed to the engine.\u001B[39;00m\n\u001B[1;32m   1725\u001B[0m \u001B[38;5;124;03m\"\"\"\u001B[39;00m\n\u001B[1;32m   1726\u001B[0m sql_engine \u001B[38;5;241m=\u001B[39m get_engine(engine)\n\u001B[0;32m-> 1728\u001B[0m table \u001B[38;5;241m=\u001B[39m \u001B[38;5;28mself\u001B[39m\u001B[38;5;241m.\u001B[39mprep_table(\n\u001B[1;32m   1729\u001B[0m     frame\u001B[38;5;241m=\u001B[39mframe,\n\u001B[1;32m   1730\u001B[0m     name\u001B[38;5;241m=\u001B[39mname,\n\u001B[1;32m   1731\u001B[0m     if_exists\u001B[38;5;241m=\u001B[39mif_exists,\n\u001B[1;32m   1732\u001B[0m     index\u001B[38;5;241m=\u001B[39mindex,\n\u001B[1;32m   1733\u001B[0m     index_label\u001B[38;5;241m=\u001B[39mindex_label,\n\u001B[1;32m   1734\u001B[0m     schema\u001B[38;5;241m=\u001B[39mschema,\n\u001B[1;32m   1735\u001B[0m     dtype\u001B[38;5;241m=\u001B[39mdtype,\n\u001B[1;32m   1736\u001B[0m )\n\u001B[1;32m   1738\u001B[0m total_inserted \u001B[38;5;241m=\u001B[39m sql_engine\u001B[38;5;241m.\u001B[39minsert_records(\n\u001B[1;32m   1739\u001B[0m     table\u001B[38;5;241m=\u001B[39mtable,\n\u001B[1;32m   1740\u001B[0m     con\u001B[38;5;241m=\u001B[39m\u001B[38;5;28mself\u001B[39m\u001B[38;5;241m.\u001B[39mconnectable,\n\u001B[0;32m   (...)\u001B[0m\n\u001B[1;32m   1747\u001B[0m     \u001B[38;5;241m*\u001B[39m\u001B[38;5;241m*\u001B[39mengine_kwargs,\n\u001B[1;32m   1748\u001B[0m )\n\u001B[1;32m   1750\u001B[0m \u001B[38;5;28mself\u001B[39m\u001B[38;5;241m.\u001B[39mcheck_case_sensitive(name\u001B[38;5;241m=\u001B[39mname, schema\u001B[38;5;241m=\u001B[39mschema)\n",
      "File \u001B[0;32m~/anaconda3/envs/10academyw0/lib/python3.12/site-packages/pandas/io/sql.py:1621\u001B[0m, in \u001B[0;36mSQLDatabase.prep_table\u001B[0;34m(self, frame, name, if_exists, index, index_label, schema, dtype)\u001B[0m\n\u001B[1;32m   1618\u001B[0m         \u001B[38;5;28;01mif\u001B[39;00m \u001B[38;5;129;01mnot\u001B[39;00m \u001B[38;5;28misinstance\u001B[39m(to_instance(my_type), TypeEngine):\n\u001B[1;32m   1619\u001B[0m             \u001B[38;5;28;01mraise\u001B[39;00m \u001B[38;5;167;01mValueError\u001B[39;00m(\u001B[38;5;124mf\u001B[39m\u001B[38;5;124m\"\u001B[39m\u001B[38;5;124mThe type of \u001B[39m\u001B[38;5;132;01m{\u001B[39;00mcol\u001B[38;5;132;01m}\u001B[39;00m\u001B[38;5;124m is not a SQLAlchemy type\u001B[39m\u001B[38;5;124m\"\u001B[39m)\n\u001B[0;32m-> 1621\u001B[0m table \u001B[38;5;241m=\u001B[39m SQLTable(\n\u001B[1;32m   1622\u001B[0m     name,\n\u001B[1;32m   1623\u001B[0m     \u001B[38;5;28mself\u001B[39m,\n\u001B[1;32m   1624\u001B[0m     frame\u001B[38;5;241m=\u001B[39mframe,\n\u001B[1;32m   1625\u001B[0m     index\u001B[38;5;241m=\u001B[39mindex,\n\u001B[1;32m   1626\u001B[0m     if_exists\u001B[38;5;241m=\u001B[39mif_exists,\n\u001B[1;32m   1627\u001B[0m     index_label\u001B[38;5;241m=\u001B[39mindex_label,\n\u001B[1;32m   1628\u001B[0m     schema\u001B[38;5;241m=\u001B[39mschema,\n\u001B[1;32m   1629\u001B[0m     dtype\u001B[38;5;241m=\u001B[39mdtype,\n\u001B[1;32m   1630\u001B[0m )\n\u001B[1;32m   1631\u001B[0m table\u001B[38;5;241m.\u001B[39mcreate()\n\u001B[1;32m   1632\u001B[0m \u001B[38;5;28;01mreturn\u001B[39;00m table\n",
      "File \u001B[0;32m~/anaconda3/envs/10academyw0/lib/python3.12/site-packages/pandas/io/sql.py:805\u001B[0m, in \u001B[0;36mSQLTable.__init__\u001B[0;34m(self, name, pandas_sql_engine, frame, index, if_exists, prefix, index_label, schema, keys, dtype)\u001B[0m\n\u001B[1;32m    801\u001B[0m \u001B[38;5;28mself\u001B[39m\u001B[38;5;241m.\u001B[39mdtype \u001B[38;5;241m=\u001B[39m dtype\n\u001B[1;32m    803\u001B[0m \u001B[38;5;28;01mif\u001B[39;00m frame \u001B[38;5;129;01mis\u001B[39;00m \u001B[38;5;129;01mnot\u001B[39;00m \u001B[38;5;28;01mNone\u001B[39;00m:\n\u001B[1;32m    804\u001B[0m     \u001B[38;5;66;03m# We want to initialize based on a dataframe\u001B[39;00m\n\u001B[0;32m--> 805\u001B[0m     \u001B[38;5;28mself\u001B[39m\u001B[38;5;241m.\u001B[39mtable \u001B[38;5;241m=\u001B[39m \u001B[38;5;28mself\u001B[39m\u001B[38;5;241m.\u001B[39m_create_table_setup()\n\u001B[1;32m    806\u001B[0m \u001B[38;5;28;01melse\u001B[39;00m:\n\u001B[1;32m    807\u001B[0m     \u001B[38;5;66;03m# no data provided, read-only mode\u001B[39;00m\n\u001B[1;32m    808\u001B[0m     \u001B[38;5;28mself\u001B[39m\u001B[38;5;241m.\u001B[39mtable \u001B[38;5;241m=\u001B[39m \u001B[38;5;28mself\u001B[39m\u001B[38;5;241m.\u001B[39mpd_sql\u001B[38;5;241m.\u001B[39mget_table(\u001B[38;5;28mself\u001B[39m\u001B[38;5;241m.\u001B[39mname, \u001B[38;5;28mself\u001B[39m\u001B[38;5;241m.\u001B[39mschema)\n",
      "File \u001B[0;32m~/anaconda3/envs/10academyw0/lib/python3.12/site-packages/pandas/io/sql.py:1102\u001B[0m, in \u001B[0;36mSQLTable._create_table_setup\u001B[0;34m(self)\u001B[0m\n\u001B[1;32m   1099\u001B[0m \u001B[38;5;66;03m# At this point, attach to new metadata, only attach to self.meta\u001B[39;00m\n\u001B[1;32m   1100\u001B[0m \u001B[38;5;66;03m# once table is created.\u001B[39;00m\n\u001B[1;32m   1101\u001B[0m meta \u001B[38;5;241m=\u001B[39m MetaData()\n\u001B[0;32m-> 1102\u001B[0m \u001B[38;5;28;01mreturn\u001B[39;00m Table(\u001B[38;5;28mself\u001B[39m\u001B[38;5;241m.\u001B[39mname, meta, \u001B[38;5;241m*\u001B[39mcolumns, schema\u001B[38;5;241m=\u001B[39mschema)\n",
      "File \u001B[0;32m<string>:2\u001B[0m, in \u001B[0;36m__new__\u001B[0;34m(cls, *args, **kw)\u001B[0m\n",
      "File \u001B[0;32m~/anaconda3/envs/10academyw0/lib/python3.12/site-packages/sqlalchemy/util/deprecations.py:281\u001B[0m, in \u001B[0;36mdeprecated_params.<locals>.decorate.<locals>.warned\u001B[0;34m(fn, *args, **kwargs)\u001B[0m\n\u001B[1;32m    274\u001B[0m     \u001B[38;5;28;01mif\u001B[39;00m m \u001B[38;5;129;01min\u001B[39;00m kwargs:\n\u001B[1;32m    275\u001B[0m         _warn_with_version(\n\u001B[1;32m    276\u001B[0m             messages[m],\n\u001B[1;32m    277\u001B[0m             versions[m],\n\u001B[1;32m    278\u001B[0m             version_warnings[m],\n\u001B[1;32m    279\u001B[0m             stacklevel\u001B[38;5;241m=\u001B[39m\u001B[38;5;241m3\u001B[39m,\n\u001B[1;32m    280\u001B[0m         )\n\u001B[0;32m--> 281\u001B[0m \u001B[38;5;28;01mreturn\u001B[39;00m fn(\u001B[38;5;241m*\u001B[39margs, \u001B[38;5;241m*\u001B[39m\u001B[38;5;241m*\u001B[39mkwargs)\n",
      "File \u001B[0;32m~/anaconda3/envs/10academyw0/lib/python3.12/site-packages/sqlalchemy/sql/schema.py:431\u001B[0m, in \u001B[0;36mTable.__new__\u001B[0;34m(cls, *args, **kw)\u001B[0m\n\u001B[1;32m    424\u001B[0m \u001B[38;5;129m@util\u001B[39m\u001B[38;5;241m.\u001B[39mdeprecated_params(\n\u001B[1;32m    425\u001B[0m     mustexist\u001B[38;5;241m=\u001B[39m(\n\u001B[1;32m    426\u001B[0m         \u001B[38;5;124m\"\u001B[39m\u001B[38;5;124m1.4\u001B[39m\u001B[38;5;124m\"\u001B[39m,\n\u001B[0;32m   (...)\u001B[0m\n\u001B[1;32m    429\u001B[0m )\n\u001B[1;32m    430\u001B[0m \u001B[38;5;28;01mdef\u001B[39;00m \u001B[38;5;21m__new__\u001B[39m(\u001B[38;5;28mcls\u001B[39m, \u001B[38;5;241m*\u001B[39margs: Any, \u001B[38;5;241m*\u001B[39m\u001B[38;5;241m*\u001B[39mkw: Any) \u001B[38;5;241m-\u001B[39m\u001B[38;5;241m>\u001B[39m Any:\n\u001B[0;32m--> 431\u001B[0m     \u001B[38;5;28;01mreturn\u001B[39;00m \u001B[38;5;28mcls\u001B[39m\u001B[38;5;241m.\u001B[39m_new(\u001B[38;5;241m*\u001B[39margs, \u001B[38;5;241m*\u001B[39m\u001B[38;5;241m*\u001B[39mkw)\n",
      "File \u001B[0;32m~/anaconda3/envs/10academyw0/lib/python3.12/site-packages/sqlalchemy/sql/schema.py:485\u001B[0m, in \u001B[0;36mTable._new\u001B[0;34m(cls, *args, **kw)\u001B[0m\n\u001B[1;32m    483\u001B[0m     \u001B[38;5;28;01mreturn\u001B[39;00m table\n\u001B[1;32m    484\u001B[0m \u001B[38;5;28;01mexcept\u001B[39;00m \u001B[38;5;167;01mException\u001B[39;00m:\n\u001B[0;32m--> 485\u001B[0m     \u001B[38;5;28;01mwith\u001B[39;00m util\u001B[38;5;241m.\u001B[39msafe_reraise():\n\u001B[1;32m    486\u001B[0m         metadata\u001B[38;5;241m.\u001B[39m_remove_table(name, schema)\n",
      "File \u001B[0;32m~/anaconda3/envs/10academyw0/lib/python3.12/site-packages/sqlalchemy/util/langhelpers.py:146\u001B[0m, in \u001B[0;36msafe_reraise.__exit__\u001B[0;34m(self, type_, value, traceback)\u001B[0m\n\u001B[1;32m    144\u001B[0m     \u001B[38;5;28;01massert\u001B[39;00m exc_value \u001B[38;5;129;01mis\u001B[39;00m \u001B[38;5;129;01mnot\u001B[39;00m \u001B[38;5;28;01mNone\u001B[39;00m\n\u001B[1;32m    145\u001B[0m     \u001B[38;5;28mself\u001B[39m\u001B[38;5;241m.\u001B[39m_exc_info \u001B[38;5;241m=\u001B[39m \u001B[38;5;28;01mNone\u001B[39;00m  \u001B[38;5;66;03m# remove potential circular references\u001B[39;00m\n\u001B[0;32m--> 146\u001B[0m     \u001B[38;5;28;01mraise\u001B[39;00m exc_value\u001B[38;5;241m.\u001B[39mwith_traceback(exc_tb)\n\u001B[1;32m    147\u001B[0m \u001B[38;5;28;01melse\u001B[39;00m:\n\u001B[1;32m    148\u001B[0m     \u001B[38;5;28mself\u001B[39m\u001B[38;5;241m.\u001B[39m_exc_info \u001B[38;5;241m=\u001B[39m \u001B[38;5;28;01mNone\u001B[39;00m  \u001B[38;5;66;03m# remove potential circular references\u001B[39;00m\n",
      "File \u001B[0;32m~/anaconda3/envs/10academyw0/lib/python3.12/site-packages/sqlalchemy/sql/schema.py:481\u001B[0m, in \u001B[0;36mTable._new\u001B[0;34m(cls, *args, **kw)\u001B[0m\n\u001B[1;32m    479\u001B[0m metadata\u001B[38;5;241m.\u001B[39m_add_table(name, schema, table)\n\u001B[1;32m    480\u001B[0m \u001B[38;5;28;01mtry\u001B[39;00m:\n\u001B[0;32m--> 481\u001B[0m     table\u001B[38;5;241m.\u001B[39m\u001B[38;5;21m__init__\u001B[39m(name, metadata, \u001B[38;5;241m*\u001B[39margs, _no_init\u001B[38;5;241m=\u001B[39m\u001B[38;5;28;01mFalse\u001B[39;00m, \u001B[38;5;241m*\u001B[39m\u001B[38;5;241m*\u001B[39mkw)\n\u001B[1;32m    482\u001B[0m     table\u001B[38;5;241m.\u001B[39mdispatch\u001B[38;5;241m.\u001B[39mafter_parent_attach(table, metadata)\n\u001B[1;32m    483\u001B[0m     \u001B[38;5;28;01mreturn\u001B[39;00m table\n",
      "File \u001B[0;32m~/anaconda3/envs/10academyw0/lib/python3.12/site-packages/sqlalchemy/sql/schema.py:873\u001B[0m, in \u001B[0;36mTable.__init__\u001B[0;34m(self, name, metadata, schema, quote, quote_schema, autoload_with, autoload_replace, keep_existing, extend_existing, resolve_fks, include_columns, implicit_returning, comment, info, listeners, prefixes, _extend_on, _no_init, *args, **kw)\u001B[0m\n\u001B[1;32m    861\u001B[0m     \u001B[38;5;28mself\u001B[39m\u001B[38;5;241m.\u001B[39m_autoload(\n\u001B[1;32m    862\u001B[0m         metadata,\n\u001B[1;32m    863\u001B[0m         autoload_with,\n\u001B[0;32m   (...)\u001B[0m\n\u001B[1;32m    867\u001B[0m         resolve_fks\u001B[38;5;241m=\u001B[39mresolve_fks,\n\u001B[1;32m    868\u001B[0m     )\n\u001B[1;32m    870\u001B[0m \u001B[38;5;66;03m# initialize all the column, etc. objects.  done after reflection to\u001B[39;00m\n\u001B[1;32m    871\u001B[0m \u001B[38;5;66;03m# allow user-overrides\u001B[39;00m\n\u001B[0;32m--> 873\u001B[0m \u001B[38;5;28mself\u001B[39m\u001B[38;5;241m.\u001B[39m_init_items(\n\u001B[1;32m    874\u001B[0m     \u001B[38;5;241m*\u001B[39margs,\n\u001B[1;32m    875\u001B[0m     allow_replacements\u001B[38;5;241m=\u001B[39mextend_existing\n\u001B[1;32m    876\u001B[0m     \u001B[38;5;129;01mor\u001B[39;00m keep_existing\n\u001B[1;32m    877\u001B[0m     \u001B[38;5;129;01mor\u001B[39;00m autoload_with,\n\u001B[1;32m    878\u001B[0m     all_names\u001B[38;5;241m=\u001B[39m{},\n\u001B[1;32m    879\u001B[0m )\n",
      "File \u001B[0;32m~/anaconda3/envs/10academyw0/lib/python3.12/site-packages/sqlalchemy/sql/schema.py:231\u001B[0m, in \u001B[0;36mSchemaItem._init_items\u001B[0;34m(self, *args, **kw)\u001B[0m\n\u001B[1;32m    226\u001B[0m     \u001B[38;5;28;01mraise\u001B[39;00m exc\u001B[38;5;241m.\u001B[39mArgumentError(\n\u001B[1;32m    227\u001B[0m         \u001B[38;5;124m\"\u001B[39m\u001B[38;5;124m'\u001B[39m\u001B[38;5;124mSchemaItem\u001B[39m\u001B[38;5;124m'\u001B[39m\u001B[38;5;124m object, such as a \u001B[39m\u001B[38;5;124m'\u001B[39m\u001B[38;5;124mColumn\u001B[39m\u001B[38;5;124m'\u001B[39m\u001B[38;5;124m or a \u001B[39m\u001B[38;5;124m\"\u001B[39m\n\u001B[1;32m    228\u001B[0m         \u001B[38;5;124mf\u001B[39m\u001B[38;5;124m\"\u001B[39m\u001B[38;5;124m'\u001B[39m\u001B[38;5;124mConstraint\u001B[39m\u001B[38;5;124m'\u001B[39m\u001B[38;5;124m expected, got \u001B[39m\u001B[38;5;132;01m{\u001B[39;00mitem\u001B[38;5;132;01m!r}\u001B[39;00m\u001B[38;5;124m\"\u001B[39m\n\u001B[1;32m    229\u001B[0m     ) \u001B[38;5;28;01mfrom\u001B[39;00m \u001B[38;5;21;01merr\u001B[39;00m\n\u001B[1;32m    230\u001B[0m \u001B[38;5;28;01melse\u001B[39;00m:\n\u001B[0;32m--> 231\u001B[0m     spwd(\u001B[38;5;28mself\u001B[39m, \u001B[38;5;241m*\u001B[39m\u001B[38;5;241m*\u001B[39mkw)\n",
      "File \u001B[0;32m~/anaconda3/envs/10academyw0/lib/python3.12/site-packages/sqlalchemy/sql/base.py:1324\u001B[0m, in \u001B[0;36mSchemaEventTarget._set_parent_with_dispatch\u001B[0;34m(self, parent, **kw)\u001B[0m\n\u001B[1;32m   1320\u001B[0m \u001B[38;5;28;01mdef\u001B[39;00m \u001B[38;5;21m_set_parent_with_dispatch\u001B[39m(\n\u001B[1;32m   1321\u001B[0m     \u001B[38;5;28mself\u001B[39m, parent: SchemaEventTarget, \u001B[38;5;241m*\u001B[39m\u001B[38;5;241m*\u001B[39mkw: Any\n\u001B[1;32m   1322\u001B[0m ) \u001B[38;5;241m-\u001B[39m\u001B[38;5;241m>\u001B[39m \u001B[38;5;28;01mNone\u001B[39;00m:\n\u001B[1;32m   1323\u001B[0m     \u001B[38;5;28mself\u001B[39m\u001B[38;5;241m.\u001B[39mdispatch\u001B[38;5;241m.\u001B[39mbefore_parent_attach(\u001B[38;5;28mself\u001B[39m, parent)\n\u001B[0;32m-> 1324\u001B[0m     \u001B[38;5;28mself\u001B[39m\u001B[38;5;241m.\u001B[39m_set_parent(parent, \u001B[38;5;241m*\u001B[39m\u001B[38;5;241m*\u001B[39mkw)\n\u001B[1;32m   1325\u001B[0m     \u001B[38;5;28mself\u001B[39m\u001B[38;5;241m.\u001B[39mdispatch\u001B[38;5;241m.\u001B[39mafter_parent_attach(\u001B[38;5;28mself\u001B[39m, parent)\n",
      "File \u001B[0;32m~/anaconda3/envs/10academyw0/lib/python3.12/site-packages/sqlalchemy/sql/schema.py:2337\u001B[0m, in \u001B[0;36mColumn._set_parent\u001B[0;34m(self, parent, all_names, allow_replacements, **kw)\u001B[0m\n\u001B[1;32m   2335\u001B[0m \u001B[38;5;28;01mif\u001B[39;00m existing_col \u001B[38;5;129;01mis\u001B[39;00m \u001B[38;5;129;01mnot\u001B[39;00m \u001B[38;5;28mself\u001B[39m:\n\u001B[1;32m   2336\u001B[0m     \u001B[38;5;28;01mif\u001B[39;00m \u001B[38;5;129;01mnot\u001B[39;00m allow_replacements:\n\u001B[0;32m-> 2337\u001B[0m         \u001B[38;5;28;01mraise\u001B[39;00m exc\u001B[38;5;241m.\u001B[39mDuplicateColumnError(\n\u001B[1;32m   2338\u001B[0m             \u001B[38;5;124mf\u001B[39m\u001B[38;5;124m\"\u001B[39m\u001B[38;5;124mA column with \u001B[39m\u001B[38;5;132;01m{\u001B[39;00mconflicts_on\u001B[38;5;132;01m}\u001B[39;00m\u001B[38;5;124m \u001B[39m\u001B[38;5;124m\"\u001B[39m\n\u001B[1;32m   2339\u001B[0m             \u001B[38;5;124mf\u001B[39m\u001B[38;5;124m\"\"\"\u001B[39m\u001B[38;5;124m'\u001B[39m\u001B[38;5;132;01m{\u001B[39;00m\n\u001B[1;32m   2340\u001B[0m \u001B[38;5;250m                \u001B[39m\u001B[38;5;28mself\u001B[39m\u001B[38;5;241m.\u001B[39mkey\u001B[38;5;250m \u001B[39m\u001B[38;5;28;01mif\u001B[39;00m\u001B[38;5;250m \u001B[39mconflicts_on\u001B[38;5;250m \u001B[39m\u001B[38;5;241m==\u001B[39m\u001B[38;5;250m \u001B[39m\u001B[38;5;124m'\u001B[39m\u001B[38;5;124mkey\u001B[39m\u001B[38;5;124m'\u001B[39m\u001B[38;5;250m \u001B[39m\u001B[38;5;28;01melse\u001B[39;00m\u001B[38;5;250m \u001B[39m\u001B[38;5;28mself\u001B[39m\u001B[38;5;241m.\u001B[39mname\n\u001B[1;32m   2341\u001B[0m \u001B[38;5;250m            \u001B[39m\u001B[38;5;132;01m}\u001B[39;00m\u001B[38;5;124m'\u001B[39m\u001B[38;5;124m \u001B[39m\u001B[38;5;124m\"\"\"\u001B[39m\n\u001B[1;32m   2342\u001B[0m             \u001B[38;5;124mf\u001B[39m\u001B[38;5;124m\"\u001B[39m\u001B[38;5;124mis already present in table \u001B[39m\u001B[38;5;124m'\u001B[39m\u001B[38;5;132;01m{\u001B[39;00mtable\u001B[38;5;241m.\u001B[39mname\u001B[38;5;132;01m}\u001B[39;00m\u001B[38;5;124m'\u001B[39m\u001B[38;5;124m.\u001B[39m\u001B[38;5;124m\"\u001B[39m\n\u001B[1;32m   2343\u001B[0m         )\n\u001B[1;32m   2344\u001B[0m     \u001B[38;5;28;01mfor\u001B[39;00m fk \u001B[38;5;129;01min\u001B[39;00m existing_col\u001B[38;5;241m.\u001B[39mforeign_keys:\n\u001B[1;32m   2345\u001B[0m         table\u001B[38;5;241m.\u001B[39mforeign_keys\u001B[38;5;241m.\u001B[39mremove(fk)\n",
      "\u001B[0;31mDuplicateColumnError\u001B[0m: A column with name 'IMSI' is already present in table 'clean_data'."
     ]
    }
   ],
   "source": [
    "# Save the preprocessed data\n",
    "from src.utils import save_data_to_db\n",
    "save_data_to_db(df_preprocessed, 'clean_data')"
   ],
   "metadata": {
    "collapsed": false,
    "ExecuteTime": {
     "end_time": "2024-04-27T08:33:54.667898Z",
     "start_time": "2024-04-27T08:33:52.756525Z"
    }
   },
   "id": "ea529847a3adf877",
   "execution_count": 4
  },
  {
   "cell_type": "code",
   "outputs": [],
   "source": [],
   "metadata": {
    "collapsed": false
   },
   "id": "df943e98e837ece1"
  }
 ],
 "metadata": {
  "kernelspec": {
   "display_name": "Python 3",
   "language": "python",
   "name": "python3"
  },
  "language_info": {
   "codemirror_mode": {
    "name": "ipython",
    "version": 2
   },
   "file_extension": ".py",
   "mimetype": "text/x-python",
   "name": "python",
   "nbconvert_exporter": "python",
   "pygments_lexer": "ipython2",
   "version": "2.7.6"
  }
 },
 "nbformat": 4,
 "nbformat_minor": 5
}
