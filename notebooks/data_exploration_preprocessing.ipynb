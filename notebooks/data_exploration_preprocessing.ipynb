{
 "cells": [
  {
   "cell_type": "markdown",
   "source": [
    "# Data Exploration and Preprocessing\n",
    "\n",
    "In this notebook, we will load the dataset, explore it, and perform necessary preprocessing tasks."
   ],
   "metadata": {
    "collapsed": false
   },
   "id": "477bbb325c679afd"
  },
  {
   "cell_type": "markdown",
   "source": [],
   "metadata": {
    "collapsed": false
   },
   "id": "616804764891f743"
  },
  {
   "cell_type": "code",
   "execution_count": 1,
   "id": "initial_id",
   "metadata": {
    "collapsed": true,
    "ExecuteTime": {
     "end_time": "2024-04-27T06:21:02.039589Z",
     "start_time": "2024-04-27T06:21:01.711963Z"
    }
   },
   "outputs": [],
   "source": [
    "# Import necessary libraries\n",
    "import pandas as pd\n",
    "\n",
    "from src.utils import fetch_data_from_db\n",
    "from src.preprocessing import preprocess_data\n",
    "from src.utils import save_data_to_db"
   ]
  },
  {
   "cell_type": "markdown",
   "source": [
    "## Load the Data\n",
    "\n",
    "We will load the data from postgres database into a pandas DataFrame."
   ],
   "metadata": {
    "collapsed": false
   },
   "id": "92a140c9d1b0f44"
  },
  {
   "cell_type": "code",
   "outputs": [],
   "source": [
    "query = \"SELECT * FROM xdr_data\"\n",
    "df = fetch_data_from_db(query)"
   ],
   "metadata": {
    "collapsed": false,
    "ExecuteTime": {
     "end_time": "2024-04-27T06:21:05.605813Z",
     "start_time": "2024-04-27T06:21:02.040903Z"
    }
   },
   "id": "275908fb7305f4a9",
   "execution_count": 2
  },
  {
   "cell_type": "markdown",
   "source": [
    "## Data Overview"
   ],
   "metadata": {
    "collapsed": false
   },
   "id": "1efef5f167043d2f"
  },
  {
   "cell_type": "code",
   "outputs": [
    {
     "data": {
      "text/plain": "      Bearer Id            Start  Start ms              End  End ms  \\\n0  1.311448e+19   4/4/2019 12:01     770.0  4/25/2019 14:35   662.0   \n1  1.311448e+19   4/9/2019 13:04     235.0   4/25/2019 8:15   606.0   \n2  1.311448e+19   4/9/2019 17:42       1.0  4/25/2019 11:58   652.0   \n3  1.311448e+19   4/10/2019 0:31     486.0   4/25/2019 7:36   171.0   \n4  1.311448e+19  4/12/2019 20:10     565.0  4/25/2019 10:40   954.0   \n\n   Dur. (ms)          IMSI  MSISDN/Number          IMEI  \\\n0  1823652.0  2.082014e+14   3.366496e+10  3.552121e+13   \n1  1365104.0  2.082019e+14   3.368185e+10  3.579401e+13   \n2  1361762.0  2.082003e+14   3.376063e+10  3.528151e+13   \n3  1321509.0  2.082014e+14   3.375034e+10  3.535661e+13   \n4  1089009.0  2.082014e+14   3.369980e+10  3.540701e+13   \n\n      Last Location Name  ...  Youtube DL (Bytes)  Youtube UL (Bytes)  \\\n0  9.16456699548519E+015  ...          15854611.0           2501332.0   \n1                L77566A  ...          20247395.0          19111729.0   \n2                D42335A  ...          19725661.0          14699576.0   \n3                T21824A  ...          21388122.0          15146643.0   \n4                D88865A  ...          15259380.0          18962873.0   \n\n   Netflix DL (Bytes)  Netflix UL (Bytes)  Gaming DL (Bytes)  \\\n0           8198936.0           9656251.0        278082303.0   \n1          18338413.0          17227132.0        608750074.0   \n2          17587794.0           6163408.0        229584621.0   \n3          13994646.0           1097942.0        799538153.0   \n4          17124581.0            415218.0        527707248.0   \n\n   Gaming UL (Bytes)  Other DL (Bytes)  Other UL (Bytes)  Total UL (Bytes)  \\\n0         14344150.0       171744450.0         8814393.0        36749741.0   \n1          1170709.0       526904238.0        15055145.0        53800391.0   \n2           395630.0       410692588.0         4215763.0        27883638.0   \n3         10849722.0       749039933.0        12797283.0        43324218.0   \n4          3529801.0       550709500.0        13910322.0        38542814.0   \n\n   Total DL (Bytes)  \n0       308879636.0  \n1       653384965.0  \n2       279807335.0  \n3       846028530.0  \n4       569138589.0  \n\n[5 rows x 55 columns]",
      "text/html": "<div>\n<style scoped>\n    .dataframe tbody tr th:only-of-type {\n        vertical-align: middle;\n    }\n\n    .dataframe tbody tr th {\n        vertical-align: top;\n    }\n\n    .dataframe thead th {\n        text-align: right;\n    }\n</style>\n<table border=\"1\" class=\"dataframe\">\n  <thead>\n    <tr style=\"text-align: right;\">\n      <th></th>\n      <th>Bearer Id</th>\n      <th>Start</th>\n      <th>Start ms</th>\n      <th>End</th>\n      <th>End ms</th>\n      <th>Dur. (ms)</th>\n      <th>IMSI</th>\n      <th>MSISDN/Number</th>\n      <th>IMEI</th>\n      <th>Last Location Name</th>\n      <th>...</th>\n      <th>Youtube DL (Bytes)</th>\n      <th>Youtube UL (Bytes)</th>\n      <th>Netflix DL (Bytes)</th>\n      <th>Netflix UL (Bytes)</th>\n      <th>Gaming DL (Bytes)</th>\n      <th>Gaming UL (Bytes)</th>\n      <th>Other DL (Bytes)</th>\n      <th>Other UL (Bytes)</th>\n      <th>Total UL (Bytes)</th>\n      <th>Total DL (Bytes)</th>\n    </tr>\n  </thead>\n  <tbody>\n    <tr>\n      <th>0</th>\n      <td>1.311448e+19</td>\n      <td>4/4/2019 12:01</td>\n      <td>770.0</td>\n      <td>4/25/2019 14:35</td>\n      <td>662.0</td>\n      <td>1823652.0</td>\n      <td>2.082014e+14</td>\n      <td>3.366496e+10</td>\n      <td>3.552121e+13</td>\n      <td>9.16456699548519E+015</td>\n      <td>...</td>\n      <td>15854611.0</td>\n      <td>2501332.0</td>\n      <td>8198936.0</td>\n      <td>9656251.0</td>\n      <td>278082303.0</td>\n      <td>14344150.0</td>\n      <td>171744450.0</td>\n      <td>8814393.0</td>\n      <td>36749741.0</td>\n      <td>308879636.0</td>\n    </tr>\n    <tr>\n      <th>1</th>\n      <td>1.311448e+19</td>\n      <td>4/9/2019 13:04</td>\n      <td>235.0</td>\n      <td>4/25/2019 8:15</td>\n      <td>606.0</td>\n      <td>1365104.0</td>\n      <td>2.082019e+14</td>\n      <td>3.368185e+10</td>\n      <td>3.579401e+13</td>\n      <td>L77566A</td>\n      <td>...</td>\n      <td>20247395.0</td>\n      <td>19111729.0</td>\n      <td>18338413.0</td>\n      <td>17227132.0</td>\n      <td>608750074.0</td>\n      <td>1170709.0</td>\n      <td>526904238.0</td>\n      <td>15055145.0</td>\n      <td>53800391.0</td>\n      <td>653384965.0</td>\n    </tr>\n    <tr>\n      <th>2</th>\n      <td>1.311448e+19</td>\n      <td>4/9/2019 17:42</td>\n      <td>1.0</td>\n      <td>4/25/2019 11:58</td>\n      <td>652.0</td>\n      <td>1361762.0</td>\n      <td>2.082003e+14</td>\n      <td>3.376063e+10</td>\n      <td>3.528151e+13</td>\n      <td>D42335A</td>\n      <td>...</td>\n      <td>19725661.0</td>\n      <td>14699576.0</td>\n      <td>17587794.0</td>\n      <td>6163408.0</td>\n      <td>229584621.0</td>\n      <td>395630.0</td>\n      <td>410692588.0</td>\n      <td>4215763.0</td>\n      <td>27883638.0</td>\n      <td>279807335.0</td>\n    </tr>\n    <tr>\n      <th>3</th>\n      <td>1.311448e+19</td>\n      <td>4/10/2019 0:31</td>\n      <td>486.0</td>\n      <td>4/25/2019 7:36</td>\n      <td>171.0</td>\n      <td>1321509.0</td>\n      <td>2.082014e+14</td>\n      <td>3.375034e+10</td>\n      <td>3.535661e+13</td>\n      <td>T21824A</td>\n      <td>...</td>\n      <td>21388122.0</td>\n      <td>15146643.0</td>\n      <td>13994646.0</td>\n      <td>1097942.0</td>\n      <td>799538153.0</td>\n      <td>10849722.0</td>\n      <td>749039933.0</td>\n      <td>12797283.0</td>\n      <td>43324218.0</td>\n      <td>846028530.0</td>\n    </tr>\n    <tr>\n      <th>4</th>\n      <td>1.311448e+19</td>\n      <td>4/12/2019 20:10</td>\n      <td>565.0</td>\n      <td>4/25/2019 10:40</td>\n      <td>954.0</td>\n      <td>1089009.0</td>\n      <td>2.082014e+14</td>\n      <td>3.369980e+10</td>\n      <td>3.540701e+13</td>\n      <td>D88865A</td>\n      <td>...</td>\n      <td>15259380.0</td>\n      <td>18962873.0</td>\n      <td>17124581.0</td>\n      <td>415218.0</td>\n      <td>527707248.0</td>\n      <td>3529801.0</td>\n      <td>550709500.0</td>\n      <td>13910322.0</td>\n      <td>38542814.0</td>\n      <td>569138589.0</td>\n    </tr>\n  </tbody>\n</table>\n<p>5 rows × 55 columns</p>\n</div>"
     },
     "execution_count": 3,
     "metadata": {},
     "output_type": "execute_result"
    }
   ],
   "source": [
    "# Print the first few rows of the DataFrame\n",
    "df.head()"
   ],
   "metadata": {
    "collapsed": false,
    "ExecuteTime": {
     "end_time": "2024-04-27T06:21:05.630343Z",
     "start_time": "2024-04-27T06:21:05.606722Z"
    }
   },
   "id": "5e4d058e98652251",
   "execution_count": 3
  },
  {
   "cell_type": "code",
   "outputs": [
    {
     "data": {
      "text/plain": "(150001, 55)"
     },
     "execution_count": 4,
     "metadata": {},
     "output_type": "execute_result"
    }
   ],
   "source": [
    "# Print the shape of the DataFrame\n",
    "df.shape"
   ],
   "metadata": {
    "collapsed": false,
    "ExecuteTime": {
     "end_time": "2024-04-27T06:21:05.634021Z",
     "start_time": "2024-04-27T06:21:05.631618Z"
    }
   },
   "id": "d8a8bc5cb3f8615b",
   "execution_count": 4
  },
  {
   "cell_type": "code",
   "outputs": [
    {
     "name": "stdout",
     "output_type": "stream",
     "text": [
      "<class 'pandas.core.frame.DataFrame'>\n",
      "RangeIndex: 150001 entries, 0 to 150000\n",
      "Data columns (total 55 columns):\n",
      " #   Column                                    Non-Null Count   Dtype  \n",
      "---  ------                                    --------------   -----  \n",
      " 0   Bearer Id                                 149010 non-null  float64\n",
      " 1   Start                                     150000 non-null  object \n",
      " 2   Start ms                                  150000 non-null  float64\n",
      " 3   End                                       150000 non-null  object \n",
      " 4   End ms                                    150000 non-null  float64\n",
      " 5   Dur. (ms)                                 150000 non-null  float64\n",
      " 6   IMSI                                      149431 non-null  float64\n",
      " 7   MSISDN/Number                             148935 non-null  float64\n",
      " 8   IMEI                                      149429 non-null  float64\n",
      " 9   Last Location Name                        148848 non-null  object \n",
      " 10  Avg RTT DL (ms)                           122172 non-null  float64\n",
      " 11  Avg RTT UL (ms)                           122189 non-null  float64\n",
      " 12  Avg Bearer TP DL (kbps)                   150000 non-null  float64\n",
      " 13  Avg Bearer TP UL (kbps)                   150000 non-null  float64\n",
      " 14  TCP DL Retrans. Vol (Bytes)               61855 non-null   float64\n",
      " 15  TCP UL Retrans. Vol (Bytes)               53352 non-null   float64\n",
      " 16  DL TP < 50 Kbps (%)                       149247 non-null  float64\n",
      " 17  50 Kbps < DL TP < 250 Kbps (%)            149247 non-null  float64\n",
      " 18  250 Kbps < DL TP < 1 Mbps (%)             149247 non-null  float64\n",
      " 19  DL TP > 1 Mbps (%)                        149247 non-null  float64\n",
      " 20  UL TP < 10 Kbps (%)                       149209 non-null  float64\n",
      " 21  10 Kbps < UL TP < 50 Kbps (%)             149209 non-null  float64\n",
      " 22  50 Kbps < UL TP < 300 Kbps (%)            149209 non-null  float64\n",
      " 23  UL TP > 300 Kbps (%)                      149209 non-null  float64\n",
      " 24  HTTP DL (Bytes)                           68527 non-null   float64\n",
      " 25  HTTP UL (Bytes)                           68191 non-null   float64\n",
      " 26  Activity Duration DL (ms)                 150000 non-null  float64\n",
      " 27  Activity Duration UL (ms)                 150000 non-null  float64\n",
      " 28  Dur. (ms).1                               150000 non-null  float64\n",
      " 29  Handset Manufacturer                      149429 non-null  object \n",
      " 30  Handset Type                              149429 non-null  object \n",
      " 31  Nb of sec with 125000B < Vol DL           52463 non-null   float64\n",
      " 32  Nb of sec with 1250B < Vol UL < 6250B     57107 non-null   float64\n",
      " 33  Nb of sec with 31250B < Vol DL < 125000B  56415 non-null   float64\n",
      " 34  Nb of sec with 37500B < Vol UL            19747 non-null   float64\n",
      " 35  Nb of sec with 6250B < Vol DL < 31250B    61684 non-null   float64\n",
      " 36  Nb of sec with 6250B < Vol UL < 37500B    38158 non-null   float64\n",
      " 37  Nb of sec with Vol DL < 6250B             149246 non-null  float64\n",
      " 38  Nb of sec with Vol UL < 1250B             149208 non-null  float64\n",
      " 39  Social Media DL (Bytes)                   150001 non-null  float64\n",
      " 40  Social Media UL (Bytes)                   150001 non-null  float64\n",
      " 41  Google DL (Bytes)                         150001 non-null  float64\n",
      " 42  Google UL (Bytes)                         150001 non-null  float64\n",
      " 43  Email DL (Bytes)                          150001 non-null  float64\n",
      " 44  Email UL (Bytes)                          150001 non-null  float64\n",
      " 45  Youtube DL (Bytes)                        150001 non-null  float64\n",
      " 46  Youtube UL (Bytes)                        150001 non-null  float64\n",
      " 47  Netflix DL (Bytes)                        150001 non-null  float64\n",
      " 48  Netflix UL (Bytes)                        150001 non-null  float64\n",
      " 49  Gaming DL (Bytes)                         150001 non-null  float64\n",
      " 50  Gaming UL (Bytes)                         150001 non-null  float64\n",
      " 51  Other DL (Bytes)                          150001 non-null  float64\n",
      " 52  Other UL (Bytes)                          150001 non-null  float64\n",
      " 53  Total UL (Bytes)                          150000 non-null  float64\n",
      " 54  Total DL (Bytes)                          150000 non-null  float64\n",
      "dtypes: float64(50), object(5)\n",
      "memory usage: 62.9+ MB\n",
      "None\n"
     ]
    }
   ],
   "source": [
    "# Check the DataFrame's information\n",
    "print(df.info())"
   ],
   "metadata": {
    "collapsed": false,
    "ExecuteTime": {
     "end_time": "2024-04-27T06:21:05.761765Z",
     "start_time": "2024-04-27T06:21:05.634728Z"
    }
   },
   "id": "e95381614e72fb32",
   "execution_count": 5
  },
  {
   "cell_type": "code",
   "outputs": [
    {
     "data": {
      "text/plain": "          Bearer Id       Start ms         End ms     Dur. (ms)          IMSI  \\\ncount  1.490100e+05  150000.000000  150000.000000  1.500000e+05  1.494310e+05   \nmean   1.013887e+19     499.188200     498.800880  1.046086e+05  2.082016e+14   \nstd    2.893173e+18     288.611834     288.097653  8.103762e+04  2.148809e+10   \nmin    6.917538e+18       0.000000       0.000000  7.142000e+03  2.040471e+14   \n25%    7.349883e+18     250.000000     251.000000  5.744050e+04  2.082014e+14   \n50%    7.349883e+18     499.000000     500.000000  8.639900e+04  2.082015e+14   \n75%    1.304243e+19     749.000000     750.000000  1.324302e+05  2.082018e+14   \nmax    1.318654e+19     999.000000     999.000000  1.859336e+06  2.140743e+14   \n\n       MSISDN/Number          IMEI  Avg RTT DL (ms)  Avg RTT UL (ms)  \\\ncount   1.489350e+05  1.494290e+05    122172.000000    122189.000000   \nmean    4.188282e+10  4.847455e+13       109.795706        17.662883   \nstd     2.447443e+12  2.241637e+13       619.782739        84.793524   \nmin     3.360100e+10  4.400152e+11         0.000000         0.000000   \n25%     3.365130e+10  3.546071e+13        32.000000         2.000000   \n50%     3.366371e+10  3.572201e+13        45.000000         5.000000   \n75%     3.368349e+10  8.611970e+13        70.000000        15.000000   \nmax     8.823971e+14  9.900120e+13     96923.000000      7120.000000   \n\n       Avg Bearer TP DL (kbps)  ...  Youtube DL (Bytes)  Youtube UL (Bytes)  \\\ncount            150000.000000  ...        1.500010e+05        1.500010e+05   \nmean              13300.045927  ...        1.163407e+07        1.100941e+07   \nstd               23971.878541  ...        6.710569e+06        6.345423e+06   \nmin                   0.000000  ...        5.300000e+01        1.050000e+02   \n25%                  43.000000  ...        5.833501e+06        5.517965e+06   \n50%                  63.000000  ...        1.161602e+07        1.101345e+07   \n75%               19710.750000  ...        1.744852e+07        1.651556e+07   \nmax              378160.000000  ...        2.325910e+07        2.201196e+07   \n\n       Netflix DL (Bytes)  Netflix UL (Bytes)  Gaming DL (Bytes)  \\\ncount        1.500010e+05        1.500010e+05       1.500010e+05   \nmean         1.162685e+07        1.100175e+07       4.220447e+08   \nstd          6.725218e+06        6.359490e+06       2.439675e+08   \nmin          4.200000e+01        3.500000e+01       2.516000e+03   \n25%          5.777156e+06        5.475981e+06       2.104733e+08   \n50%          1.164222e+07        1.099638e+07       4.234081e+08   \n75%          1.747048e+07        1.650727e+07       6.331742e+08   \nmax          2.325919e+07        2.201196e+07       8.434419e+08   \n\n       Gaming UL (Bytes)  Other DL (Bytes)  Other UL (Bytes)  \\\ncount       1.500010e+05      1.500010e+05      1.500010e+05   \nmean        8.288398e+06      4.211005e+08      8.264799e+06   \nstd         4.782700e+06      2.432050e+08      4.769004e+06   \nmin         5.900000e+01      3.290000e+03      1.480000e+02   \n25%         4.128476e+06      2.101869e+08      4.145943e+06   \n50%         8.291208e+06      4.218030e+08      8.267071e+06   \n75%         1.243162e+07      6.316918e+08      1.238415e+07   \nmax         1.655879e+07      8.434425e+08      1.655882e+07   \n\n       Total UL (Bytes)  Total DL (Bytes)  \ncount      1.500000e+05      1.500000e+05  \nmean       4.112121e+07      4.546434e+08  \nstd        1.127639e+07      2.441429e+08  \nmin        2.866892e+06      7.114041e+06  \n25%        3.322201e+07      2.431068e+08  \n50%        4.114331e+07      4.558411e+08  \n75%        4.903424e+07      6.657055e+08  \nmax        7.833131e+07      9.029696e+08  \n\n[8 rows x 50 columns]",
      "text/html": "<div>\n<style scoped>\n    .dataframe tbody tr th:only-of-type {\n        vertical-align: middle;\n    }\n\n    .dataframe tbody tr th {\n        vertical-align: top;\n    }\n\n    .dataframe thead th {\n        text-align: right;\n    }\n</style>\n<table border=\"1\" class=\"dataframe\">\n  <thead>\n    <tr style=\"text-align: right;\">\n      <th></th>\n      <th>Bearer Id</th>\n      <th>Start ms</th>\n      <th>End ms</th>\n      <th>Dur. (ms)</th>\n      <th>IMSI</th>\n      <th>MSISDN/Number</th>\n      <th>IMEI</th>\n      <th>Avg RTT DL (ms)</th>\n      <th>Avg RTT UL (ms)</th>\n      <th>Avg Bearer TP DL (kbps)</th>\n      <th>...</th>\n      <th>Youtube DL (Bytes)</th>\n      <th>Youtube UL (Bytes)</th>\n      <th>Netflix DL (Bytes)</th>\n      <th>Netflix UL (Bytes)</th>\n      <th>Gaming DL (Bytes)</th>\n      <th>Gaming UL (Bytes)</th>\n      <th>Other DL (Bytes)</th>\n      <th>Other UL (Bytes)</th>\n      <th>Total UL (Bytes)</th>\n      <th>Total DL (Bytes)</th>\n    </tr>\n  </thead>\n  <tbody>\n    <tr>\n      <th>count</th>\n      <td>1.490100e+05</td>\n      <td>150000.000000</td>\n      <td>150000.000000</td>\n      <td>1.500000e+05</td>\n      <td>1.494310e+05</td>\n      <td>1.489350e+05</td>\n      <td>1.494290e+05</td>\n      <td>122172.000000</td>\n      <td>122189.000000</td>\n      <td>150000.000000</td>\n      <td>...</td>\n      <td>1.500010e+05</td>\n      <td>1.500010e+05</td>\n      <td>1.500010e+05</td>\n      <td>1.500010e+05</td>\n      <td>1.500010e+05</td>\n      <td>1.500010e+05</td>\n      <td>1.500010e+05</td>\n      <td>1.500010e+05</td>\n      <td>1.500000e+05</td>\n      <td>1.500000e+05</td>\n    </tr>\n    <tr>\n      <th>mean</th>\n      <td>1.013887e+19</td>\n      <td>499.188200</td>\n      <td>498.800880</td>\n      <td>1.046086e+05</td>\n      <td>2.082016e+14</td>\n      <td>4.188282e+10</td>\n      <td>4.847455e+13</td>\n      <td>109.795706</td>\n      <td>17.662883</td>\n      <td>13300.045927</td>\n      <td>...</td>\n      <td>1.163407e+07</td>\n      <td>1.100941e+07</td>\n      <td>1.162685e+07</td>\n      <td>1.100175e+07</td>\n      <td>4.220447e+08</td>\n      <td>8.288398e+06</td>\n      <td>4.211005e+08</td>\n      <td>8.264799e+06</td>\n      <td>4.112121e+07</td>\n      <td>4.546434e+08</td>\n    </tr>\n    <tr>\n      <th>std</th>\n      <td>2.893173e+18</td>\n      <td>288.611834</td>\n      <td>288.097653</td>\n      <td>8.103762e+04</td>\n      <td>2.148809e+10</td>\n      <td>2.447443e+12</td>\n      <td>2.241637e+13</td>\n      <td>619.782739</td>\n      <td>84.793524</td>\n      <td>23971.878541</td>\n      <td>...</td>\n      <td>6.710569e+06</td>\n      <td>6.345423e+06</td>\n      <td>6.725218e+06</td>\n      <td>6.359490e+06</td>\n      <td>2.439675e+08</td>\n      <td>4.782700e+06</td>\n      <td>2.432050e+08</td>\n      <td>4.769004e+06</td>\n      <td>1.127639e+07</td>\n      <td>2.441429e+08</td>\n    </tr>\n    <tr>\n      <th>min</th>\n      <td>6.917538e+18</td>\n      <td>0.000000</td>\n      <td>0.000000</td>\n      <td>7.142000e+03</td>\n      <td>2.040471e+14</td>\n      <td>3.360100e+10</td>\n      <td>4.400152e+11</td>\n      <td>0.000000</td>\n      <td>0.000000</td>\n      <td>0.000000</td>\n      <td>...</td>\n      <td>5.300000e+01</td>\n      <td>1.050000e+02</td>\n      <td>4.200000e+01</td>\n      <td>3.500000e+01</td>\n      <td>2.516000e+03</td>\n      <td>5.900000e+01</td>\n      <td>3.290000e+03</td>\n      <td>1.480000e+02</td>\n      <td>2.866892e+06</td>\n      <td>7.114041e+06</td>\n    </tr>\n    <tr>\n      <th>25%</th>\n      <td>7.349883e+18</td>\n      <td>250.000000</td>\n      <td>251.000000</td>\n      <td>5.744050e+04</td>\n      <td>2.082014e+14</td>\n      <td>3.365130e+10</td>\n      <td>3.546071e+13</td>\n      <td>32.000000</td>\n      <td>2.000000</td>\n      <td>43.000000</td>\n      <td>...</td>\n      <td>5.833501e+06</td>\n      <td>5.517965e+06</td>\n      <td>5.777156e+06</td>\n      <td>5.475981e+06</td>\n      <td>2.104733e+08</td>\n      <td>4.128476e+06</td>\n      <td>2.101869e+08</td>\n      <td>4.145943e+06</td>\n      <td>3.322201e+07</td>\n      <td>2.431068e+08</td>\n    </tr>\n    <tr>\n      <th>50%</th>\n      <td>7.349883e+18</td>\n      <td>499.000000</td>\n      <td>500.000000</td>\n      <td>8.639900e+04</td>\n      <td>2.082015e+14</td>\n      <td>3.366371e+10</td>\n      <td>3.572201e+13</td>\n      <td>45.000000</td>\n      <td>5.000000</td>\n      <td>63.000000</td>\n      <td>...</td>\n      <td>1.161602e+07</td>\n      <td>1.101345e+07</td>\n      <td>1.164222e+07</td>\n      <td>1.099638e+07</td>\n      <td>4.234081e+08</td>\n      <td>8.291208e+06</td>\n      <td>4.218030e+08</td>\n      <td>8.267071e+06</td>\n      <td>4.114331e+07</td>\n      <td>4.558411e+08</td>\n    </tr>\n    <tr>\n      <th>75%</th>\n      <td>1.304243e+19</td>\n      <td>749.000000</td>\n      <td>750.000000</td>\n      <td>1.324302e+05</td>\n      <td>2.082018e+14</td>\n      <td>3.368349e+10</td>\n      <td>8.611970e+13</td>\n      <td>70.000000</td>\n      <td>15.000000</td>\n      <td>19710.750000</td>\n      <td>...</td>\n      <td>1.744852e+07</td>\n      <td>1.651556e+07</td>\n      <td>1.747048e+07</td>\n      <td>1.650727e+07</td>\n      <td>6.331742e+08</td>\n      <td>1.243162e+07</td>\n      <td>6.316918e+08</td>\n      <td>1.238415e+07</td>\n      <td>4.903424e+07</td>\n      <td>6.657055e+08</td>\n    </tr>\n    <tr>\n      <th>max</th>\n      <td>1.318654e+19</td>\n      <td>999.000000</td>\n      <td>999.000000</td>\n      <td>1.859336e+06</td>\n      <td>2.140743e+14</td>\n      <td>8.823971e+14</td>\n      <td>9.900120e+13</td>\n      <td>96923.000000</td>\n      <td>7120.000000</td>\n      <td>378160.000000</td>\n      <td>...</td>\n      <td>2.325910e+07</td>\n      <td>2.201196e+07</td>\n      <td>2.325919e+07</td>\n      <td>2.201196e+07</td>\n      <td>8.434419e+08</td>\n      <td>1.655879e+07</td>\n      <td>8.434425e+08</td>\n      <td>1.655882e+07</td>\n      <td>7.833131e+07</td>\n      <td>9.029696e+08</td>\n    </tr>\n  </tbody>\n</table>\n<p>8 rows × 50 columns</p>\n</div>"
     },
     "execution_count": 6,
     "metadata": {},
     "output_type": "execute_result"
    }
   ],
   "source": [
    "# Describe the DataFrame\n",
    "df.describe()"
   ],
   "metadata": {
    "collapsed": false,
    "ExecuteTime": {
     "end_time": "2024-04-27T06:21:06.113967Z",
     "start_time": "2024-04-27T06:21:05.762880Z"
    }
   },
   "id": "ce78a2e7035229fd",
   "execution_count": 6
  },
  {
   "cell_type": "code",
   "outputs": [
    {
     "data": {
      "text/plain": "Bearer Id                                      991\nStart                                            1\nStart ms                                         1\nEnd                                              1\nEnd ms                                           1\nDur. (ms)                                        1\nIMSI                                           570\nMSISDN/Number                                 1066\nIMEI                                           572\nLast Location Name                            1153\nAvg RTT DL (ms)                              27829\nAvg RTT UL (ms)                              27812\nAvg Bearer TP DL (kbps)                          1\nAvg Bearer TP UL (kbps)                          1\nTCP DL Retrans. Vol (Bytes)                  88146\nTCP UL Retrans. Vol (Bytes)                  96649\nDL TP < 50 Kbps (%)                            754\n50 Kbps < DL TP < 250 Kbps (%)                 754\n250 Kbps < DL TP < 1 Mbps (%)                  754\nDL TP > 1 Mbps (%)                             754\nUL TP < 10 Kbps (%)                            792\n10 Kbps < UL TP < 50 Kbps (%)                  792\n50 Kbps < UL TP < 300 Kbps (%)                 792\nUL TP > 300 Kbps (%)                           792\nHTTP DL (Bytes)                              81474\nHTTP UL (Bytes)                              81810\nActivity Duration DL (ms)                        1\nActivity Duration UL (ms)                        1\nDur. (ms).1                                      1\nHandset Manufacturer                           572\nHandset Type                                   572\nNb of sec with 125000B < Vol DL              97538\nNb of sec with 1250B < Vol UL < 6250B        92894\nNb of sec with 31250B < Vol DL < 125000B     93586\nNb of sec with 37500B < Vol UL              130254\nNb of sec with 6250B < Vol DL < 31250B       88317\nNb of sec with 6250B < Vol UL < 37500B      111843\nNb of sec with Vol DL < 6250B                  755\nNb of sec with Vol UL < 1250B                  793\nSocial Media DL (Bytes)                          0\nSocial Media UL (Bytes)                          0\nGoogle DL (Bytes)                                0\nGoogle UL (Bytes)                                0\nEmail DL (Bytes)                                 0\nEmail UL (Bytes)                                 0\nYoutube DL (Bytes)                               0\nYoutube UL (Bytes)                               0\nNetflix DL (Bytes)                               0\nNetflix UL (Bytes)                               0\nGaming DL (Bytes)                                0\nGaming UL (Bytes)                                0\nOther DL (Bytes)                                 0\nOther UL (Bytes)                                 0\nTotal UL (Bytes)                                 1\nTotal DL (Bytes)                                 1\ndtype: int64"
     },
     "execution_count": 7,
     "metadata": {},
     "output_type": "execute_result"
    }
   ],
   "source": [
    "# Check for missing values\n",
    "df.isnull().sum()"
   ],
   "metadata": {
    "collapsed": false,
    "ExecuteTime": {
     "end_time": "2024-04-27T06:21:06.237123Z",
     "start_time": "2024-04-27T06:21:06.114959Z"
    }
   },
   "id": "c2d9bb8f030617e5",
   "execution_count": 7
  },
  {
   "cell_type": "code",
   "outputs": [
    {
     "data": {
      "text/plain": "0"
     },
     "execution_count": 8,
     "metadata": {},
     "output_type": "execute_result"
    }
   ],
   "source": [
    "# Check for duplicates\n",
    "df.duplicated().sum()"
   ],
   "metadata": {
    "collapsed": false,
    "ExecuteTime": {
     "end_time": "2024-04-27T06:21:06.626063Z",
     "start_time": "2024-04-27T06:21:06.238197Z"
    }
   },
   "id": "7d3384544fb79c32",
   "execution_count": 8
  },
  {
   "cell_type": "markdown",
   "source": [
    "## User Overview analysis\n",
    "\n",
    "An overview of the user's behavior on the applications\n"
   ],
   "metadata": {
    "collapsed": false
   },
   "id": "8eeb3a4c338bf7ec"
  },
  {
   "cell_type": "markdown",
   "source": [
    "### Top 10 handsets used by the customers"
   ],
   "metadata": {
    "collapsed": false
   },
   "id": "1ea7eb8b34c6bdaf"
  },
  {
   "cell_type": "code",
   "outputs": [
    {
     "name": "stdout",
     "output_type": "stream",
     "text": [
      "Huawei B528S-23A                19752\n",
      "Apple iPhone 6S (A1688)          9419\n",
      "Apple iPhone 6 (A1586)           9023\n",
      "undefined                        8987\n",
      "Apple iPhone 7 (A1778)           6326\n",
      "Apple iPhone Se (A1723)          5187\n",
      "Apple iPhone 8 (A1905)           4993\n",
      "Apple iPhone Xr (A2105)          4568\n",
      "Samsung Galaxy S8 (Sm-G950F)     4520\n",
      "Apple iPhone X (A1901)           3813\n",
      "Name: Handset Type, dtype: int64\n"
     ]
    }
   ],
   "source": [
    "# Identify the top 10 handsets used by the customers\n",
    "top_10_handsets = df['Handset Type'].value_counts().head(10)\n",
    "print(top_10_handsets)"
   ],
   "metadata": {
    "collapsed": false,
    "ExecuteTime": {
     "end_time": "2024-04-27T06:21:06.646979Z",
     "start_time": "2024-04-27T06:21:06.627644Z"
    }
   },
   "id": "134111fcc85124e4",
   "execution_count": 9
  },
  {
   "cell_type": "markdown",
   "source": [
    "### Top 3 handset manufacturers"
   ],
   "metadata": {
    "collapsed": false
   },
   "id": "fee573104f13a9fd"
  },
  {
   "cell_type": "code",
   "outputs": [
    {
     "name": "stdout",
     "output_type": "stream",
     "text": [
      "Apple      59565\n",
      "Samsung    40839\n",
      "Huawei     34423\n",
      "Name: Handset Manufacturer, dtype: int64\n"
     ]
    }
   ],
   "source": [
    "# Identify the top 3 handset manufacturers\n",
    "top_3_manufacturers = df['Handset Manufacturer'].value_counts().head(3)\n",
    "print(top_3_manufacturers)"
   ],
   "metadata": {
    "collapsed": false,
    "ExecuteTime": {
     "end_time": "2024-04-27T06:21:06.668082Z",
     "start_time": "2024-04-27T06:21:06.649414Z"
    }
   },
   "id": "e26e3e71ed32cd79",
   "execution_count": 10
  },
  {
   "cell_type": "code",
   "outputs": [
    {
     "name": "stdout",
     "output_type": "stream",
     "text": [
      "Handset Manufacturer  Handset Type                  \n",
      "Apple                 Apple iPhone 6S (A1688)            9419\n",
      "                      Apple iPhone 6 (A1586)             9023\n",
      "                      Apple iPhone 7 (A1778)             6326\n",
      "                      Apple iPhone Se (A1723)            5187\n",
      "                      Apple iPhone 8 (A1905)             4993\n",
      "Huawei                Huawei B528S-23A                  19752\n",
      "                      Huawei E5180                       2079\n",
      "                      Huawei P20 Lite Huawei Nova 3E     2021\n",
      "                      Huawei P20                         1480\n",
      "                      Huawei Y6 2018                      997\n",
      "Samsung               Samsung Galaxy S8 (Sm-G950F)       4520\n",
      "                      Samsung Galaxy A5 Sm-A520F         3724\n",
      "                      Samsung Galaxy J5 (Sm-J530)        3696\n",
      "                      Samsung Galaxy J3 (Sm-J330)        3484\n",
      "                      Samsung Galaxy S7 (Sm-G930X)       3199\n",
      "Name: Handset Type, dtype: int64\n"
     ]
    }
   ],
   "source": [
    "# Identify the top 5 handsets per top 3 handset manufacturer\n",
    "top_5_handsets_per_manufacturer = df[df['Handset Manufacturer'].isin(top_3_manufacturers.index)].groupby('Handset Manufacturer')['Handset Type'].value_counts().groupby(level=0).head(5)\n",
    "print(top_5_handsets_per_manufacturer)"
   ],
   "metadata": {
    "collapsed": false,
    "ExecuteTime": {
     "end_time": "2024-04-27T06:21:06.755416Z",
     "start_time": "2024-04-27T06:21:06.668939Z"
    }
   },
   "id": "b4bdcae0aa570bc9",
   "execution_count": 11
  },
  {
   "cell_type": "code",
   "outputs": [],
   "source": [],
   "metadata": {
    "collapsed": false,
    "ExecuteTime": {
     "end_time": "2024-04-27T06:21:06.757954Z",
     "start_time": "2024-04-27T06:21:06.756202Z"
    }
   },
   "id": "ef8f133aad476ece",
   "execution_count": 11
  },
  {
   "cell_type": "markdown",
   "source": [],
   "metadata": {
    "collapsed": false
   },
   "id": "18291666ede23626"
  },
  {
   "cell_type": "markdown",
   "source": [],
   "metadata": {
    "collapsed": false
   },
   "id": "e925cff8c9dba7ff"
  },
  {
   "cell_type": "code",
   "outputs": [],
   "source": [
    "categorical_features = ['Handset Manufacturer', 'Handset Type']"
   ],
   "metadata": {
    "collapsed": false,
    "ExecuteTime": {
     "end_time": "2024-04-27T06:21:06.761180Z",
     "start_time": "2024-04-27T06:21:06.758829Z"
    }
   },
   "id": "c5479df423f164fb",
   "execution_count": 12
  },
  {
   "cell_type": "markdown",
   "source": [
    "## Data Preprocessing\n",
    "\n",
    "We will preprocess the data by performing the following tasks:\n",
    "- Handle missing values\n",
    "- Encode categorical variables\n",
    "- Scale numerical variables"
   ],
   "metadata": {
    "collapsed": false
   },
   "id": "40c396fd217f3bbd"
  },
  {
   "cell_type": "code",
   "outputs": [],
   "source": [
    "# Define the columns to be used in the preprocessing\n",
    "timestamp_cols = ['End', 'Start']\n",
    "numeric_features = df.select_dtypes(include=['int64', 'float64']).columns.tolist()\n",
    "\n",
    "# Perform data preprocessing\n",
    "clean_data = preprocess_data(df, timestamp_cols, numeric_features, None)"
   ],
   "metadata": {
    "collapsed": false,
    "ExecuteTime": {
     "end_time": "2024-04-27T06:21:16.214016Z",
     "start_time": "2024-04-27T06:21:06.762134Z"
    }
   },
   "id": "1aec554c3ae85b7d",
   "execution_count": 13
  },
  {
   "cell_type": "code",
   "outputs": [],
   "source": [
    "# Convert the transformed data back to a DataFrame\n",
    "clean_data_df = pd.DataFrame(clean_data)\n"
   ],
   "metadata": {
    "collapsed": false,
    "ExecuteTime": {
     "end_time": "2024-04-27T06:21:16.217185Z",
     "start_time": "2024-04-27T06:21:16.215053Z"
    }
   },
   "id": "e0e4aedd8c0d6cd4",
   "execution_count": 14
  },
  {
   "cell_type": "code",
   "outputs": [
    {
     "data": {
      "text/plain": "      Bearer Id               Start  Start ms                 End  End ms  \\\n0  1.311448e+19 2019-04-04 12:01:00     770.0 2019-04-25 14:35:00   662.0   \n1  1.311448e+19 2019-04-09 13:04:00     235.0 2019-04-25 08:15:00   606.0   \n2  1.311448e+19 2019-04-09 17:42:00       1.0 2019-04-25 11:58:00   652.0   \n3  1.311448e+19 2019-04-10 00:31:00     486.0 2019-04-25 07:36:00   171.0   \n4  1.311448e+19 2019-04-12 20:10:00     565.0 2019-04-25 10:40:00   954.0   \n\n   Dur. (ms)          IMSI  MSISDN/Number          IMEI  \\\n0  1823652.0  2.082014e+14   3.366496e+10  3.552121e+13   \n1  1365104.0  2.082019e+14   3.368185e+10  3.579401e+13   \n2  1361762.0  2.082003e+14   3.376063e+10  3.528151e+13   \n3  1321509.0  2.082014e+14   3.375034e+10  3.535661e+13   \n4  1089009.0  2.082014e+14   3.369980e+10  3.540701e+13   \n\n      Last Location Name  ...  Total UL (Bytes)  Total DL (Bytes)  End_hour  \\\n0  9.16456699548519E+015  ...        36749741.0       308879636.0      14.0   \n1                L77566A  ...        53800391.0       653384965.0       8.0   \n2                D42335A  ...        27883638.0       279807335.0      11.0   \n3                T21824A  ...        43324218.0       846028530.0       7.0   \n4                D88865A  ...        38542814.0       569138589.0      10.0   \n\n   End_day_of_week  End_day_of_month  End_month  Start_hour  \\\n0              3.0              25.0        4.0        12.0   \n1              3.0              25.0        4.0        13.0   \n2              3.0              25.0        4.0        17.0   \n3              3.0              25.0        4.0         0.0   \n4              3.0              25.0        4.0        20.0   \n\n   Start_day_of_week  Start_day_of_month  Start_month  \n0                3.0                 4.0          4.0  \n1                1.0                 9.0          4.0  \n2                1.0                 9.0          4.0  \n3                2.0                10.0          4.0  \n4                4.0                12.0          4.0  \n\n[5 rows x 63 columns]",
      "text/html": "<div>\n<style scoped>\n    .dataframe tbody tr th:only-of-type {\n        vertical-align: middle;\n    }\n\n    .dataframe tbody tr th {\n        vertical-align: top;\n    }\n\n    .dataframe thead th {\n        text-align: right;\n    }\n</style>\n<table border=\"1\" class=\"dataframe\">\n  <thead>\n    <tr style=\"text-align: right;\">\n      <th></th>\n      <th>Bearer Id</th>\n      <th>Start</th>\n      <th>Start ms</th>\n      <th>End</th>\n      <th>End ms</th>\n      <th>Dur. (ms)</th>\n      <th>IMSI</th>\n      <th>MSISDN/Number</th>\n      <th>IMEI</th>\n      <th>Last Location Name</th>\n      <th>...</th>\n      <th>Total UL (Bytes)</th>\n      <th>Total DL (Bytes)</th>\n      <th>End_hour</th>\n      <th>End_day_of_week</th>\n      <th>End_day_of_month</th>\n      <th>End_month</th>\n      <th>Start_hour</th>\n      <th>Start_day_of_week</th>\n      <th>Start_day_of_month</th>\n      <th>Start_month</th>\n    </tr>\n  </thead>\n  <tbody>\n    <tr>\n      <th>0</th>\n      <td>1.311448e+19</td>\n      <td>2019-04-04 12:01:00</td>\n      <td>770.0</td>\n      <td>2019-04-25 14:35:00</td>\n      <td>662.0</td>\n      <td>1823652.0</td>\n      <td>2.082014e+14</td>\n      <td>3.366496e+10</td>\n      <td>3.552121e+13</td>\n      <td>9.16456699548519E+015</td>\n      <td>...</td>\n      <td>36749741.0</td>\n      <td>308879636.0</td>\n      <td>14.0</td>\n      <td>3.0</td>\n      <td>25.0</td>\n      <td>4.0</td>\n      <td>12.0</td>\n      <td>3.0</td>\n      <td>4.0</td>\n      <td>4.0</td>\n    </tr>\n    <tr>\n      <th>1</th>\n      <td>1.311448e+19</td>\n      <td>2019-04-09 13:04:00</td>\n      <td>235.0</td>\n      <td>2019-04-25 08:15:00</td>\n      <td>606.0</td>\n      <td>1365104.0</td>\n      <td>2.082019e+14</td>\n      <td>3.368185e+10</td>\n      <td>3.579401e+13</td>\n      <td>L77566A</td>\n      <td>...</td>\n      <td>53800391.0</td>\n      <td>653384965.0</td>\n      <td>8.0</td>\n      <td>3.0</td>\n      <td>25.0</td>\n      <td>4.0</td>\n      <td>13.0</td>\n      <td>1.0</td>\n      <td>9.0</td>\n      <td>4.0</td>\n    </tr>\n    <tr>\n      <th>2</th>\n      <td>1.311448e+19</td>\n      <td>2019-04-09 17:42:00</td>\n      <td>1.0</td>\n      <td>2019-04-25 11:58:00</td>\n      <td>652.0</td>\n      <td>1361762.0</td>\n      <td>2.082003e+14</td>\n      <td>3.376063e+10</td>\n      <td>3.528151e+13</td>\n      <td>D42335A</td>\n      <td>...</td>\n      <td>27883638.0</td>\n      <td>279807335.0</td>\n      <td>11.0</td>\n      <td>3.0</td>\n      <td>25.0</td>\n      <td>4.0</td>\n      <td>17.0</td>\n      <td>1.0</td>\n      <td>9.0</td>\n      <td>4.0</td>\n    </tr>\n    <tr>\n      <th>3</th>\n      <td>1.311448e+19</td>\n      <td>2019-04-10 00:31:00</td>\n      <td>486.0</td>\n      <td>2019-04-25 07:36:00</td>\n      <td>171.0</td>\n      <td>1321509.0</td>\n      <td>2.082014e+14</td>\n      <td>3.375034e+10</td>\n      <td>3.535661e+13</td>\n      <td>T21824A</td>\n      <td>...</td>\n      <td>43324218.0</td>\n      <td>846028530.0</td>\n      <td>7.0</td>\n      <td>3.0</td>\n      <td>25.0</td>\n      <td>4.0</td>\n      <td>0.0</td>\n      <td>2.0</td>\n      <td>10.0</td>\n      <td>4.0</td>\n    </tr>\n    <tr>\n      <th>4</th>\n      <td>1.311448e+19</td>\n      <td>2019-04-12 20:10:00</td>\n      <td>565.0</td>\n      <td>2019-04-25 10:40:00</td>\n      <td>954.0</td>\n      <td>1089009.0</td>\n      <td>2.082014e+14</td>\n      <td>3.369980e+10</td>\n      <td>3.540701e+13</td>\n      <td>D88865A</td>\n      <td>...</td>\n      <td>38542814.0</td>\n      <td>569138589.0</td>\n      <td>10.0</td>\n      <td>3.0</td>\n      <td>25.0</td>\n      <td>4.0</td>\n      <td>20.0</td>\n      <td>4.0</td>\n      <td>12.0</td>\n      <td>4.0</td>\n    </tr>\n  </tbody>\n</table>\n<p>5 rows × 63 columns</p>\n</div>"
     },
     "execution_count": 15,
     "metadata": {},
     "output_type": "execute_result"
    }
   ],
   "source": [
    "# compare the first few rows of the original and transformed data\n",
    "df.head()"
   ],
   "metadata": {
    "collapsed": false,
    "ExecuteTime": {
     "end_time": "2024-04-27T06:21:16.238331Z",
     "start_time": "2024-04-27T06:21:16.218119Z"
    }
   },
   "id": "1ec5ba79a29c3006",
   "execution_count": 15
  },
  {
   "cell_type": "code",
   "outputs": [
    {
     "data": {
      "text/plain": "   Bearer Id  Start ms    End ms  Dur. (ms)      IMSI  MSISDN/Number  \\\n0   1.031911  0.938332  0.566475  21.213047 -0.008932      -0.003370   \n1   1.031911 -0.915382  0.372095  15.554551  0.012569      -0.003363   \n2   1.031911 -1.726165  0.531765  15.513311 -0.061789      -0.003331   \n3   1.031911 -0.045696 -1.137819  15.016588 -0.011065      -0.003335   \n4   1.031911  0.228030  1.580027  12.147531 -0.011108      -0.003355   \n\n       IMEI  Avg RTT DL (ms)  Avg RTT UL (ms)  Avg Bearer TP DL (kbps)  ...  \\\n0 -0.578959    -1.212064e-01        -0.165464                -0.553863  ...   \n1 -0.566766    -8.008661e-02        -0.165464                -0.554155  ...   \n2 -0.589672    -2.540644e-17         0.000000                -0.554572  ...   \n3 -0.586315    -2.540644e-17         0.000000                -0.552987  ...   \n4 -0.584063    -2.540644e-17         0.000000                -0.554572  ...   \n\n   Youtube DL (Bytes)  Youtube UL (Bytes)  Netflix DL (Bytes)  \\\n0            0.628941           -1.340826           -0.509712   \n1            1.283550            1.276880            0.997973   \n2            1.205802            0.581550            0.886360   \n3            1.453540            0.652005            0.352078   \n4            0.540240            1.253421            0.817482   \n\n   Netflix UL (Bytes)  Gaming DL (Bytes)  Gaming UL (Bytes)  Other DL (Bytes)  \\\n0           -0.211575          -0.590090           1.266183         -1.025295   \n1            0.978915           0.765290          -1.488221          0.435041   \n2           -0.760810          -0.788879          -1.650280         -0.042795   \n3           -1.557333           1.547316           0.535541          1.348412   \n4           -1.664689           0.433102          -0.994964          0.532922   \n\n   Other UL (Bytes)  Total UL (Bytes)  Total DL (Bytes)  \n0          0.115243         -0.387668         -0.597047  \n1          1.423855          1.124409          0.814043  \n2         -0.849035         -1.173927         -0.716127  \n3          0.950408          0.195366          1.603109  \n4          1.183799         -0.228656          0.468971  \n\n[5 rows x 50 columns]",
      "text/html": "<div>\n<style scoped>\n    .dataframe tbody tr th:only-of-type {\n        vertical-align: middle;\n    }\n\n    .dataframe tbody tr th {\n        vertical-align: top;\n    }\n\n    .dataframe thead th {\n        text-align: right;\n    }\n</style>\n<table border=\"1\" class=\"dataframe\">\n  <thead>\n    <tr style=\"text-align: right;\">\n      <th></th>\n      <th>Bearer Id</th>\n      <th>Start ms</th>\n      <th>End ms</th>\n      <th>Dur. (ms)</th>\n      <th>IMSI</th>\n      <th>MSISDN/Number</th>\n      <th>IMEI</th>\n      <th>Avg RTT DL (ms)</th>\n      <th>Avg RTT UL (ms)</th>\n      <th>Avg Bearer TP DL (kbps)</th>\n      <th>...</th>\n      <th>Youtube DL (Bytes)</th>\n      <th>Youtube UL (Bytes)</th>\n      <th>Netflix DL (Bytes)</th>\n      <th>Netflix UL (Bytes)</th>\n      <th>Gaming DL (Bytes)</th>\n      <th>Gaming UL (Bytes)</th>\n      <th>Other DL (Bytes)</th>\n      <th>Other UL (Bytes)</th>\n      <th>Total UL (Bytes)</th>\n      <th>Total DL (Bytes)</th>\n    </tr>\n  </thead>\n  <tbody>\n    <tr>\n      <th>0</th>\n      <td>1.031911</td>\n      <td>0.938332</td>\n      <td>0.566475</td>\n      <td>21.213047</td>\n      <td>-0.008932</td>\n      <td>-0.003370</td>\n      <td>-0.578959</td>\n      <td>-1.212064e-01</td>\n      <td>-0.165464</td>\n      <td>-0.553863</td>\n      <td>...</td>\n      <td>0.628941</td>\n      <td>-1.340826</td>\n      <td>-0.509712</td>\n      <td>-0.211575</td>\n      <td>-0.590090</td>\n      <td>1.266183</td>\n      <td>-1.025295</td>\n      <td>0.115243</td>\n      <td>-0.387668</td>\n      <td>-0.597047</td>\n    </tr>\n    <tr>\n      <th>1</th>\n      <td>1.031911</td>\n      <td>-0.915382</td>\n      <td>0.372095</td>\n      <td>15.554551</td>\n      <td>0.012569</td>\n      <td>-0.003363</td>\n      <td>-0.566766</td>\n      <td>-8.008661e-02</td>\n      <td>-0.165464</td>\n      <td>-0.554155</td>\n      <td>...</td>\n      <td>1.283550</td>\n      <td>1.276880</td>\n      <td>0.997973</td>\n      <td>0.978915</td>\n      <td>0.765290</td>\n      <td>-1.488221</td>\n      <td>0.435041</td>\n      <td>1.423855</td>\n      <td>1.124409</td>\n      <td>0.814043</td>\n    </tr>\n    <tr>\n      <th>2</th>\n      <td>1.031911</td>\n      <td>-1.726165</td>\n      <td>0.531765</td>\n      <td>15.513311</td>\n      <td>-0.061789</td>\n      <td>-0.003331</td>\n      <td>-0.589672</td>\n      <td>-2.540644e-17</td>\n      <td>0.000000</td>\n      <td>-0.554572</td>\n      <td>...</td>\n      <td>1.205802</td>\n      <td>0.581550</td>\n      <td>0.886360</td>\n      <td>-0.760810</td>\n      <td>-0.788879</td>\n      <td>-1.650280</td>\n      <td>-0.042795</td>\n      <td>-0.849035</td>\n      <td>-1.173927</td>\n      <td>-0.716127</td>\n    </tr>\n    <tr>\n      <th>3</th>\n      <td>1.031911</td>\n      <td>-0.045696</td>\n      <td>-1.137819</td>\n      <td>15.016588</td>\n      <td>-0.011065</td>\n      <td>-0.003335</td>\n      <td>-0.586315</td>\n      <td>-2.540644e-17</td>\n      <td>0.000000</td>\n      <td>-0.552987</td>\n      <td>...</td>\n      <td>1.453540</td>\n      <td>0.652005</td>\n      <td>0.352078</td>\n      <td>-1.557333</td>\n      <td>1.547316</td>\n      <td>0.535541</td>\n      <td>1.348412</td>\n      <td>0.950408</td>\n      <td>0.195366</td>\n      <td>1.603109</td>\n    </tr>\n    <tr>\n      <th>4</th>\n      <td>1.031911</td>\n      <td>0.228030</td>\n      <td>1.580027</td>\n      <td>12.147531</td>\n      <td>-0.011108</td>\n      <td>-0.003355</td>\n      <td>-0.584063</td>\n      <td>-2.540644e-17</td>\n      <td>0.000000</td>\n      <td>-0.554572</td>\n      <td>...</td>\n      <td>0.540240</td>\n      <td>1.253421</td>\n      <td>0.817482</td>\n      <td>-1.664689</td>\n      <td>0.433102</td>\n      <td>-0.994964</td>\n      <td>0.532922</td>\n      <td>1.183799</td>\n      <td>-0.228656</td>\n      <td>0.468971</td>\n    </tr>\n  </tbody>\n</table>\n<p>5 rows × 50 columns</p>\n</div>"
     },
     "execution_count": 16,
     "metadata": {},
     "output_type": "execute_result"
    }
   ],
   "source": [
    "\n",
    "# Display the first few rows of the DataFrame\n",
    "clean_data_df.head()"
   ],
   "metadata": {
    "collapsed": false,
    "ExecuteTime": {
     "end_time": "2024-04-27T06:21:16.261346Z",
     "start_time": "2024-04-27T06:21:16.239525Z"
    }
   },
   "id": "e848e0f44c1afefa",
   "execution_count": 16
  },
  {
   "cell_type": "markdown",
   "source": [
    "## check the cleaned data"
   ],
   "metadata": {
    "collapsed": false
   },
   "id": "ee197400cfaa0044"
  },
  {
   "cell_type": "code",
   "outputs": [
    {
     "name": "stdout",
     "output_type": "stream",
     "text": [
      "<class 'pandas.core.frame.DataFrame'>\n",
      "RangeIndex: 150001 entries, 0 to 150000\n",
      "Data columns (total 50 columns):\n",
      " #   Column                                    Non-Null Count   Dtype  \n",
      "---  ------                                    --------------   -----  \n",
      " 0   Bearer Id                                 150001 non-null  float64\n",
      " 1   Start ms                                  150001 non-null  float64\n",
      " 2   End ms                                    150001 non-null  float64\n",
      " 3   Dur. (ms)                                 150001 non-null  float64\n",
      " 4   IMSI                                      150001 non-null  float64\n",
      " 5   MSISDN/Number                             150001 non-null  float64\n",
      " 6   IMEI                                      150001 non-null  float64\n",
      " 7   Avg RTT DL (ms)                           150001 non-null  float64\n",
      " 8   Avg RTT UL (ms)                           150001 non-null  float64\n",
      " 9   Avg Bearer TP DL (kbps)                   150001 non-null  float64\n",
      " 10  Avg Bearer TP UL (kbps)                   150001 non-null  float64\n",
      " 11  TCP DL Retrans. Vol (Bytes)               150001 non-null  float64\n",
      " 12  TCP UL Retrans. Vol (Bytes)               150001 non-null  float64\n",
      " 13  DL TP < 50 Kbps (%)                       150001 non-null  float64\n",
      " 14  50 Kbps < DL TP < 250 Kbps (%)            150001 non-null  float64\n",
      " 15  250 Kbps < DL TP < 1 Mbps (%)             150001 non-null  float64\n",
      " 16  DL TP > 1 Mbps (%)                        150001 non-null  float64\n",
      " 17  UL TP < 10 Kbps (%)                       150001 non-null  float64\n",
      " 18  10 Kbps < UL TP < 50 Kbps (%)             150001 non-null  float64\n",
      " 19  50 Kbps < UL TP < 300 Kbps (%)            150001 non-null  float64\n",
      " 20  UL TP > 300 Kbps (%)                      150001 non-null  float64\n",
      " 21  HTTP DL (Bytes)                           150001 non-null  float64\n",
      " 22  HTTP UL (Bytes)                           150001 non-null  float64\n",
      " 23  Activity Duration DL (ms)                 150001 non-null  float64\n",
      " 24  Activity Duration UL (ms)                 150001 non-null  float64\n",
      " 25  Dur. (ms).1                               150001 non-null  float64\n",
      " 26  Nb of sec with 125000B < Vol DL           150001 non-null  float64\n",
      " 27  Nb of sec with 1250B < Vol UL < 6250B     150001 non-null  float64\n",
      " 28  Nb of sec with 31250B < Vol DL < 125000B  150001 non-null  float64\n",
      " 29  Nb of sec with 37500B < Vol UL            150001 non-null  float64\n",
      " 30  Nb of sec with 6250B < Vol DL < 31250B    150001 non-null  float64\n",
      " 31  Nb of sec with 6250B < Vol UL < 37500B    150001 non-null  float64\n",
      " 32  Nb of sec with Vol DL < 6250B             150001 non-null  float64\n",
      " 33  Nb of sec with Vol UL < 1250B             150001 non-null  float64\n",
      " 34  Social Media DL (Bytes)                   150001 non-null  float64\n",
      " 35  Social Media UL (Bytes)                   150001 non-null  float64\n",
      " 36  Google DL (Bytes)                         150001 non-null  float64\n",
      " 37  Google UL (Bytes)                         150001 non-null  float64\n",
      " 38  Email DL (Bytes)                          150001 non-null  float64\n",
      " 39  Email UL (Bytes)                          150001 non-null  float64\n",
      " 40  Youtube DL (Bytes)                        150001 non-null  float64\n",
      " 41  Youtube UL (Bytes)                        150001 non-null  float64\n",
      " 42  Netflix DL (Bytes)                        150001 non-null  float64\n",
      " 43  Netflix UL (Bytes)                        150001 non-null  float64\n",
      " 44  Gaming DL (Bytes)                         150001 non-null  float64\n",
      " 45  Gaming UL (Bytes)                         150001 non-null  float64\n",
      " 46  Other DL (Bytes)                          150001 non-null  float64\n",
      " 47  Other UL (Bytes)                          150001 non-null  float64\n",
      " 48  Total UL (Bytes)                          150001 non-null  float64\n",
      " 49  Total DL (Bytes)                          150001 non-null  float64\n",
      "dtypes: float64(50)\n",
      "memory usage: 57.2 MB\n"
     ]
    }
   ],
   "source": [
    "# Check the DataFrame's information\n",
    "clean_data_df.info()"
   ],
   "metadata": {
    "collapsed": false,
    "ExecuteTime": {
     "end_time": "2024-04-27T06:23:22.988090Z",
     "start_time": "2024-04-27T06:23:22.972315Z"
    }
   },
   "id": "d870ae8ca9d833d5",
   "execution_count": 21
  },
  {
   "cell_type": "code",
   "outputs": [
    {
     "data": {
      "text/plain": "          Bearer Id      Start ms        End ms     Dur. (ms)          IMSI  \\\ncount  1.500010e+05  1.500010e+05  1.500010e+05  1.500010e+05  1.500010e+05   \nmean   7.489071e-17  1.620027e-17 -2.292669e-17  1.212652e-17 -1.090168e-13   \nstd    1.000003e+00  1.000003e+00  1.000003e+00  1.000003e+00  1.000003e+00   \nmin   -1.117127e+00 -1.729629e+00 -1.731372e+00 -1.202740e+00 -1.937101e+02   \n25%   -9.671942e-01 -8.634083e-01 -8.601338e-01 -5.820368e-01 -1.111507e-02   \n50%   -9.671942e-01 -6.520913e-04  4.162228e-03 -2.247065e-01 -4.349883e-03   \n75%    1.006922e+00  8.655690e-01  8.719293e-01  3.433174e-01  6.152595e-03   \nmax    1.056900e+00  1.731790e+00  1.736225e+00  2.165339e+01  2.738202e+02   \n\n       MSISDN/Number          IMEI  Avg RTT DL (ms)  Avg RTT UL (ms)  \\\ncount   1.500010e+05  1.500010e+05     1.500010e+05     1.500010e+05   \nmean   -2.131614e-18  1.085702e-16    -1.932663e-17     1.338180e-17   \nstd     1.000003e+00  1.000003e+00     1.000003e+00     1.000003e+00   \nmin    -3.395965e-03 -2.146937e+00    -1.962948e-01    -2.307978e-01   \n25%    -3.375254e-03 -5.815777e-01    -1.337212e-01    -1.915973e-01   \n50%    -3.370215e-03 -5.699658e-01    -9.975262e-02    -1.393300e-01   \n75%    -3.361632e-03  1.682577e+00    -2.540644e-17     0.000000e+00   \nmax     3.618103e+02  2.258324e+00     1.730845e+02     9.280500e+01   \n\n       Avg Bearer TP DL (kbps)  ...  Youtube DL (Bytes)  Youtube UL (Bytes)  \\\ncount             1.500010e+05  ...        1.500010e+05        1.500010e+05   \nmean              2.804257e-17  ...       -1.233257e-16       -4.466916e-17   \nstd               1.000003e+00  ...        1.000003e+00        1.000003e+00   \nmin              -5.548224e-01  ...       -1.733692e+00       -1.735005e+00   \n25%              -5.530286e-01  ...       -8.643963e-01       -8.654211e-01   \n50%              -5.521943e-01  ...       -2.690318e-03        6.361875e-04   \n75%               2.673965e-01  ...        8.664638e-01        8.677388e-01   \nmax               1.522043e+01  ...        1.732352e+00        1.733941e+00   \n\n       Netflix DL (Bytes)  Netflix UL (Bytes)  Gaming DL (Bytes)  \\\ncount        1.500010e+05        1.500010e+05       1.500010e+05   \nmean         8.095988e-17        9.113834e-17       2.842152e-18   \nstd          1.000003e+00        1.000003e+00       1.000003e+00   \nmin         -1.728843e+00       -1.729975e+00      -1.729917e+00   \n25%         -8.698179e-01       -8.689050e-01      -8.672145e-01   \n50%          2.284734e-03       -8.445391e-04       5.588474e-03   \n75%          8.689154e-01        8.657191e-01       8.654029e-01   \nmax          1.729665e+00        1.731308e+00       1.727274e+00   \n\n       Gaming UL (Bytes)  Other DL (Bytes)  Other UL (Bytes)  \\\ncount       1.500010e+05      1.500010e+05      1.500010e+05   \nmean       -1.338180e-16     -8.313295e-17      2.385039e-16   \nstd         1.000003e+00      1.000003e+00      1.000003e+00   \nmin        -1.732989e+00     -1.731456e+00     -1.732999e+00   \n25%        -8.697883e-01     -8.672287e-01     -8.636752e-01   \n50%         5.875131e-04      2.888362e-03      4.763224e-04   \n75%         8.662973e-01      8.659030e-01      8.637784e-01   \nmax         1.729237e+00      1.736573e+00      1.739157e+00   \n\n       Total UL (Bytes)  Total DL (Bytes)  \ncount      1.500010e+05      1.500010e+05  \nmean       8.730144e-17     -4.343756e-17  \nstd        1.000003e+00      1.000003e+00  \nmin       -3.392449e+00     -1.833076e+00  \n25%       -7.005107e-01     -8.664503e-01  \n50%        1.954159e-03      4.904869e-03  \n75%        7.017394e-01      8.645066e-01  \nmax        3.299847e+00      1.836339e+00  \n\n[8 rows x 50 columns]",
      "text/html": "<div>\n<style scoped>\n    .dataframe tbody tr th:only-of-type {\n        vertical-align: middle;\n    }\n\n    .dataframe tbody tr th {\n        vertical-align: top;\n    }\n\n    .dataframe thead th {\n        text-align: right;\n    }\n</style>\n<table border=\"1\" class=\"dataframe\">\n  <thead>\n    <tr style=\"text-align: right;\">\n      <th></th>\n      <th>Bearer Id</th>\n      <th>Start ms</th>\n      <th>End ms</th>\n      <th>Dur. (ms)</th>\n      <th>IMSI</th>\n      <th>MSISDN/Number</th>\n      <th>IMEI</th>\n      <th>Avg RTT DL (ms)</th>\n      <th>Avg RTT UL (ms)</th>\n      <th>Avg Bearer TP DL (kbps)</th>\n      <th>...</th>\n      <th>Youtube DL (Bytes)</th>\n      <th>Youtube UL (Bytes)</th>\n      <th>Netflix DL (Bytes)</th>\n      <th>Netflix UL (Bytes)</th>\n      <th>Gaming DL (Bytes)</th>\n      <th>Gaming UL (Bytes)</th>\n      <th>Other DL (Bytes)</th>\n      <th>Other UL (Bytes)</th>\n      <th>Total UL (Bytes)</th>\n      <th>Total DL (Bytes)</th>\n    </tr>\n  </thead>\n  <tbody>\n    <tr>\n      <th>count</th>\n      <td>1.500010e+05</td>\n      <td>1.500010e+05</td>\n      <td>1.500010e+05</td>\n      <td>1.500010e+05</td>\n      <td>1.500010e+05</td>\n      <td>1.500010e+05</td>\n      <td>1.500010e+05</td>\n      <td>1.500010e+05</td>\n      <td>1.500010e+05</td>\n      <td>1.500010e+05</td>\n      <td>...</td>\n      <td>1.500010e+05</td>\n      <td>1.500010e+05</td>\n      <td>1.500010e+05</td>\n      <td>1.500010e+05</td>\n      <td>1.500010e+05</td>\n      <td>1.500010e+05</td>\n      <td>1.500010e+05</td>\n      <td>1.500010e+05</td>\n      <td>1.500010e+05</td>\n      <td>1.500010e+05</td>\n    </tr>\n    <tr>\n      <th>mean</th>\n      <td>7.489071e-17</td>\n      <td>1.620027e-17</td>\n      <td>-2.292669e-17</td>\n      <td>1.212652e-17</td>\n      <td>-1.090168e-13</td>\n      <td>-2.131614e-18</td>\n      <td>1.085702e-16</td>\n      <td>-1.932663e-17</td>\n      <td>1.338180e-17</td>\n      <td>2.804257e-17</td>\n      <td>...</td>\n      <td>-1.233257e-16</td>\n      <td>-4.466916e-17</td>\n      <td>8.095988e-17</td>\n      <td>9.113834e-17</td>\n      <td>2.842152e-18</td>\n      <td>-1.338180e-16</td>\n      <td>-8.313295e-17</td>\n      <td>2.385039e-16</td>\n      <td>8.730144e-17</td>\n      <td>-4.343756e-17</td>\n    </tr>\n    <tr>\n      <th>std</th>\n      <td>1.000003e+00</td>\n      <td>1.000003e+00</td>\n      <td>1.000003e+00</td>\n      <td>1.000003e+00</td>\n      <td>1.000003e+00</td>\n      <td>1.000003e+00</td>\n      <td>1.000003e+00</td>\n      <td>1.000003e+00</td>\n      <td>1.000003e+00</td>\n      <td>1.000003e+00</td>\n      <td>...</td>\n      <td>1.000003e+00</td>\n      <td>1.000003e+00</td>\n      <td>1.000003e+00</td>\n      <td>1.000003e+00</td>\n      <td>1.000003e+00</td>\n      <td>1.000003e+00</td>\n      <td>1.000003e+00</td>\n      <td>1.000003e+00</td>\n      <td>1.000003e+00</td>\n      <td>1.000003e+00</td>\n    </tr>\n    <tr>\n      <th>min</th>\n      <td>-1.117127e+00</td>\n      <td>-1.729629e+00</td>\n      <td>-1.731372e+00</td>\n      <td>-1.202740e+00</td>\n      <td>-1.937101e+02</td>\n      <td>-3.395965e-03</td>\n      <td>-2.146937e+00</td>\n      <td>-1.962948e-01</td>\n      <td>-2.307978e-01</td>\n      <td>-5.548224e-01</td>\n      <td>...</td>\n      <td>-1.733692e+00</td>\n      <td>-1.735005e+00</td>\n      <td>-1.728843e+00</td>\n      <td>-1.729975e+00</td>\n      <td>-1.729917e+00</td>\n      <td>-1.732989e+00</td>\n      <td>-1.731456e+00</td>\n      <td>-1.732999e+00</td>\n      <td>-3.392449e+00</td>\n      <td>-1.833076e+00</td>\n    </tr>\n    <tr>\n      <th>25%</th>\n      <td>-9.671942e-01</td>\n      <td>-8.634083e-01</td>\n      <td>-8.601338e-01</td>\n      <td>-5.820368e-01</td>\n      <td>-1.111507e-02</td>\n      <td>-3.375254e-03</td>\n      <td>-5.815777e-01</td>\n      <td>-1.337212e-01</td>\n      <td>-1.915973e-01</td>\n      <td>-5.530286e-01</td>\n      <td>...</td>\n      <td>-8.643963e-01</td>\n      <td>-8.654211e-01</td>\n      <td>-8.698179e-01</td>\n      <td>-8.689050e-01</td>\n      <td>-8.672145e-01</td>\n      <td>-8.697883e-01</td>\n      <td>-8.672287e-01</td>\n      <td>-8.636752e-01</td>\n      <td>-7.005107e-01</td>\n      <td>-8.664503e-01</td>\n    </tr>\n    <tr>\n      <th>50%</th>\n      <td>-9.671942e-01</td>\n      <td>-6.520913e-04</td>\n      <td>4.162228e-03</td>\n      <td>-2.247065e-01</td>\n      <td>-4.349883e-03</td>\n      <td>-3.370215e-03</td>\n      <td>-5.699658e-01</td>\n      <td>-9.975262e-02</td>\n      <td>-1.393300e-01</td>\n      <td>-5.521943e-01</td>\n      <td>...</td>\n      <td>-2.690318e-03</td>\n      <td>6.361875e-04</td>\n      <td>2.284734e-03</td>\n      <td>-8.445391e-04</td>\n      <td>5.588474e-03</td>\n      <td>5.875131e-04</td>\n      <td>2.888362e-03</td>\n      <td>4.763224e-04</td>\n      <td>1.954159e-03</td>\n      <td>4.904869e-03</td>\n    </tr>\n    <tr>\n      <th>75%</th>\n      <td>1.006922e+00</td>\n      <td>8.655690e-01</td>\n      <td>8.719293e-01</td>\n      <td>3.433174e-01</td>\n      <td>6.152595e-03</td>\n      <td>-3.361632e-03</td>\n      <td>1.682577e+00</td>\n      <td>-2.540644e-17</td>\n      <td>0.000000e+00</td>\n      <td>2.673965e-01</td>\n      <td>...</td>\n      <td>8.664638e-01</td>\n      <td>8.677388e-01</td>\n      <td>8.689154e-01</td>\n      <td>8.657191e-01</td>\n      <td>8.654029e-01</td>\n      <td>8.662973e-01</td>\n      <td>8.659030e-01</td>\n      <td>8.637784e-01</td>\n      <td>7.017394e-01</td>\n      <td>8.645066e-01</td>\n    </tr>\n    <tr>\n      <th>max</th>\n      <td>1.056900e+00</td>\n      <td>1.731790e+00</td>\n      <td>1.736225e+00</td>\n      <td>2.165339e+01</td>\n      <td>2.738202e+02</td>\n      <td>3.618103e+02</td>\n      <td>2.258324e+00</td>\n      <td>1.730845e+02</td>\n      <td>9.280500e+01</td>\n      <td>1.522043e+01</td>\n      <td>...</td>\n      <td>1.732352e+00</td>\n      <td>1.733941e+00</td>\n      <td>1.729665e+00</td>\n      <td>1.731308e+00</td>\n      <td>1.727274e+00</td>\n      <td>1.729237e+00</td>\n      <td>1.736573e+00</td>\n      <td>1.739157e+00</td>\n      <td>3.299847e+00</td>\n      <td>1.836339e+00</td>\n    </tr>\n  </tbody>\n</table>\n<p>8 rows × 50 columns</p>\n</div>"
     },
     "execution_count": 22,
     "metadata": {},
     "output_type": "execute_result"
    }
   ],
   "source": [
    "# Describe the DataFrame\n",
    "clean_data_df.describe()"
   ],
   "metadata": {
    "collapsed": false,
    "ExecuteTime": {
     "end_time": "2024-04-27T06:23:35.328174Z",
     "start_time": "2024-04-27T06:23:35.053446Z"
    }
   },
   "id": "5b00789774aa2840",
   "execution_count": 22
  },
  {
   "cell_type": "code",
   "outputs": [
    {
     "data": {
      "text/plain": "Bearer Id                                   0\nStart ms                                    0\nEnd ms                                      0\nDur. (ms)                                   0\nIMSI                                        0\nMSISDN/Number                               0\nIMEI                                        0\nAvg RTT DL (ms)                             0\nAvg RTT UL (ms)                             0\nAvg Bearer TP DL (kbps)                     0\nAvg Bearer TP UL (kbps)                     0\nTCP DL Retrans. Vol (Bytes)                 0\nTCP UL Retrans. Vol (Bytes)                 0\nDL TP < 50 Kbps (%)                         0\n50 Kbps < DL TP < 250 Kbps (%)              0\n250 Kbps < DL TP < 1 Mbps (%)               0\nDL TP > 1 Mbps (%)                          0\nUL TP < 10 Kbps (%)                         0\n10 Kbps < UL TP < 50 Kbps (%)               0\n50 Kbps < UL TP < 300 Kbps (%)              0\nUL TP > 300 Kbps (%)                        0\nHTTP DL (Bytes)                             0\nHTTP UL (Bytes)                             0\nActivity Duration DL (ms)                   0\nActivity Duration UL (ms)                   0\nDur. (ms).1                                 0\nNb of sec with 125000B < Vol DL             0\nNb of sec with 1250B < Vol UL < 6250B       0\nNb of sec with 31250B < Vol DL < 125000B    0\nNb of sec with 37500B < Vol UL              0\nNb of sec with 6250B < Vol DL < 31250B      0\nNb of sec with 6250B < Vol UL < 37500B      0\nNb of sec with Vol DL < 6250B               0\nNb of sec with Vol UL < 1250B               0\nSocial Media DL (Bytes)                     0\nSocial Media UL (Bytes)                     0\nGoogle DL (Bytes)                           0\nGoogle UL (Bytes)                           0\nEmail DL (Bytes)                            0\nEmail UL (Bytes)                            0\nYoutube DL (Bytes)                          0\nYoutube UL (Bytes)                          0\nNetflix DL (Bytes)                          0\nNetflix UL (Bytes)                          0\nGaming DL (Bytes)                           0\nGaming UL (Bytes)                           0\nOther DL (Bytes)                            0\nOther UL (Bytes)                            0\nTotal UL (Bytes)                            0\nTotal DL (Bytes)                            0\ndtype: int64"
     },
     "execution_count": 23,
     "metadata": {},
     "output_type": "execute_result"
    }
   ],
   "source": [
    "# Check for missing values\n",
    "clean_data_df.isnull().sum()"
   ],
   "metadata": {
    "collapsed": false,
    "ExecuteTime": {
     "end_time": "2024-04-27T06:24:23.106234Z",
     "start_time": "2024-04-27T06:24:23.095090Z"
    }
   },
   "id": "92737ecca0e3061f",
   "execution_count": 23
  },
  {
   "cell_type": "code",
   "outputs": [
    {
     "data": {
      "text/plain": "0"
     },
     "execution_count": 24,
     "metadata": {},
     "output_type": "execute_result"
    }
   ],
   "source": [
    "# Check for duplicates\n",
    "clean_data_df.duplicated().sum()"
   ],
   "metadata": {
    "collapsed": false,
    "ExecuteTime": {
     "end_time": "2024-04-27T06:24:31.241439Z",
     "start_time": "2024-04-27T06:24:30.968830Z"
    }
   },
   "id": "bd1217ece9026be5",
   "execution_count": 24
  },
  {
   "cell_type": "code",
   "outputs": [
    {
     "data": {
      "text/plain": "(150001, 50)"
     },
     "execution_count": 25,
     "metadata": {},
     "output_type": "execute_result"
    }
   ],
   "source": [
    "# Check the shape of the DataFrame\n",
    "clean_data_df.shape"
   ],
   "metadata": {
    "collapsed": false,
    "ExecuteTime": {
     "end_time": "2024-04-27T06:24:37.610292Z",
     "start_time": "2024-04-27T06:24:37.607499Z"
    }
   },
   "id": "90c3999b71351b13",
   "execution_count": 25
  },
  {
   "cell_type": "markdown",
   "source": [
    "### Save the Cleaned Data to Database"
   ],
   "metadata": {
    "collapsed": false
   },
   "id": "91d724f1b267e3b5"
  },
  {
   "cell_type": "code",
   "outputs": [],
   "source": [
    "save_data_to_db(clean_data_df, 'clean_data')"
   ],
   "metadata": {
    "collapsed": false,
    "ExecuteTime": {
     "end_time": "2024-04-27T06:21:53.960352Z",
     "start_time": "2024-04-27T06:21:16.262440Z"
    }
   },
   "id": "2e5195708b2afe45",
   "execution_count": 17
  }
 ],
 "metadata": {
  "kernelspec": {
   "display_name": "Python 3",
   "language": "python",
   "name": "python3"
  },
  "language_info": {
   "codemirror_mode": {
    "name": "ipython",
    "version": 2
   },
   "file_extension": ".py",
   "mimetype": "text/x-python",
   "name": "python",
   "nbconvert_exporter": "python",
   "pygments_lexer": "ipython2",
   "version": "2.7.6"
  }
 },
 "nbformat": 4,
 "nbformat_minor": 5
}
