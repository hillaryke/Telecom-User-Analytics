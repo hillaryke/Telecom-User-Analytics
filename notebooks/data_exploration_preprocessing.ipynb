{
 "cells": [
  {
   "cell_type": "markdown",
   "source": [
    "# Data Exploration and Preprocessing\n",
    "\n",
    "In this notebook, we will load the dataset, explore it, and perform necessary preprocessing tasks."
   ],
   "metadata": {
    "collapsed": false
   },
   "id": "477bbb325c679afd"
  },
  {
   "cell_type": "markdown",
   "source": [],
   "metadata": {
    "collapsed": false
   },
   "id": "616804764891f743"
  },
  {
   "cell_type": "code",
   "execution_count": 11,
   "id": "initial_id",
   "metadata": {
    "collapsed": true,
    "ExecuteTime": {
     "end_time": "2024-04-22T21:51:20.770104Z",
     "start_time": "2024-04-22T21:51:20.767920Z"
    }
   },
   "outputs": [],
   "source": [
    "# Import necessary libraries\n",
    "import pandas as pd\n",
    "from sqlalchemy import create_engine, text"
   ]
  },
  {
   "cell_type": "markdown",
   "source": [
    "## Load the Data\n",
    "\n",
    "We will load the data from postgres database into a pandas DataFrame."
   ],
   "metadata": {
    "collapsed": false
   },
   "id": "92a140c9d1b0f44"
  },
  {
   "cell_type": "code",
   "outputs": [
    {
     "name": "stdout",
     "output_type": "stream",
     "text": [
      "      Bearer Id            Start  Start ms              End  End ms  \\\n",
      "0  7.349883e+18  4/23/2019 13:56     642.0   4/25/2019 2:06    53.0   \n",
      "1  1.311448e+19  4/23/2019 14:00     501.0  4/24/2019 23:17   453.0   \n",
      "2  1.311448e+19  4/23/2019 14:00     507.0  4/24/2019 23:17   453.0   \n",
      "3  1.311448e+19  4/23/2019 14:00     744.0   4/25/2019 0:24   330.0   \n",
      "4  1.311448e+19  4/23/2019 14:01     369.0   4/25/2019 4:13   905.0   \n",
      "\n",
      "   Dur. (ms)          IMSI  MSISDN/Number          IMEI Last Location Name  \\\n",
      "0   130220.0  2.082003e+14   3.368112e+10  3.572961e+13            T10006B   \n",
      "1   119804.0  2.082014e+14   3.369966e+10  3.561431e+13            T92938B   \n",
      "2   119781.0  2.082014e+14   3.369966e+10  3.561431e+13            T92938B   \n",
      "3   123787.0  2.082017e+14   3.362404e+10  8.629340e+13            D21059A   \n",
      "4   137523.0  2.082017e+14   3.366612e+10  3.538111e+13            D42243B   \n",
      "\n",
      "   ...  Youtube DL (Bytes)  Youtube UL (Bytes)  Netflix DL (Bytes)  \\\n",
      "0  ...          21500768.0          12101768.0          12226975.0   \n",
      "1  ...           7277265.0          14808877.0           5404356.0   \n",
      "2  ...          10232699.0           8551438.0           8528398.0   \n",
      "3  ...          15007252.0          16673992.0          14089357.0   \n",
      "4  ...           9633967.0          17836471.0          22432445.0   \n",
      "\n",
      "   Netflix UL (Bytes)  Gaming DL (Bytes)  Gaming UL (Bytes)  Other DL (Bytes)  \\\n",
      "0          16511157.0        340225685.0          6951608.0       483022848.0   \n",
      "1          17848389.0        281827903.0          3255023.0       746150700.0   \n",
      "2          19632728.0         73444975.0          8167950.0       787793727.0   \n",
      "3           6924105.0        174894914.0            41507.0       345556220.0   \n",
      "4             11400.0        623985913.0         10539036.0       706817241.0   \n",
      "\n",
      "   Other UL (Bytes)  Total UL (Bytes)  Total DL (Bytes)  \n",
      "0        13524725.0        50864502.0       388912579.0  \n",
      "1         1475289.0        38549811.0       305633791.0  \n",
      "2        10773216.0        49161715.0       105009018.0  \n",
      "3          837674.0        28422142.0       209975300.0  \n",
      "4        11317378.0        43951635.0       661274286.0  \n",
      "\n",
      "[5 rows x 55 columns]\n"
     ]
    }
   ],
   "source": [
    "# Define a dictionary with the connection details\n",
    "db_config = {\n",
    "    'username': 'postgres',\n",
    "    'password': 'pass123',\n",
    "    'host': 'localhost',\n",
    "    'port': '5432',\n",
    "    'database': 'telecom'\n",
    "}\n",
    "\n",
    "# Create a connection to the PostgreSQL database\n",
    "engine = create_engine(f\"postgresql://{db_config['username']}:{db_config['password']}@{db_config['host']}:{db_config['port']}/{db_config['database']}\")\n",
    "\n",
    "# Execute a SQL query and load the result into a DataFrame\n",
    "query = text(\"SELECT * FROM xdr_data\")\n",
    "with engine.connect() as conn: \n",
    "    df = pd.read_sql_query(query, conn)\n",
    "\n",
    "# Print the first few rows of the DataFrame\n",
    "print(df.head())"
   ],
   "metadata": {
    "collapsed": false,
    "ExecuteTime": {
     "end_time": "2024-04-22T21:54:04.693100Z",
     "start_time": "2024-04-22T21:54:00.773052Z"
    }
   },
   "id": "275908fb7305f4a9",
   "execution_count": 16
  },
  {
   "cell_type": "code",
   "outputs": [],
   "source": [],
   "metadata": {
    "collapsed": false
   },
   "id": "5e4d058e98652251"
  }
 ],
 "metadata": {
  "kernelspec": {
   "display_name": "Python 3",
   "language": "python",
   "name": "python3"
  },
  "language_info": {
   "codemirror_mode": {
    "name": "ipython",
    "version": 2
   },
   "file_extension": ".py",
   "mimetype": "text/x-python",
   "name": "python",
   "nbconvert_exporter": "python",
   "pygments_lexer": "ipython2",
   "version": "2.7.6"
  }
 },
 "nbformat": 4,
 "nbformat_minor": 5
}
