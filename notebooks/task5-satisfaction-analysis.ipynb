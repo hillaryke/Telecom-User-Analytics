{
 "cells": [
  {
   "cell_type": "markdown",
   "source": [
    "# Task 5 \n",
    "\n",
    "Assign:\n",
    "- engagement score to each user. \n",
    "Consider the engagement score as the Euclidean distance between the user data point & the less engaged cluster (use the first clustering for this) (Euclidean Distance)\n"
   ],
   "metadata": {
    "collapsed": false
   },
   "id": "4654c85333655407"
  },
  {
   "cell_type": "code",
   "outputs": [],
   "source": [
    "# Load the data\n",
    "from src.utils import fetch_data_from_db_table\n",
    "\n",
    "df = fetch_data_from_db_table('clean_data')"
   ],
   "metadata": {
    "collapsed": false,
    "ExecuteTime": {
     "end_time": "2024-04-27T13:19:22.568123Z",
     "start_time": "2024-04-27T13:19:18.414087Z"
    }
   },
   "id": "adecf29eeac73f41",
   "execution_count": 3
  },
  {
   "cell_type": "code",
   "outputs": [
    {
     "name": "stdout",
     "output_type": "stream",
     "text": [
      "           Dur. (ms)  Avg RTT DL (ms)  Avg RTT UL (ms)  \\\n",
      "0       7.060759e-03        -0.188482    -2.279256e-01   \n",
      "1       7.060759e-03         0.731606    -2.279256e-01   \n",
      "2       7.060759e-03         0.000000    -4.744955e-16   \n",
      "3       7.060759e-03         0.000000    -4.744955e-16   \n",
      "4       7.060759e-03         0.000000    -4.744955e-16   \n",
      "...              ...              ...              ...   \n",
      "149996 -9.072880e-02        -0.756899    -2.142365e+00   \n",
      "149997  2.062895e-01        -1.109733    -9.685318e-01   \n",
      "149998  2.107973e-01        -0.139113    -6.322041e-02   \n",
      "149999  2.053184e-01        -0.453938    -2.279256e-01   \n",
      "150000  2.815807e-15         0.000000    -4.744955e-16   \n",
      "\n",
      "        Avg Bearer TP DL (kbps)  Avg Bearer TP UL (kbps)  cluster  \\\n",
      "0                     -0.960585                -0.733343        0   \n",
      "1                     -1.068281                -0.979640        0   \n",
      "2                     -1.345392                -1.458541        0   \n",
      "3                     -0.764265                -0.733343        0   \n",
      "4                     -1.345392                -1.458541        0   \n",
      "...                         ...                      ...      ...   \n",
      "149996                -0.713163                -0.548681        0   \n",
      "149997                -0.960585                -0.636588        0   \n",
      "149998                -0.771284                -0.702225        0   \n",
      "149999                -0.842753                -0.814864        0   \n",
      "150000                 0.000000                 0.000000        0   \n",
      "\n",
      "        engagement_score  \n",
      "0               0.484878  \n",
      "1               1.208938  \n",
      "2               1.130408  \n",
      "3               0.676883  \n",
      "4               1.130408  \n",
      "...                  ...  \n",
      "149996          1.808016  \n",
      "149997          0.959648  \n",
      "149998          0.472522  \n",
      "149999          0.320074  \n",
      "150000          1.281167  \n",
      "\n",
      "[150001 rows x 7 columns]\n"
     ]
    }
   ],
   "source": [
    "import pandas as pd\n",
    "from sklearn.cluster import KMeans\n",
    "from sklearn.preprocessing import StandardScaler\n",
    "from scipy.spatial import distance\n",
    "\n",
    "# Select only the columns with experience metrics\n",
    "experience_metrics = ['Dur. (ms)', 'Avg RTT DL (ms)', 'Avg RTT UL (ms)', 'Avg Bearer TP DL (kbps)', 'Avg Bearer TP UL (kbps)']\n",
    "df_experience = df[experience_metrics]\n",
    "\n",
    "# Handle missing values if any\n",
    "df_experience = df_experience.dropna()\n",
    "\n",
    "# Scale the data\n",
    "scaler = StandardScaler()\n",
    "df_scaled = scaler.fit_transform(df_experience)\n",
    "\n",
    "# Perform k-means clustering\n",
    "kmeans = KMeans(n_clusters=3, random_state=0)\n",
    "kmeans.fit(df_scaled)\n",
    "# Convert df_scaled back to a DataFrame\n",
    "df_scaled = pd.DataFrame(df_scaled, columns=df_experience.columns)\n",
    "\n",
    "# Add the cluster labels to the original DataFrame\n",
    "df_experience['cluster'] = kmeans.labels_\n",
    "\n",
    "# Identify the less engaged cluster\n",
    "# This could be the cluster with the lowest average 'Dur. (ms)', 'Avg RTT DL (ms)', 'Avg RTT UL (ms)', 'Avg Bearer TP DL (kbps)', and 'Avg Bearer TP UL (kbps)'\n",
    "# For example, if cluster 0 is the less engaged cluster\n",
    "less_engaged_cluster = 0\n",
    "\n",
    "# Get the centroid of the less engaged cluster\n",
    "less_engaged_centroid = kmeans.cluster_centers_[less_engaged_cluster]\n",
    "\n",
    "# Calculate the Euclidean distance between each user data point and the centroid of the less engaged cluster\n",
    "df_experience['engagement_score'] = df_scaled.apply(lambda x: distance.euclidean(x, less_engaged_centroid), axis=1)\n",
    "\n",
    "# Print the DataFrame with the engagement scores\n",
    "print(df_experience)"
   ],
   "metadata": {
    "collapsed": false,
    "ExecuteTime": {
     "end_time": "2024-04-27T13:20:16.206202Z",
     "start_time": "2024-04-27T13:20:13.238534Z"
    }
   },
   "id": "4b7d5e8f8c312f25",
   "execution_count": 5
  },
  {
   "cell_type": "code",
   "outputs": [],
   "source": [],
   "metadata": {
    "collapsed": false
   },
   "id": "405d1cb8dc04c9de"
  },
  {
   "cell_type": "markdown",
   "source": [
    "# Task 5.1 (b)"
   ],
   "metadata": {
    "collapsed": false
   },
   "id": "302f32fe760efeea"
  },
  {
   "cell_type": "markdown",
   "source": [
    "Task 5. 1 - Write a python program to assign:\n",
    "engagement score to each user. Consider the engagement score as the Euclidean distance between the user data point & the less engaged cluster (use the first clustering for this) (Euclidean Distance)\n",
    "experience score to each user. Consider the experience score as the Euclidean distance between the user data point & the worst experience’s cluster. \n"
   ],
   "metadata": {
    "collapsed": false
   },
   "id": "b81fa86261b5af01"
  },
  {
   "cell_type": "code",
   "outputs": [
    {
     "name": "stdout",
     "output_type": "stream",
     "text": [
      "           Dur. (ms)  Avg RTT DL (ms)  Avg RTT UL (ms)  \\\n",
      "0       7.060759e-03        -0.188482    -2.279256e-01   \n",
      "1       7.060759e-03         0.731606    -2.279256e-01   \n",
      "2       7.060759e-03         0.000000    -4.744955e-16   \n",
      "3       7.060759e-03         0.000000    -4.744955e-16   \n",
      "4       7.060759e-03         0.000000    -4.744955e-16   \n",
      "...              ...              ...              ...   \n",
      "149996 -9.072880e-02        -0.756899    -2.142365e+00   \n",
      "149997  2.062895e-01        -1.109733    -9.685318e-01   \n",
      "149998  2.107973e-01        -0.139113    -6.322041e-02   \n",
      "149999  2.053184e-01        -0.453938    -2.279256e-01   \n",
      "150000  2.815807e-15         0.000000    -4.744955e-16   \n",
      "\n",
      "        Avg Bearer TP DL (kbps)  Avg Bearer TP UL (kbps)  cluster  \\\n",
      "0                     -0.960585                -0.733343        0   \n",
      "1                     -1.068281                -0.979640        0   \n",
      "2                     -1.345392                -1.458541        0   \n",
      "3                     -0.764265                -0.733343        0   \n",
      "4                     -1.345392                -1.458541        0   \n",
      "...                         ...                      ...      ...   \n",
      "149996                -0.713163                -0.548681        0   \n",
      "149997                -0.960585                -0.636588        0   \n",
      "149998                -0.771284                -0.702225        0   \n",
      "149999                -0.842753                -0.814864        0   \n",
      "150000                 0.000000                 0.000000        0   \n",
      "\n",
      "        engagement_score  experience_score  \n",
      "0               0.484878          3.511269  \n",
      "1               1.208938          3.517030  \n",
      "2               1.130408          4.048710  \n",
      "3               0.676883          3.230676  \n",
      "4               1.130408          4.048710  \n",
      "...                  ...               ...  \n",
      "149996          1.808016          4.682720  \n",
      "149997          0.959648          4.240841  \n",
      "149998          0.472522          3.298688  \n",
      "149999          0.320074          3.597257  \n",
      "150000          1.281167          2.391102  \n",
      "\n",
      "[150001 rows x 8 columns]\n"
     ]
    }
   ],
   "source": [
    "# Identify the worst experience cluster\n",
    "# This could be the cluster with the highest average 'Dur. (ms)', 'Avg RTT DL (ms)', 'Avg RTT UL (ms)', 'Avg Bearer TP DL (kbps)', and 'Avg Bearer TP UL (kbps)'\n",
    "# For example, if cluster 2 is the worst experience cluster\n",
    "worst_experience_cluster = 2\n",
    "\n",
    "# Get the centroid of the worst experience cluster\n",
    "worst_experience_centroid = kmeans.cluster_centers_[worst_experience_cluster]\n",
    "\n",
    "# Calculate the Euclidean distance between each user data point and the centroid of the worst experience cluster\n",
    "df_experience['experience_score'] = df_scaled.apply(lambda x: distance.euclidean(x, worst_experience_centroid), axis=1)\n",
    "\n",
    "# Print the DataFrame with the experience scores\n",
    "print(df_experience)"
   ],
   "metadata": {
    "collapsed": false,
    "ExecuteTime": {
     "end_time": "2024-04-27T13:22:11.765802Z",
     "start_time": "2024-04-27T13:22:08.857317Z"
    }
   },
   "id": "e2765f3144228526",
   "execution_count": 6
  },
  {
   "cell_type": "code",
   "outputs": [],
   "source": [],
   "metadata": {
    "collapsed": false
   },
   "id": "8ec0b7c544ab6bcb"
  },
  {
   "cell_type": "markdown",
   "source": [
    "# Task 5.2"
   ],
   "metadata": {
    "collapsed": false
   },
   "id": "7fec3c1a174c109a"
  },
  {
   "cell_type": "markdown",
   "source": [
    "Task 5.2 - Consider the average of both engagement & experience scores as  the satisfaction score & report the top 10 satisfied customer"
   ],
   "metadata": {
    "collapsed": false
   },
   "id": "c6ffde466f177caf"
  },
  {
   "cell_type": "code",
   "outputs": [
    {
     "name": "stdout",
     "output_type": "stream",
     "text": [
      "       Dur. (ms)  Avg RTT DL (ms)  Avg RTT UL (ms)  Avg Bearer TP DL (kbps)  \\\n",
      "17471  -2.070616         3.336521        -0.968532                -1.450475   \n",
      "21624  -2.594953        -1.440765        -1.401759                -1.953115   \n",
      "18203  -2.368905         3.090830        -2.142365                -0.757401   \n",
      "14089  -2.329163         3.326826         3.260076                 0.339484   \n",
      "98481  -2.113444         3.317087        -1.401759                -0.674420   \n",
      "16917  -2.556401        -2.598237        -1.401759                -0.973876   \n",
      "16988  -1.797518         0.000000         3.260076                -1.610010   \n",
      "25962   1.996281        -2.929269        -2.142365                -0.639958   \n",
      "9364   -1.363441         3.257707         3.475105                 1.476779   \n",
      "14253  -1.850515        -1.942443        -0.968532                -1.953115   \n",
      "\n",
      "       Avg Bearer TP UL (kbps)  cluster  engagement_score  experience_score  \\\n",
      "17471                -2.234540        0          4.732252          5.779541   \n",
      "21624                -2.234540        0          3.806305          6.478859   \n",
      "18203                -0.744178        1          4.701519          5.399633   \n",
      "14089                 0.171622        2          6.055388          4.011135   \n",
      "98481                -1.566131        0          4.596327          5.290792   \n",
      "16917                -0.840933        0          3.823382          6.004372   \n",
      "16988                -2.039043        0          4.582752          5.148234   \n",
      "25962                -0.610981        0          3.497482          6.208913   \n",
      "9364                  0.910829        2          6.268646          3.391167   \n",
      "14253                -2.234540        0          3.369494          6.268833   \n",
      "\n",
      "       satisfaction_score  \n",
      "17471            5.255896  \n",
      "21624            5.142582  \n",
      "18203            5.050576  \n",
      "14089            5.033262  \n",
      "98481            4.943559  \n",
      "16917            4.913877  \n",
      "16988            4.865493  \n",
      "25962            4.853197  \n",
      "9364             4.829907  \n",
      "14253            4.819163  \n"
     ]
    }
   ],
   "source": [
    "# Calculate the satisfaction score as the average of the engagement score and the experience score\n",
    "df_experience['satisfaction_score'] = (df_experience['engagement_score'] + df_experience['experience_score']) / 2\n",
    "\n",
    "# Sort the DataFrame by the satisfaction score in descending order\n",
    "df_sorted = df_experience.sort_values(by='satisfaction_score', ascending=False)\n",
    "\n",
    "# Select the top 10 rows\n",
    "top_10_satisfied_customers = df_sorted.head(10)\n",
    "\n",
    "# Print the top 10 satisfied customers\n",
    "print(top_10_satisfied_customers)"
   ],
   "metadata": {
    "collapsed": false,
    "ExecuteTime": {
     "end_time": "2024-04-27T13:23:13.911861Z",
     "start_time": "2024-04-27T13:23:13.886260Z"
    }
   },
   "id": "67f4106bf7b3d988",
   "execution_count": 8
  },
  {
   "cell_type": "code",
   "outputs": [],
   "source": [],
   "metadata": {
    "collapsed": false
   },
   "id": "cdae3e89aab06e95"
  },
  {
   "cell_type": "markdown",
   "source": [
    "# Task 5.3\n",
    "\n",
    "Regression model to predict the satisfaction score of a user based on the engagement score and experience score."
   ],
   "metadata": {
    "collapsed": false
   },
   "id": "2bf00ceb135eb556"
  },
  {
   "cell_type": "code",
   "outputs": [
    {
     "name": "stdout",
     "output_type": "stream",
     "text": [
      "Mean Squared Error: 9.494035391543295e-31\n"
     ]
    }
   ],
   "source": [
    "from sklearn.linear_model import LinearRegression\n",
    "from sklearn.model_selection import train_test_split\n",
    "from sklearn.metrics import mean_squared_error\n",
    "\n",
    "# Split the data into features (engagement score and experience score) and target (satisfaction score)\n",
    "X = df_experience[['engagement_score', 'experience_score']]\n",
    "y = df_experience['satisfaction_score']\n",
    "\n",
    "# Split the data into training and testing sets\n",
    "X_train, X_test, y_train, y_test = train_test_split(X, y, test_size=0.2, random_state=0)\n",
    "\n",
    "# Initialize the linear regression model\n",
    "model = LinearRegression()\n",
    "\n",
    "# Fit the model on the training data\n",
    "model.fit(X_train, y_train)\n",
    "\n",
    "# Make predictions on the test data\n",
    "y_pred = model.predict(X_test)\n",
    "\n",
    "# Calculate the mean squared error\n",
    "mse = mean_squared_error(y_test, y_pred)\n",
    "\n",
    "# Print the mean squared error\n",
    "print('Mean Squared Error:', mse)\n"
   ],
   "metadata": {
    "collapsed": false,
    "ExecuteTime": {
     "end_time": "2024-04-27T13:25:36.965217Z",
     "start_time": "2024-04-27T13:25:36.920362Z"
    }
   },
   "id": "f51f146ceb6de223",
   "execution_count": 9
  },
  {
   "cell_type": "code",
   "outputs": [
    {
     "name": "stdout",
     "output_type": "stream",
     "text": [
      "Mean Squared Error: 1.0616904499986131e-05\n"
     ]
    }
   ],
   "source": [
    "from sklearn.ensemble import RandomForestRegressor\n",
    "from sklearn.model_selection import train_test_split\n",
    "from sklearn.metrics import mean_squared_error\n",
    "\n",
    "# Split the data into features (engagement score and experience score) and target (satisfaction score)\n",
    "X = df_experience[['engagement_score', 'experience_score']]\n",
    "y = df_experience['satisfaction_score']\n",
    "\n",
    "# Split the data into training and testing sets\n",
    "X_train, X_test, y_train, y_test = train_test_split(X, y, test_size=0.2, random_state=0)\n",
    "\n",
    "# Initialize the Random Forest Regressor model\n",
    "model = RandomForestRegressor(n_estimators=100, random_state=0)\n",
    "\n",
    "# Fit the model on the training data\n",
    "model.fit(X_train, y_train)\n",
    "\n",
    "# Make predictions on the test data\n",
    "y_pred = model.predict(X_test)\n",
    "\n",
    "# Calculate the mean squared error\n",
    "mse = mean_squared_error(y_test, y_pred)\n",
    "\n",
    "# Print the mean squared error\n",
    "print('Mean Squared Error:', mse)"
   ],
   "metadata": {
    "collapsed": false,
    "ExecuteTime": {
     "end_time": "2024-04-27T13:27:18.484228Z",
     "start_time": "2024-04-27T13:26:42.989438Z"
    }
   },
   "id": "fe6fa7ff4c584e69",
   "execution_count": 10
  },
  {
   "cell_type": "markdown",
   "source": [
    "###  Histogram plot the satisfaction scores to visualize the distribution of scores among your users."
   ],
   "metadata": {
    "collapsed": false
   },
   "id": "25ab89e7c14274a0"
  },
  {
   "cell_type": "code",
   "outputs": [
    {
     "data": {
      "text/plain": "<Figure size 640x480 with 1 Axes>",
      "image/png": "[encoded data removed]"
     },
     "metadata": {},
     "output_type": "display_data"
    }
   ],
   "source": [
    "import matplotlib.pyplot as plt\n",
    "\n",
    "# Plot a histogram of the satisfaction scores\n",
    "plt.hist(df_experience['satisfaction_score'], bins=30, edgecolor='black')\n",
    "plt.title('Distribution of Satisfaction Scores')\n",
    "plt.xlabel('Satisfaction Score')\n",
    "plt.ylabel('Number of Users')\n",
    "plt.show()"
   ],
   "metadata": {
    "collapsed": false,
    "ExecuteTime": {
     "end_time": "2024-04-27T13:30:07.691167Z",
     "start_time": "2024-04-27T13:30:07.521215Z"
    }
   },
   "id": "57f0680d77fb58fc",
   "execution_count": 12
  },
  {
   "cell_type": "markdown",
   "source": [
    "# Task 5.4\n",
    "\n",
    "Task 5.4 - Run a k-means (k=2) on the engagement & the experience score . "
   ],
   "metadata": {
    "collapsed": false
   },
   "id": "f1748289fc5ab21d"
  },
  {
   "cell_type": "code",
   "outputs": [
    {
     "name": "stdout",
     "output_type": "stream",
     "text": [
      "        engagement_score  experience_score  cluster\n",
      "0               0.484878          3.511269        0\n",
      "1               1.208938          3.517030        0\n",
      "2               1.130408          4.048710        0\n",
      "3               0.676883          3.230676        0\n",
      "4               1.130408          4.048710        0\n",
      "...                  ...               ...      ...\n",
      "149996          1.808016          4.682720        0\n",
      "149997          0.959648          4.240841        0\n",
      "149998          0.472522          3.298688        0\n",
      "149999          0.320074          3.597257        0\n",
      "150000          1.281167          2.391102        0\n",
      "\n",
      "[150001 rows x 3 columns]\n"
     ]
    },
    {
     "name": "stderr",
     "output_type": "stream",
     "text": [
      "/tmp/ipykernel_92689/3414618918.py:17: SettingWithCopyWarning: \n",
      "A value is trying to be set on a copy of a slice from a DataFrame.\n",
      "Try using .loc[row_indexer,col_indexer] = value instead\n",
      "\n",
      "See the caveats in the documentation: https://pandas.pydata.org/pandas-docs/stable/user_guide/indexing.html#returning-a-view-versus-a-copy\n",
      "  df_scores['cluster'] = kmeans_scores.labels_\n"
     ]
    }
   ],
   "source": [
    "#  Run a k-means clustering with k=2 on the engagement score and experience score\n",
    "\n",
    "# Select the engagement score and experience score columns\n",
    "df_scores = df_experience[['engagement_score', 'experience_score']]\n",
    "# Scale the data\n",
    "scaler = StandardScaler()\n",
    "df_scores_scaled = scaler.fit_transform(df_scores)\n",
    "\n",
    "# Perform k-means clustering with k=2\n",
    "kmeans_scores = KMeans(n_clusters=2, random_state=0)\n",
    "kmeans_scores.fit(df_scores_scaled)\n",
    "\n",
    "# Convert df_scores_scaled back to a DataFrame\n",
    "df_scores_scaled = pd.DataFrame(df_scores_scaled, columns=df_scores.columns)\n",
    "\n",
    "# Add the cluster labels to the original DataFrame\n",
    "df_scores['cluster'] = kmeans_scores.labels_\n",
    "\n",
    "# Print the DataFrame with the cluster labels\n",
    "print(df_scores)\n"
   ],
   "metadata": {
    "collapsed": false,
    "ExecuteTime": {
     "end_time": "2024-04-27T13:31:24.040533Z",
     "start_time": "2024-04-27T13:31:23.986221Z"
    }
   },
   "id": "427e81e8cb201ea4",
   "execution_count": 13
  },
  {
   "cell_type": "code",
   "outputs": [
    {
     "name": "stdout",
     "output_type": "stream",
     "text": [
      "        engagement_score  experience_score  cluster\n",
      "0               0.484878          3.511269        0\n",
      "1               1.208938          3.517030        0\n",
      "2               1.130408          4.048710        0\n",
      "3               0.676883          3.230676        0\n",
      "4               1.130408          4.048710        0\n",
      "...                  ...               ...      ...\n",
      "149996          1.808016          4.682720        0\n",
      "149997          0.959648          4.240841        0\n",
      "149998          0.472522          3.298688        0\n",
      "149999          0.320074          3.597257        0\n",
      "150000          1.281167          2.391102        0\n",
      "\n",
      "[150001 rows x 3 columns]\n"
     ]
    },
    {
     "name": "stderr",
     "output_type": "stream",
     "text": [
      "/tmp/ipykernel_92689/2401069162.py:20: SettingWithCopyWarning: \n",
      "A value is trying to be set on a copy of a slice from a DataFrame.\n",
      "Try using .loc[row_indexer,col_indexer] = value instead\n",
      "\n",
      "See the caveats in the documentation: https://pandas.pydata.org/pandas-docs/stable/user_guide/indexing.html#returning-a-view-versus-a-copy\n",
      "  df_scores['cluster'] = kmeans_scores.labels_\n"
     ]
    }
   ],
   "source": [
    "from sklearn.cluster import KMeans\n",
    "from sklearn.preprocessing import StandardScaler\n",
    "import pandas as pd\n",
    "\n",
    "# Select the engagement score and experience score columns\n",
    "df_scores = df_experience[['engagement_score', 'experience_score']]\n",
    "\n",
    "# Scale the data\n",
    "scaler = StandardScaler()\n",
    "df_scores_scaled = scaler.fit_transform(df_scores)\n",
    "\n",
    "# Perform k-means clustering with k=2\n",
    "kmeans_scores = KMeans(n_clusters=2, random_state=0)\n",
    "kmeans_scores.fit(df_scores_scaled)\n",
    "\n",
    "# Convert df_scores_scaled back to a DataFrame\n",
    "df_scores_scaled = pd.DataFrame(df_scores_scaled, columns=df_scores.columns)\n",
    "\n",
    "# Add the cluster labels to the original DataFrame\n",
    "df_scores['cluster'] = kmeans_scores.labels_\n",
    "\n",
    "# Print the DataFrame with the cluster labels\n",
    "print(df_scores)"
   ],
   "metadata": {
    "collapsed": false,
    "ExecuteTime": {
     "end_time": "2024-04-27T13:32:33.723810Z",
     "start_time": "2024-04-27T13:32:33.669027Z"
    }
   },
   "id": "b73ca0b2aa239605",
   "execution_count": 14
  },
  {
   "cell_type": "code",
   "outputs": [],
   "source": [],
   "metadata": {
    "collapsed": false
   },
   "id": "4f2be7b72736c03e"
  },
  {
   "cell_type": "markdown",
   "source": [
    "# Task 5.5\n",
    "\n",
    "Task 5.5 - Aggregate the average satisfaction & experience score per cluster. \n"
   ],
   "metadata": {
    "collapsed": false
   },
   "id": "ea18f92f2cbf995e"
  },
  {
   "cell_type": "code",
   "outputs": [
    {
     "name": "stdout",
     "output_type": "stream",
     "text": [
      "         satisfaction_score  experience_score\n",
      "cluster                                      \n",
      "0                  2.580275          3.839972\n",
      "1                  2.817126          2.583230\n",
      "2                  2.683053          1.465506\n"
     ]
    }
   ],
   "source": [
    "# Calculate the satisfaction score as the average of the engagement score and the experience score\n",
    "df_experience['satisfaction_score'] = (df_experience['engagement_score'] + df_experience['experience_score']) / 2\n",
    "\n",
    "# Aggregate the average satisfaction and experience score per cluster\n",
    "average_scores = df_experience.groupby('cluster')[['satisfaction_score', 'experience_score']].mean()\n",
    "\n",
    "# Print the average scores\n",
    "print(average_scores)\n"
   ],
   "metadata": {
    "collapsed": false,
    "ExecuteTime": {
     "end_time": "2024-04-27T13:35:10.802259Z",
     "start_time": "2024-04-27T13:35:10.794177Z"
    }
   },
   "id": "59a3a4c843c2e29d",
   "execution_count": 18
  },
  {
   "cell_type": "code",
   "outputs": [],
   "source": [],
   "metadata": {
    "collapsed": false
   },
   "id": "ae23aab3d2c7ee79"
  },
  {
   "cell_type": "markdown",
   "source": [
    "### Visualize the clusters in a 2D plot with the engagement score on the x-axis and the experience score on the y-axis."
   ],
   "metadata": {
    "collapsed": false
   },
   "id": "d6ce7c677fbae1d3"
  },
  {
   "cell_type": "code",
   "outputs": [
    {
     "data": {
      "text/plain": "<Figure size 640x480 with 1 Axes>",
      "image/png": "[encoded data removed]"
     },
     "metadata": {},
     "output_type": "display_data"
    }
   ],
   "source": [
    "import matplotlib.pyplot as plt\n",
    "\n",
    "# Plot the clusters in a 2D plot with the engagement score on the x-axis and the experience score on the y-axis\n",
    "plt.scatter(df_scores['engagement_score'], df_scores['experience_score'], c=df_scores['cluster'], cmap='viridis')\n",
    "plt.xlabel('Engagement Score')\n",
    "plt.ylabel('Experience Score')\n",
    "plt.title('Clusters of Users based on Engagement and Experience Scores')\n",
    "plt.show()"
   ],
   "metadata": {
    "collapsed": false,
    "ExecuteTime": {
     "end_time": "2024-04-27T13:36:14.331883Z",
     "start_time": "2024-04-27T13:36:12.220049Z"
    }
   },
   "id": "69b664eeb629b6af",
   "execution_count": 19
  },
  {
   "cell_type": "code",
   "outputs": [],
   "source": [],
   "metadata": {
    "collapsed": false
   },
   "id": "f968f7639656cee3"
  },
  {
   "cell_type": "code",
   "outputs": [],
   "source": [
    "\n"
   ],
   "metadata": {
    "collapsed": false
   },
   "id": "46c272b45aa2bf49"
  }
 ],
 "metadata": {
  "kernelspec": {
   "display_name": "Python 3",
   "language": "python",
   "name": "python3"
  },
  "language_info": {
   "codemirror_mode": {
    "name": "ipython",
    "version": 2
   },
   "file_extension": ".py",
   "mimetype": "text/x-python",
   "name": "python",
   "nbconvert_exporter": "python",
   "pygments_lexer": "ipython2",
   "version": "2.7.6"
  }
 },
 "nbformat": 4,
 "nbformat_minor": 5
}
