{
 "cells": [
  {
   "cell_type": "code",
   "outputs": [],
   "source": [
    "from src.utils import fetch_telecom_data\n",
    "from src.preprocessing import preprocess_data"
   ],
   "metadata": {
    "collapsed": false,
    "ExecuteTime": {
     "end_time": "2024-04-27T09:34:07.627488Z",
     "start_time": "2024-04-27T09:34:07.380714Z"
    }
   },
   "id": "33252773df3d71db",
   "execution_count": 3
  },
  {
   "cell_type": "markdown",
   "source": [
    "# Load the data from the database"
   ],
   "metadata": {
    "collapsed": false
   },
   "id": "370e593fd39fe643"
  },
  {
   "cell_type": "code",
   "outputs": [],
   "source": [
    "# Load the data\n",
    "df = fetch_telecom_data()"
   ],
   "metadata": {
    "collapsed": false,
    "ExecuteTime": {
     "end_time": "2024-04-27T09:34:11.483286Z",
     "start_time": "2024-04-27T09:34:08.574279Z"
    }
   },
   "id": "bd28d0bcec597911",
   "execution_count": 4
  },
  {
   "cell_type": "markdown",
   "source": [
    "# Preprocess the data:\n",
    "- (treat missing & outliers by replacing by the mean or the mode of the corresponding variable)"
   ],
   "metadata": {
    "collapsed": false
   },
   "id": "8a457a93aa60a9fc"
  },
  {
   "cell_type": "code",
   "outputs": [
    {
     "data": {
      "text/plain": "      Bearer Id            Start  Start ms              End  End ms  \\\n0  1.311448e+19   4/4/2019 12:01     770.0  4/25/2019 14:35   662.0   \n1  1.311448e+19   4/9/2019 13:04     235.0   4/25/2019 8:15   606.0   \n2  1.311448e+19   4/9/2019 17:42       1.0  4/25/2019 11:58   652.0   \n3  1.311448e+19   4/10/2019 0:31     486.0   4/25/2019 7:36   171.0   \n4  1.311448e+19  4/12/2019 20:10     565.0  4/25/2019 10:40   954.0   \n\n   Dur. (ms)          IMSI  MSISDN/Number          IMEI  \\\n0  1823652.0  2.082014e+14   3.366496e+10  3.552121e+13   \n1  1365104.0  2.082019e+14   3.368185e+10  3.579401e+13   \n2  1361762.0  2.082003e+14   3.376063e+10  3.528151e+13   \n3  1321509.0  2.082014e+14   3.375034e+10  3.535661e+13   \n4  1089009.0  2.082014e+14   3.369980e+10  3.540701e+13   \n\n      Last Location Name  ...  Youtube DL (Bytes)  Youtube UL (Bytes)  \\\n0  9.16456699548519E+015  ...          15854611.0           2501332.0   \n1                L77566A  ...          20247395.0          19111729.0   \n2                D42335A  ...          19725661.0          14699576.0   \n3                T21824A  ...          21388122.0          15146643.0   \n4                D88865A  ...          15259380.0          18962873.0   \n\n   Netflix DL (Bytes)  Netflix UL (Bytes)  Gaming DL (Bytes)  \\\n0           8198936.0           9656251.0        278082303.0   \n1          18338413.0          17227132.0        608750074.0   \n2          17587794.0           6163408.0        229584621.0   \n3          13994646.0           1097942.0        799538153.0   \n4          17124581.0            415218.0        527707248.0   \n\n   Gaming UL (Bytes)  Other DL (Bytes)  Other UL (Bytes)  Total UL (Bytes)  \\\n0         14344150.0       171744450.0         8814393.0        36749741.0   \n1          1170709.0       526904238.0        15055145.0        53800391.0   \n2           395630.0       410692588.0         4215763.0        27883638.0   \n3         10849722.0       749039933.0        12797283.0        43324218.0   \n4          3529801.0       550709500.0        13910322.0        38542814.0   \n\n   Total DL (Bytes)  \n0       308879636.0  \n1       653384965.0  \n2       279807335.0  \n3       846028530.0  \n4       569138589.0  \n\n[5 rows x 55 columns]",
      "text/html": "<div>\n<style scoped>\n    .dataframe tbody tr th:only-of-type {\n        vertical-align: middle;\n    }\n\n    .dataframe tbody tr th {\n        vertical-align: top;\n    }\n\n    .dataframe thead th {\n        text-align: right;\n    }\n</style>\n<table border=\"1\" class=\"dataframe\">\n  <thead>\n    <tr style=\"text-align: right;\">\n      <th></th>\n      <th>Bearer Id</th>\n      <th>Start</th>\n      <th>Start ms</th>\n      <th>End</th>\n      <th>End ms</th>\n      <th>Dur. (ms)</th>\n      <th>IMSI</th>\n      <th>MSISDN/Number</th>\n      <th>IMEI</th>\n      <th>Last Location Name</th>\n      <th>...</th>\n      <th>Youtube DL (Bytes)</th>\n      <th>Youtube UL (Bytes)</th>\n      <th>Netflix DL (Bytes)</th>\n      <th>Netflix UL (Bytes)</th>\n      <th>Gaming DL (Bytes)</th>\n      <th>Gaming UL (Bytes)</th>\n      <th>Other DL (Bytes)</th>\n      <th>Other UL (Bytes)</th>\n      <th>Total UL (Bytes)</th>\n      <th>Total DL (Bytes)</th>\n    </tr>\n  </thead>\n  <tbody>\n    <tr>\n      <th>0</th>\n      <td>1.311448e+19</td>\n      <td>4/4/2019 12:01</td>\n      <td>770.0</td>\n      <td>4/25/2019 14:35</td>\n      <td>662.0</td>\n      <td>1823652.0</td>\n      <td>2.082014e+14</td>\n      <td>3.366496e+10</td>\n      <td>3.552121e+13</td>\n      <td>9.16456699548519E+015</td>\n      <td>...</td>\n      <td>15854611.0</td>\n      <td>2501332.0</td>\n      <td>8198936.0</td>\n      <td>9656251.0</td>\n      <td>278082303.0</td>\n      <td>14344150.0</td>\n      <td>171744450.0</td>\n      <td>8814393.0</td>\n      <td>36749741.0</td>\n      <td>308879636.0</td>\n    </tr>\n    <tr>\n      <th>1</th>\n      <td>1.311448e+19</td>\n      <td>4/9/2019 13:04</td>\n      <td>235.0</td>\n      <td>4/25/2019 8:15</td>\n      <td>606.0</td>\n      <td>1365104.0</td>\n      <td>2.082019e+14</td>\n      <td>3.368185e+10</td>\n      <td>3.579401e+13</td>\n      <td>L77566A</td>\n      <td>...</td>\n      <td>20247395.0</td>\n      <td>19111729.0</td>\n      <td>18338413.0</td>\n      <td>17227132.0</td>\n      <td>608750074.0</td>\n      <td>1170709.0</td>\n      <td>526904238.0</td>\n      <td>15055145.0</td>\n      <td>53800391.0</td>\n      <td>653384965.0</td>\n    </tr>\n    <tr>\n      <th>2</th>\n      <td>1.311448e+19</td>\n      <td>4/9/2019 17:42</td>\n      <td>1.0</td>\n      <td>4/25/2019 11:58</td>\n      <td>652.0</td>\n      <td>1361762.0</td>\n      <td>2.082003e+14</td>\n      <td>3.376063e+10</td>\n      <td>3.528151e+13</td>\n      <td>D42335A</td>\n      <td>...</td>\n      <td>19725661.0</td>\n      <td>14699576.0</td>\n      <td>17587794.0</td>\n      <td>6163408.0</td>\n      <td>229584621.0</td>\n      <td>395630.0</td>\n      <td>410692588.0</td>\n      <td>4215763.0</td>\n      <td>27883638.0</td>\n      <td>279807335.0</td>\n    </tr>\n    <tr>\n      <th>3</th>\n      <td>1.311448e+19</td>\n      <td>4/10/2019 0:31</td>\n      <td>486.0</td>\n      <td>4/25/2019 7:36</td>\n      <td>171.0</td>\n      <td>1321509.0</td>\n      <td>2.082014e+14</td>\n      <td>3.375034e+10</td>\n      <td>3.535661e+13</td>\n      <td>T21824A</td>\n      <td>...</td>\n      <td>21388122.0</td>\n      <td>15146643.0</td>\n      <td>13994646.0</td>\n      <td>1097942.0</td>\n      <td>799538153.0</td>\n      <td>10849722.0</td>\n      <td>749039933.0</td>\n      <td>12797283.0</td>\n      <td>43324218.0</td>\n      <td>846028530.0</td>\n    </tr>\n    <tr>\n      <th>4</th>\n      <td>1.311448e+19</td>\n      <td>4/12/2019 20:10</td>\n      <td>565.0</td>\n      <td>4/25/2019 10:40</td>\n      <td>954.0</td>\n      <td>1089009.0</td>\n      <td>2.082014e+14</td>\n      <td>3.369980e+10</td>\n      <td>3.540701e+13</td>\n      <td>D88865A</td>\n      <td>...</td>\n      <td>15259380.0</td>\n      <td>18962873.0</td>\n      <td>17124581.0</td>\n      <td>415218.0</td>\n      <td>527707248.0</td>\n      <td>3529801.0</td>\n      <td>550709500.0</td>\n      <td>13910322.0</td>\n      <td>38542814.0</td>\n      <td>569138589.0</td>\n    </tr>\n  </tbody>\n</table>\n<p>5 rows × 55 columns</p>\n</div>"
     },
     "execution_count": 5,
     "metadata": {},
     "output_type": "execute_result"
    }
   ],
   "source": [
    "df.head()"
   ],
   "metadata": {
    "collapsed": false,
    "ExecuteTime": {
     "end_time": "2024-04-27T09:34:11.503100Z",
     "start_time": "2024-04-27T09:34:11.484165Z"
    }
   },
   "id": "db3b84b14595efe1",
   "execution_count": 5
  },
  {
   "cell_type": "code",
   "outputs": [],
   "source": [
    "\n",
    "\n",
    "# Define the columns\n",
    "timestamp_cols = ['Start', 'End']\n",
    "numeric_features = df.select_dtypes(include=['int64', 'float64']).columns.tolist()\n",
    "categorical_features = ['IMSI', 'MSISDN/Number', 'IMEI', 'Last Location Name', 'Handset Type', 'Handset Manufacturer']\n",
    "\n",
    "# Preprocess the data\n",
    "df_preprocessed = preprocess_data(df, timestamp_cols, numeric_features, categorical_features, numeric_scaling=None)"
   ],
   "metadata": {
    "collapsed": false,
    "ExecuteTime": {
     "end_time": "2024-04-27T09:34:12.524412Z",
     "start_time": "2024-04-27T09:34:11.503842Z"
    }
   },
   "id": "13b05c14f0df48d5",
   "execution_count": 6
  },
  {
   "cell_type": "code",
   "outputs": [
    {
     "data": {
      "text/plain": "                Bearer Id Start ms End ms  Dur. (ms) Avg RTT DL (ms)  \\\n0  13114483460844900352.0    770.0  662.0  1823652.0            42.0   \n1  13114483482878900224.0    235.0  606.0  1365104.0            65.0   \n2  13114483484080500736.0      1.0  652.0  1361762.0      109.795706   \n3  13114483485442799616.0    486.0  171.0  1321509.0      109.795706   \n4  13114483499480700928.0    565.0  954.0  1089009.0      109.795706   \n\n  Avg RTT UL (ms) Avg Bearer TP DL (kbps) Avg Bearer TP UL (kbps)  \\\n0             5.0                    23.0                    44.0   \n1             5.0                    16.0                    26.0   \n2       17.662883                     6.0                     9.0   \n3       17.662883                    44.0                    44.0   \n4       17.662883                     6.0                     9.0   \n\n  TCP DL Retrans. Vol (Bytes) TCP UL Retrans. Vol (Bytes)  ...  \\\n0             20809914.270342               759658.664811  ...   \n1             20809914.270342               759658.664811  ...   \n2             20809914.270342               759658.664811  ...   \n3             20809914.270342               759658.664811  ...   \n4             20809914.270342               759658.664811  ...   \n\n  Other DL (Bytes) Other UL (Bytes) Total UL (Bytes) Total DL (Bytes)  \\\n0      171744450.0        8814393.0       36749741.0      308879636.0   \n1      526904238.0       15055145.0       53800391.0      653384965.0   \n2      410692588.0        4215763.0       27883638.0      279807335.0   \n3      749039933.0       12797283.0       43324218.0      846028530.0   \n4      550709500.0       13910322.0       38542814.0      569138589.0   \n\n                IMSI  MSISDN/Number              IMEI     Last Location Name  \\\n0  208201448079117.0  33664962239.0  35521209507511.0  9.16456699548519E+015   \n1  208201909211140.0  33681854413.0  35794009006359.0                L77566A   \n2  208200314458056.0  33760627129.0  35281510359387.0                D42335A   \n3  208201402342131.0  33750343200.0  35356610164913.0                T21824A   \n4  208201401415120.0  33699795932.0  35407009745539.0                D88865A   \n\n                  Handset Type Handset Manufacturer  \n0   Samsung Galaxy A5 Sm-A520F              Samsung  \n1  Samsung Galaxy J5 (Sm-J530)              Samsung  \n2     Samsung Galaxy A8 (2018)              Samsung  \n3             Huawei B528S-23A                Apple  \n4             Samsung Sm-G390F              Samsung  \n\n[5 rows x 53 columns]",
      "text/html": "<div>\n<style scoped>\n    .dataframe tbody tr th:only-of-type {\n        vertical-align: middle;\n    }\n\n    .dataframe tbody tr th {\n        vertical-align: top;\n    }\n\n    .dataframe thead th {\n        text-align: right;\n    }\n</style>\n<table border=\"1\" class=\"dataframe\">\n  <thead>\n    <tr style=\"text-align: right;\">\n      <th></th>\n      <th>Bearer Id</th>\n      <th>Start ms</th>\n      <th>End ms</th>\n      <th>Dur. (ms)</th>\n      <th>Avg RTT DL (ms)</th>\n      <th>Avg RTT UL (ms)</th>\n      <th>Avg Bearer TP DL (kbps)</th>\n      <th>Avg Bearer TP UL (kbps)</th>\n      <th>TCP DL Retrans. Vol (Bytes)</th>\n      <th>TCP UL Retrans. Vol (Bytes)</th>\n      <th>...</th>\n      <th>Other DL (Bytes)</th>\n      <th>Other UL (Bytes)</th>\n      <th>Total UL (Bytes)</th>\n      <th>Total DL (Bytes)</th>\n      <th>IMSI</th>\n      <th>MSISDN/Number</th>\n      <th>IMEI</th>\n      <th>Last Location Name</th>\n      <th>Handset Type</th>\n      <th>Handset Manufacturer</th>\n    </tr>\n  </thead>\n  <tbody>\n    <tr>\n      <th>0</th>\n      <td>13114483460844900352.0</td>\n      <td>770.0</td>\n      <td>662.0</td>\n      <td>1823652.0</td>\n      <td>42.0</td>\n      <td>5.0</td>\n      <td>23.0</td>\n      <td>44.0</td>\n      <td>20809914.270342</td>\n      <td>759658.664811</td>\n      <td>...</td>\n      <td>171744450.0</td>\n      <td>8814393.0</td>\n      <td>36749741.0</td>\n      <td>308879636.0</td>\n      <td>208201448079117.0</td>\n      <td>33664962239.0</td>\n      <td>35521209507511.0</td>\n      <td>9.16456699548519E+015</td>\n      <td>Samsung Galaxy A5 Sm-A520F</td>\n      <td>Samsung</td>\n    </tr>\n    <tr>\n      <th>1</th>\n      <td>13114483482878900224.0</td>\n      <td>235.0</td>\n      <td>606.0</td>\n      <td>1365104.0</td>\n      <td>65.0</td>\n      <td>5.0</td>\n      <td>16.0</td>\n      <td>26.0</td>\n      <td>20809914.270342</td>\n      <td>759658.664811</td>\n      <td>...</td>\n      <td>526904238.0</td>\n      <td>15055145.0</td>\n      <td>53800391.0</td>\n      <td>653384965.0</td>\n      <td>208201909211140.0</td>\n      <td>33681854413.0</td>\n      <td>35794009006359.0</td>\n      <td>L77566A</td>\n      <td>Samsung Galaxy J5 (Sm-J530)</td>\n      <td>Samsung</td>\n    </tr>\n    <tr>\n      <th>2</th>\n      <td>13114483484080500736.0</td>\n      <td>1.0</td>\n      <td>652.0</td>\n      <td>1361762.0</td>\n      <td>109.795706</td>\n      <td>17.662883</td>\n      <td>6.0</td>\n      <td>9.0</td>\n      <td>20809914.270342</td>\n      <td>759658.664811</td>\n      <td>...</td>\n      <td>410692588.0</td>\n      <td>4215763.0</td>\n      <td>27883638.0</td>\n      <td>279807335.0</td>\n      <td>208200314458056.0</td>\n      <td>33760627129.0</td>\n      <td>35281510359387.0</td>\n      <td>D42335A</td>\n      <td>Samsung Galaxy A8 (2018)</td>\n      <td>Samsung</td>\n    </tr>\n    <tr>\n      <th>3</th>\n      <td>13114483485442799616.0</td>\n      <td>486.0</td>\n      <td>171.0</td>\n      <td>1321509.0</td>\n      <td>109.795706</td>\n      <td>17.662883</td>\n      <td>44.0</td>\n      <td>44.0</td>\n      <td>20809914.270342</td>\n      <td>759658.664811</td>\n      <td>...</td>\n      <td>749039933.0</td>\n      <td>12797283.0</td>\n      <td>43324218.0</td>\n      <td>846028530.0</td>\n      <td>208201402342131.0</td>\n      <td>33750343200.0</td>\n      <td>35356610164913.0</td>\n      <td>T21824A</td>\n      <td>Huawei B528S-23A</td>\n      <td>Apple</td>\n    </tr>\n    <tr>\n      <th>4</th>\n      <td>13114483499480700928.0</td>\n      <td>565.0</td>\n      <td>954.0</td>\n      <td>1089009.0</td>\n      <td>109.795706</td>\n      <td>17.662883</td>\n      <td>6.0</td>\n      <td>9.0</td>\n      <td>20809914.270342</td>\n      <td>759658.664811</td>\n      <td>...</td>\n      <td>550709500.0</td>\n      <td>13910322.0</td>\n      <td>38542814.0</td>\n      <td>569138589.0</td>\n      <td>208201401415120.0</td>\n      <td>33699795932.0</td>\n      <td>35407009745539.0</td>\n      <td>D88865A</td>\n      <td>Samsung Sm-G390F</td>\n      <td>Samsung</td>\n    </tr>\n  </tbody>\n</table>\n<p>5 rows × 53 columns</p>\n</div>"
     },
     "execution_count": 7,
     "metadata": {},
     "output_type": "execute_result"
    }
   ],
   "source": [
    "df_preprocessed.head()"
   ],
   "metadata": {
    "collapsed": false,
    "ExecuteTime": {
     "end_time": "2024-04-27T09:34:12.535839Z",
     "start_time": "2024-04-27T09:34:12.525376Z"
    }
   },
   "id": "ff3c3b88f4bb4198",
   "execution_count": 7
  },
  {
   "cell_type": "code",
   "outputs": [
    {
     "data": {
      "text/plain": "Index(['Bearer Id', 'Start ms', 'End ms', 'Dur. (ms)', 'Avg RTT DL (ms)',\n       'Avg RTT UL (ms)', 'Avg Bearer TP DL (kbps)', 'Avg Bearer TP UL (kbps)',\n       'TCP DL Retrans. Vol (Bytes)', 'TCP UL Retrans. Vol (Bytes)',\n       'DL TP < 50 Kbps (%)', '50 Kbps < DL TP < 250 Kbps (%)',\n       '250 Kbps < DL TP < 1 Mbps (%)', 'DL TP > 1 Mbps (%)',\n       'UL TP < 10 Kbps (%)', '10 Kbps < UL TP < 50 Kbps (%)',\n       '50 Kbps < UL TP < 300 Kbps (%)', 'UL TP > 300 Kbps (%)',\n       'HTTP DL (Bytes)', 'HTTP UL (Bytes)', 'Activity Duration DL (ms)',\n       'Activity Duration UL (ms)', 'Dur. (ms).1',\n       'Nb of sec with 125000B < Vol DL',\n       'Nb of sec with 1250B < Vol UL < 6250B',\n       'Nb of sec with 31250B < Vol DL < 125000B',\n       'Nb of sec with 37500B < Vol UL',\n       'Nb of sec with 6250B < Vol DL < 31250B',\n       'Nb of sec with 6250B < Vol UL < 37500B',\n       'Nb of sec with Vol DL < 6250B', 'Nb of sec with Vol UL < 1250B',\n       'Social Media DL (Bytes)', 'Social Media UL (Bytes)',\n       'Google DL (Bytes)', 'Google UL (Bytes)', 'Email DL (Bytes)',\n       'Email UL (Bytes)', 'Youtube DL (Bytes)', 'Youtube UL (Bytes)',\n       'Netflix DL (Bytes)', 'Netflix UL (Bytes)', 'Gaming DL (Bytes)',\n       'Gaming UL (Bytes)', 'Other DL (Bytes)', 'Other UL (Bytes)',\n       'Total UL (Bytes)', 'Total DL (Bytes)', 'IMSI', 'MSISDN/Number', 'IMEI',\n       'Last Location Name', 'Handset Type', 'Handset Manufacturer'],\n      dtype='object')"
     },
     "execution_count": 6,
     "metadata": {},
     "output_type": "execute_result"
    }
   ],
   "source": [
    "df_preprocessed.columns"
   ],
   "metadata": {
    "collapsed": false,
    "ExecuteTime": {
     "end_time": "2024-04-27T08:58:59.250713Z",
     "start_time": "2024-04-27T08:58:59.246521Z"
    }
   },
   "id": "e908530ccc7a501c",
   "execution_count": 6
  },
  {
   "cell_type": "markdown",
   "source": [
    "# Save the preprocessed data"
   ],
   "metadata": {
    "collapsed": false
   },
   "id": "f304b164d94657e7"
  },
  {
   "cell_type": "code",
   "outputs": [],
   "source": [
    "# Save the preprocessed data\n",
    "from src.utils import save_data_to_db\n",
    "save_data_to_db(df_preprocessed, 'clean_data')"
   ],
   "metadata": {
    "collapsed": false,
    "ExecuteTime": {
     "end_time": "2024-04-27T09:35:02.308095Z",
     "start_time": "2024-04-27T09:34:31.150965Z"
    }
   },
   "id": "ea529847a3adf877",
   "execution_count": 8
  },
  {
   "cell_type": "code",
   "outputs": [],
   "source": [],
   "metadata": {
    "collapsed": false,
    "ExecuteTime": {
     "end_time": "2024-04-27T09:35:02.310506Z",
     "start_time": "2024-04-27T09:35:02.309079Z"
    }
   },
   "id": "df943e98e837ece1",
   "execution_count": 8
  },
  {
   "cell_type": "markdown",
   "source": [
    "# Task 4.1\n",
    "## Aggregate , per customer, the following information:\n",
    "- Average TCP retransmission\n",
    "- Average RTT\n",
    "- Handset type\n",
    "- Average throughput\n"
   ],
   "metadata": {
    "collapsed": false
   },
   "id": "1e75d65580c785bc"
  },
  {
   "cell_type": "code",
   "outputs": [],
   "source": [
    "# Group the data by 'MSISDN/Number' and calculate the mean of the specified columns\n",
    "df_grouped = df_preprocessed.groupby('MSISDN/Number').agg({\n",
    "    'TCP DL Retrans. Vol (Bytes)': 'mean',\n",
    "    'TCP UL Retrans. Vol (Bytes)': 'mean',\n",
    "    'Avg RTT DL (ms)': 'mean',\n",
    "    'Avg RTT UL (ms)': 'mean',\n",
    "    'Avg Bearer TP DL (kbps)': 'mean',\n",
    "    'Avg Bearer TP UL (kbps)': 'mean',\n",
    "})\n",
    "\n",
    "# Get the most frequent 'Handset Type' for each customer\n",
    "most_frequent_handset = df_preprocessed.groupby('MSISDN/Number')['Handset Type'].agg(lambda x: x.value_counts().index[0])"
   ],
   "metadata": {
    "collapsed": false,
    "ExecuteTime": {
     "end_time": "2024-04-27T09:35:57.061645Z",
     "start_time": "2024-04-27T09:35:02.311057Z"
    }
   },
   "id": "22ae742124d71622",
   "execution_count": 9
  },
  {
   "cell_type": "code",
   "outputs": [
    {
     "data": {
      "text/plain": "              TCP DL Retrans. Vol (Bytes) TCP UL Retrans. Vol (Bytes)  \\\nMSISDN/Number                                                           \n3.360100e+10              20809914.270342               759658.664811   \n3.360100e+10              20809914.270342               759658.664811   \n3.360100e+10              20809914.270342               759658.664811   \n3.360101e+10                       1066.0               759658.664811   \n3.360101e+10              15079772.135171               390430.332406   \n\n              Avg RTT DL (ms) Avg RTT UL (ms) Avg Bearer TP DL (kbps)  \\\nMSISDN/Number                                                           \n3.360100e+10             46.0             0.0                    37.0   \n3.360100e+10             30.0             1.0                    48.0   \n3.360100e+10       109.795706       17.662883                    48.0   \n3.360101e+10             69.0            15.0                   204.0   \n3.360101e+10             57.0             2.5                 20197.5   \n\n              Avg Bearer TP UL (kbps)                    Handset Type  \nMSISDN/Number                                                          \n3.360100e+10                     39.0  Huawei P20 Lite Huawei Nova 3E  \n3.360100e+10                     51.0          Apple iPhone 7 (A1778)  \n3.360100e+10                     49.0                Huawei B528S-23A  \n3.360101e+10                     44.0         Apple iPhone 5S (A1457)  \n3.360101e+10                   8224.5         Apple iPhone Se (A1723)  ",
      "text/html": "<div>\n<style scoped>\n    .dataframe tbody tr th:only-of-type {\n        vertical-align: middle;\n    }\n\n    .dataframe tbody tr th {\n        vertical-align: top;\n    }\n\n    .dataframe thead th {\n        text-align: right;\n    }\n</style>\n<table border=\"1\" class=\"dataframe\">\n  <thead>\n    <tr style=\"text-align: right;\">\n      <th></th>\n      <th>TCP DL Retrans. Vol (Bytes)</th>\n      <th>TCP UL Retrans. Vol (Bytes)</th>\n      <th>Avg RTT DL (ms)</th>\n      <th>Avg RTT UL (ms)</th>\n      <th>Avg Bearer TP DL (kbps)</th>\n      <th>Avg Bearer TP UL (kbps)</th>\n      <th>Handset Type</th>\n    </tr>\n    <tr>\n      <th>MSISDN/Number</th>\n      <th></th>\n      <th></th>\n      <th></th>\n      <th></th>\n      <th></th>\n      <th></th>\n      <th></th>\n    </tr>\n  </thead>\n  <tbody>\n    <tr>\n      <th>3.360100e+10</th>\n      <td>20809914.270342</td>\n      <td>759658.664811</td>\n      <td>46.0</td>\n      <td>0.0</td>\n      <td>37.0</td>\n      <td>39.0</td>\n      <td>Huawei P20 Lite Huawei Nova 3E</td>\n    </tr>\n    <tr>\n      <th>3.360100e+10</th>\n      <td>20809914.270342</td>\n      <td>759658.664811</td>\n      <td>30.0</td>\n      <td>1.0</td>\n      <td>48.0</td>\n      <td>51.0</td>\n      <td>Apple iPhone 7 (A1778)</td>\n    </tr>\n    <tr>\n      <th>3.360100e+10</th>\n      <td>20809914.270342</td>\n      <td>759658.664811</td>\n      <td>109.795706</td>\n      <td>17.662883</td>\n      <td>48.0</td>\n      <td>49.0</td>\n      <td>Huawei B528S-23A</td>\n    </tr>\n    <tr>\n      <th>3.360101e+10</th>\n      <td>1066.0</td>\n      <td>759658.664811</td>\n      <td>69.0</td>\n      <td>15.0</td>\n      <td>204.0</td>\n      <td>44.0</td>\n      <td>Apple iPhone 5S (A1457)</td>\n    </tr>\n    <tr>\n      <th>3.360101e+10</th>\n      <td>15079772.135171</td>\n      <td>390430.332406</td>\n      <td>57.0</td>\n      <td>2.5</td>\n      <td>20197.5</td>\n      <td>8224.5</td>\n      <td>Apple iPhone Se (A1723)</td>\n    </tr>\n  </tbody>\n</table>\n</div>"
     },
     "execution_count": 10,
     "metadata": {},
     "output_type": "execute_result"
    }
   ],
   "source": [
    "# Add the most frequent 'Handset Type' to the grouped data\n",
    "df_grouped['Handset Type'] = most_frequent_handset\n",
    "\n",
    "df_grouped.head()"
   ],
   "metadata": {
    "collapsed": false,
    "ExecuteTime": {
     "end_time": "2024-04-27T09:35:57.073136Z",
     "start_time": "2024-04-27T09:35:57.062680Z"
    }
   },
   "id": "a8ea19dfaa114e20",
   "execution_count": 10
  },
  {
   "cell_type": "markdown",
   "source": [
    "# Task 4.2\n",
    "Compute & list 10 of the top, bottom and most frequent:\n",
    "- TCP values in the dataset. \n",
    "- RTT values in the dataset.\n",
    "- Throughput values in the dataset.\n"
   ],
   "metadata": {
    "collapsed": false
   },
   "id": "d6a50d2e1eec9e23"
  },
  {
   "cell_type": "code",
   "outputs": [
    {
     "name": "stdout",
     "output_type": "stream",
     "text": [
      "Column: TCP DL Retrans. Vol (Bytes)\n",
      "Top 10 values:\n",
      "77979     4.294426e+09\n",
      "135678    4.291380e+09\n",
      "34645     4.289877e+09\n",
      "140813    4.289488e+09\n",
      "3782      4.288060e+09\n",
      "119684    4.275259e+09\n",
      "39637     4.268432e+09\n",
      "76990     4.259997e+09\n",
      "59016     4.256650e+09\n",
      "41209     4.254644e+09\n",
      "Name: TCP DL Retrans. Vol (Bytes), dtype: float64\n",
      "Bottom 10 values:\n",
      "59717     2.0\n",
      "125094    2.0\n",
      "2850      4.0\n",
      "39610     4.0\n",
      "52488     4.0\n",
      "60376     4.0\n",
      "60426     4.0\n",
      "75093     4.0\n",
      "100314    4.0\n",
      "143429    4.0\n",
      "Name: TCP DL Retrans. Vol (Bytes), dtype: float64\n",
      "Most frequent 10 values:\n",
      "TCP DL Retrans. Vol (Bytes)\n",
      "2.080991e+07    88146\n",
      "1.330000e+03      433\n",
      "2.660000e+03      219\n",
      "3.800000e+01      200\n",
      "9.200000e+01      192\n",
      "1.318000e+03      156\n",
      "5.430000e+02      133\n",
      "3.990000e+03      114\n",
      "7.600000e+01      108\n",
      "5.320000e+03      102\n",
      "Name: count, dtype: int64\n",
      "\n",
      "\n",
      "Column: TCP UL Retrans. Vol (Bytes)\n",
      "Top 10 values:\n",
      "36203     2.908226e+09\n",
      "76641     2.636857e+09\n",
      "67308     2.455600e+09\n",
      "1505      2.260359e+09\n",
      "133265    1.751384e+09\n",
      "35138     1.727810e+09\n",
      "142220    1.237862e+09\n",
      "142432    7.948258e+08\n",
      "66072     7.195718e+08\n",
      "1381      5.262463e+08\n",
      "Name: TCP UL Retrans. Vol (Bytes), dtype: float64\n",
      "Bottom 10 values:\n",
      "13275     1.0\n",
      "15253     1.0\n",
      "36086     1.0\n",
      "38407     1.0\n",
      "75087     1.0\n",
      "78703     1.0\n",
      "90223     1.0\n",
      "124053    1.0\n",
      "138837    1.0\n",
      "139021    1.0\n",
      "Name: TCP UL Retrans. Vol (Bytes), dtype: float64\n",
      "Most frequent 10 values:\n",
      "TCP UL Retrans. Vol (Bytes)\n",
      "759658.664811    96649\n",
      "1330.000000       1910\n",
      "2660.000000        937\n",
      "1294.000000        651\n",
      "3990.000000        548\n",
      "1318.000000        545\n",
      "5320.000000        366\n",
      "6650.000000        271\n",
      "2636.000000        234\n",
      "7980.000000        219\n",
      "Name: count, dtype: int64\n",
      "\n",
      "\n",
      "Column: Avg RTT DL (ms)\n",
      "Top 10 values:\n",
      "30166     96923.0\n",
      "29927     64640.0\n",
      "17910     55811.0\n",
      "5989      54847.0\n",
      "22851     26971.0\n",
      "23455     26250.0\n",
      "1373      25873.0\n",
      "81274     25602.0\n",
      "97321     25374.0\n",
      "100584    24733.0\n",
      "Name: Avg RTT DL (ms), dtype: float64\n",
      "Bottom 10 values:\n",
      "42612     0.0\n",
      "52225     0.0\n",
      "60152     0.0\n",
      "61152     0.0\n",
      "61345     0.0\n",
      "103328    0.0\n",
      "124544    0.0\n",
      "142526    0.0\n",
      "143878    0.0\n",
      "71739     2.0\n",
      "Name: Avg RTT DL (ms), dtype: float64\n",
      "Most frequent 10 values:\n",
      "Avg RTT DL (ms)\n",
      "109.795706    27829\n",
      "28.000000      3553\n",
      "27.000000      3380\n",
      "34.000000      3296\n",
      "35.000000      2892\n",
      "37.000000      2718\n",
      "36.000000      2645\n",
      "38.000000      2547\n",
      "29.000000      2498\n",
      "26.000000      2488\n",
      "Name: count, dtype: int64\n",
      "\n",
      "\n",
      "Column: Avg RTT UL (ms)\n",
      "Top 10 values:\n",
      "20027     7120.0\n",
      "132558    5607.0\n",
      "85020     5422.0\n",
      "184       5279.0\n",
      "95353     4677.0\n",
      "42107     4226.0\n",
      "49599     4021.0\n",
      "137955    3923.0\n",
      "124795    3093.0\n",
      "46001     3029.0\n",
      "Name: Avg RTT UL (ms), dtype: float64\n",
      "Bottom 10 values:\n",
      "54     0.0\n",
      "99     0.0\n",
      "176    0.0\n",
      "187    0.0\n",
      "301    0.0\n",
      "344    0.0\n",
      "367    0.0\n",
      "401    0.0\n",
      "501    0.0\n",
      "505    0.0\n",
      "Name: Avg RTT UL (ms), dtype: float64\n",
      "Most frequent 10 values:\n",
      "Avg RTT UL (ms)\n",
      "17.662883    27812\n",
      "5.000000     14663\n",
      "2.000000     14277\n",
      "1.000000     12826\n",
      "4.000000     10242\n",
      "3.000000      7935\n",
      "6.000000      7518\n",
      "7.000000      4196\n",
      "0.000000      4126\n",
      "8.000000      3209\n",
      "Name: count, dtype: int64\n",
      "\n",
      "\n",
      "Column: Avg Bearer TP DL (kbps)\n",
      "Top 10 values:\n",
      "120890    378160.0\n",
      "141262    299257.0\n",
      "143670    299002.0\n",
      "149617    276040.0\n",
      "92193     269362.0\n",
      "117791    266332.0\n",
      "115850    265440.0\n",
      "89577     264448.0\n",
      "116565    263047.0\n",
      "41576     254253.0\n",
      "Name: Avg Bearer TP DL (kbps), dtype: float64\n",
      "Bottom 10 values:\n",
      "13      0.0\n",
      "149     0.0\n",
      "364     0.0\n",
      "546     0.0\n",
      "618     0.0\n",
      "679     0.0\n",
      "756     0.0\n",
      "809     0.0\n",
      "893     0.0\n",
      "1185    0.0\n",
      "Name: Avg Bearer TP DL (kbps), dtype: float64\n",
      "Most frequent 10 values:\n",
      "Avg Bearer TP DL (kbps)\n",
      "23.0    7324\n",
      "43.0    4352\n",
      "44.0    4186\n",
      "6.0     3983\n",
      "22.0    2867\n",
      "48.0    2778\n",
      "63.0    2757\n",
      "42.0    2689\n",
      "45.0    2644\n",
      "47.0    2263\n",
      "Name: count, dtype: int64\n",
      "\n",
      "\n",
      "Column: Avg Bearer TP UL (kbps)\n",
      "Top 10 values:\n",
      "92379     58613.0\n",
      "5926      57792.0\n",
      "137168    57750.0\n",
      "116895    57006.0\n",
      "99297     56763.0\n",
      "91313     54032.0\n",
      "45409     53572.0\n",
      "9283      52640.0\n",
      "91621     52084.0\n",
      "124763    51562.0\n",
      "Name: Avg Bearer TP UL (kbps), dtype: float64\n",
      "Bottom 10 values:\n",
      "127     0.0\n",
      "149     0.0\n",
      "337     0.0\n",
      "364     0.0\n",
      "605     0.0\n",
      "618     0.0\n",
      "756     0.0\n",
      "1131    0.0\n",
      "1151    0.0\n",
      "1164    0.0\n",
      "Name: Avg Bearer TP UL (kbps), dtype: float64\n",
      "Most frequent 10 values:\n",
      "Avg Bearer TP UL (kbps)\n",
      "40.0    7794\n",
      "54.0    6344\n",
      "47.0    5840\n",
      "53.0    4835\n",
      "9.0     3812\n",
      "52.0    3786\n",
      "51.0    3646\n",
      "44.0    3366\n",
      "46.0    3216\n",
      "55.0    2871\n",
      "Name: count, dtype: int64\n"
     ]
    }
   ],
   "source": [
    "import pandas as pd\n",
    "\n",
    "# Define the columns to analyze\n",
    "columns_to_analyze = ['TCP DL Retrans. Vol (Bytes)', 'TCP UL Retrans. Vol (Bytes)', 'Avg RTT DL (ms)', 'Avg RTT UL (ms)', 'Avg Bearer TP DL (kbps)', 'Avg Bearer TP UL (kbps)']\n",
    "\n",
    "# Convert the columns to numeric data type\n",
    "for column in columns_to_analyze:\n",
    "    df_preprocessed[column] = pd.to_numeric(df_preprocessed[column], errors='coerce')\n",
    "\n",
    "# Now try to print the top 10, bottom 10, and most frequent 10 values again\n",
    "for column in columns_to_analyze:\n",
    "    if df_preprocessed[column].dtype != 'object':\n",
    "        print(f\"Column: {column}\")\n",
    "        print(\"Top 10 values:\")\n",
    "        print(df_preprocessed[column].nlargest(10))\n",
    "        print(\"Bottom 10 values:\")\n",
    "        print(df_preprocessed[column].nsmallest(10))\n",
    "        print(\"Most frequent 10 values:\")\n",
    "        print(df_preprocessed[column].value_counts().nlargest(10))\n",
    "        print(\"\\n\")"
   ],
   "metadata": {
    "collapsed": false,
    "ExecuteTime": {
     "end_time": "2024-04-27T09:36:01.570769Z",
     "start_time": "2024-04-27T09:36:01.433374Z"
    }
   },
   "id": "5a6a4eebde534421",
   "execution_count": 11
  },
  {
   "cell_type": "code",
   "outputs": [],
   "source": [],
   "metadata": {
    "collapsed": false
   },
   "id": "d1b27020725bae8b"
  }
 ],
 "metadata": {
  "kernelspec": {
   "display_name": "Python 3",
   "language": "python",
   "name": "python3"
  },
  "language_info": {
   "codemirror_mode": {
    "name": "ipython",
    "version": 2
   },
   "file_extension": ".py",
   "mimetype": "text/x-python",
   "name": "python",
   "nbconvert_exporter": "python",
   "pygments_lexer": "ipython2",
   "version": "2.7.6"
  }
 },
 "nbformat": 4,
 "nbformat_minor": 5
}
